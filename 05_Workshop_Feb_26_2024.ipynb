{
  "nbformat": 4,
  "nbformat_minor": 0,
  "metadata": {
    "colab": {
      "provenance": [],
      "authorship_tag": "ABX9TyOGIiptVEce/dSX5TQ64Lzd",
      "include_colab_link": true
    },
    "kernelspec": {
      "name": "python3",
      "display_name": "Python 3"
    },
    "language_info": {
      "name": "python"
    }
  },
  "cells": [
    {
      "cell_type": "markdown",
      "metadata": {
        "id": "view-in-github",
        "colab_type": "text"
      },
      "source": [
        "<a href=\"https://colab.research.google.com/github/ua-datalab/DataEngineering/blob/main/05_Workshop_Feb_26_2024.ipynb\" target=\"_parent\"><img src=\"https://colab.research.google.com/assets/colab-badge.svg\" alt=\"Open In Colab\"/></a>"
      ]
    },
    {
      "cell_type": "code",
      "execution_count": null,
      "metadata": {
        "id": "-BX4WDRwgHrX"
      },
      "outputs": [],
      "source": [
        "'LwCsvBYaEo9n9aDD'"
      ]
    },
    {
      "cell_type": "code",
      "source": [
        "!pip install pymongo[srv]==3.10.1"
      ],
      "metadata": {
        "colab": {
          "base_uri": "https://localhost:8080/"
        },
        "id": "em72snq-hZlh",
        "outputId": "4ac44364-1403-4a6c-8822-afff9b1f294f"
      },
      "execution_count": null,
      "outputs": [
        {
          "output_type": "stream",
          "name": "stdout",
          "text": [
            "Collecting pymongo[srv]==3.10.1\n",
            "  Downloading pymongo-3.10.1.tar.gz (715 kB)\n",
            "\u001b[2K     \u001b[90m━━━━━━━━━━━━━━━━━━━━━━━━━━━━━━━━━━━━━━━━\u001b[0m \u001b[32m715.9/715.9 kB\u001b[0m \u001b[31m9.7 MB/s\u001b[0m eta \u001b[36m0:00:00\u001b[0m\n",
            "\u001b[?25h  Preparing metadata (setup.py) ... \u001b[?25l\u001b[?25hdone\n",
            "Collecting dnspython<2.0.0,>=1.16.0 (from pymongo[srv]==3.10.1)\n",
            "  Downloading dnspython-1.16.0-py2.py3-none-any.whl (188 kB)\n",
            "\u001b[2K     \u001b[90m━━━━━━━━━━━━━━━━━━━━━━━━━━━━━━━━━━━━━━━━\u001b[0m \u001b[32m188.4/188.4 kB\u001b[0m \u001b[31m15.9 MB/s\u001b[0m eta \u001b[36m0:00:00\u001b[0m\n",
            "\u001b[?25hBuilding wheels for collected packages: pymongo\n",
            "  Building wheel for pymongo (setup.py) ... \u001b[?25l\u001b[?25hdone\n",
            "  Created wheel for pymongo: filename=pymongo-3.10.1-cp310-cp310-linux_x86_64.whl size=462806 sha256=8e0487e9e02d610e08b2eddf2f35f48ded86edf2882560265238b0c2c2dccb4b\n",
            "  Stored in directory: /root/.cache/pip/wheels/29/ff/28/8624f4571ee5e095adb4057078b7bfc1d44d5d0a158d4f24bb\n",
            "Successfully built pymongo\n",
            "Installing collected packages: pymongo, dnspython\n",
            "Successfully installed dnspython-1.16.0 pymongo-3.10.1\n"
          ]
        }
      ]
    },
    {
      "cell_type": "code",
      "source": [
        "!pip install python-dotenv==0.13.0"
      ],
      "metadata": {
        "colab": {
          "base_uri": "https://localhost:8080/"
        },
        "id": "70KZn-fnhjGc",
        "outputId": "e3fc0a08-7ea1-4ffb-d927-62aa5bb3f796"
      },
      "execution_count": null,
      "outputs": [
        {
          "output_type": "stream",
          "name": "stdout",
          "text": [
            "Collecting python-dotenv==0.13.0\n",
            "  Downloading python_dotenv-0.13.0-py2.py3-none-any.whl (17 kB)\n",
            "Installing collected packages: python-dotenv\n",
            "Successfully installed python-dotenv-0.13.0\n"
          ]
        }
      ]
    },
    {
      "cell_type": "code",
      "source": [
        "import datetime   # This will be needed later\n",
        "import os\n",
        "\n",
        "from dotenv import load_dotenv\n",
        "from pymongo import MongoClient\n",
        "\n",
        "# Load config from a .env file:\n",
        "load_dotenv()\n",
        "MONGODB_URI = os.environ['MONGODB_URI']\n",
        "\n",
        "# Connect to your MongoDB cluster:\n",
        "client = MongoClient(MONGODB_URI)\n",
        "\n",
        "# List all the databases in the cluster:\n",
        "for db_info in client.list_database_names():\n",
        "   print(db_info)"
      ],
      "metadata": {
        "id": "fM4vfar5mxlh"
      },
      "execution_count": null,
      "outputs": []
    }
  ]
}
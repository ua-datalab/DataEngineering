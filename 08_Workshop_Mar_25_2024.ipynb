{
  "nbformat": 4,
  "nbformat_minor": 0,
  "metadata": {
    "colab": {
      "provenance": [],
      "authorship_tag": "ABX9TyMz7tryqysH/+VrpSRa0f86",
      "include_colab_link": true
    },
    "kernelspec": {
      "name": "python3",
      "display_name": "Python 3"
    },
    "language_info": {
      "name": "python"
    }
  },
  "cells": [
    {
      "cell_type": "markdown",
      "metadata": {
        "id": "view-in-github",
        "colab_type": "text"
      },
      "source": [
        "<a href=\"https://colab.research.google.com/github/ua-datalab/DataEngineering/blob/main/08_Workshop_Mar_25_2024.ipynb\" target=\"_parent\"><img src=\"https://colab.research.google.com/assets/colab-badge.svg\" alt=\"Open In Colab\"/></a>"
      ]
    },
    {
      "cell_type": "markdown",
      "source": [
        "# **Pyspark tutorial**"
      ],
      "metadata": {
        "id": "T8wch7c7VwXg"
      }
    },
    {
      "cell_type": "markdown",
      "source": [
        "## downloading the data required"
      ],
      "metadata": {
        "id": "A5F2TILTV5yR"
      }
    },
    {
      "cell_type": "code",
      "source": [
        "!wget --content-disposition https://arizona.box.com/shared/static/wzdjih2sfu4gxszmfhadkislj3ox4elt.zip"
      ],
      "metadata": {
        "id": "NV2o_22iVw04"
      },
      "execution_count": null,
      "outputs": []
    },
    {
      "cell_type": "markdown",
      "source": [
        "## unzip the zip file which contains the csvs"
      ],
      "metadata": {
        "id": "A0CvapAEV_VK"
      }
    },
    {
      "cell_type": "code",
      "source": [
        "!unzip  /content/pyspark_data.zip"
      ],
      "metadata": {
        "colab": {
          "base_uri": "https://localhost:8080/"
        },
        "id": "QOt5v6zCFICN",
        "outputId": "cbc90f47-b72a-401d-cdb6-35694a571fe6"
      },
      "execution_count": 3,
      "outputs": [
        {
          "output_type": "stream",
          "name": "stdout",
          "text": [
            "Archive:  /content/pyspark_data.zip\n",
            "  inflating: immunizations.csv       \n",
            "  inflating: medications.csv         \n",
            "  inflating: observations.csv        \n",
            "  inflating: patients.csv            \n"
          ]
        }
      ]
    },
    {
      "cell_type": "markdown",
      "source": [],
      "metadata": {
        "id": "YnRVKjjsWH8D"
      }
    },
    {
      "cell_type": "code",
      "source": [
        "!apt-get install openjdk-11-jdk-headless -qq > /dev/null"
      ],
      "metadata": {
        "id": "5wR-eMhoE0t8"
      },
      "execution_count": 4,
      "outputs": []
    },
    {
      "cell_type": "markdown",
      "source": [
        "## Download spark"
      ],
      "metadata": {
        "id": "jjmKjmUfXROJ"
      }
    },
    {
      "cell_type": "code",
      "source": [
        "!wget -q https://downloads.apache.org/spark/spark-3.5.1/spark-3.5.1-bin-hadoop3.tgz"
      ],
      "metadata": {
        "id": "wZ52U3YSXSa9"
      },
      "execution_count": 5,
      "outputs": []
    },
    {
      "cell_type": "markdown",
      "source": [
        "## spark extraction"
      ],
      "metadata": {
        "id": "JAgDxTUYWNdE"
      }
    },
    {
      "cell_type": "code",
      "source": [
        "!tar xf spark-3.5.1-bin-hadoop3.tgz"
      ],
      "metadata": {
        "id": "HBCPTWeWVrUv"
      },
      "execution_count": 6,
      "outputs": []
    },
    {
      "cell_type": "code",
      "source": [
        "# Install PySpark\n",
        "!pip install -q pyspark"
      ],
      "metadata": {
        "colab": {
          "base_uri": "https://localhost:8080/"
        },
        "id": "tPLbqixfYGjp",
        "outputId": "f9968003-a3da-4a12-ebba-4acaccf52c4c"
      },
      "execution_count": 7,
      "outputs": [
        {
          "output_type": "stream",
          "name": "stdout",
          "text": [
            "\u001b[2K     \u001b[90m━━━━━━━━━━━━━━━━━━━━━━━━━━━━━━━━━━━━━━━━\u001b[0m \u001b[32m317.0/317.0 MB\u001b[0m \u001b[31m4.3 MB/s\u001b[0m eta \u001b[36m0:00:00\u001b[0m\n",
            "\u001b[?25h  Preparing metadata (setup.py) ... \u001b[?25l\u001b[?25hdone\n",
            "  Building wheel for pyspark (setup.py) ... \u001b[?25l\u001b[?25hdone\n"
          ]
        }
      ]
    },
    {
      "cell_type": "markdown",
      "source": [
        "## initialize libraries and locations"
      ],
      "metadata": {
        "id": "t7oxydUCWQPD"
      }
    },
    {
      "cell_type": "code",
      "source": [
        "import os\n",
        "\n",
        "# Set the location of Java and Spark\n",
        "os.environ[\"JAVA_HOME\"] = \"/usr/lib/jvm/java-11-openjdk-amd64\"\n",
        "os.environ[\"SPARK_HOME\"] = \"/content/spark-3.5.1-bin-hadoop3\"\n",
        "\n",
        "from pyspark.sql import SparkSession\n",
        "\n",
        "# Initialize SparkSession\n",
        "spark = SparkSession.builder.master(\"local[*]\").appName(\"PySpark 3.5.1 Tutorial\").getOrCreate()\n"
      ],
      "metadata": {
        "id": "-UWqgHlzVrYj"
      },
      "execution_count": 8,
      "outputs": []
    },
    {
      "cell_type": "markdown",
      "source": [
        "## load CSVs"
      ],
      "metadata": {
        "id": "_-J2ZY9HWW4s"
      }
    },
    {
      "cell_type": "code",
      "source": [
        "\n",
        "patients_df = spark.read.csv(\"/content/patients.csv\", header=True, inferSchema=True)\n",
        "medications_df = spark.read.csv(\"/content/medications.csv\", header=True, inferSchema=True)\n",
        "immunizations_df = spark.read.csv(\"/content/immunizations.csv\", header=True, inferSchema=True)\n",
        "observations_df = spark.read.csv(\"/content/observations.csv\", header=True, inferSchema=True)\n"
      ],
      "metadata": {
        "id": "GkIQExXBVrgI"
      },
      "execution_count": 11,
      "outputs": []
    },
    {
      "cell_type": "markdown",
      "source": [
        "## DataFrame Exploration"
      ],
      "metadata": {
        "id": "w_OI6jNrQfHt"
      }
    },
    {
      "cell_type": "code",
      "source": [
        "# Print the schema of each DataFrame\n",
        "patients_df.printSchema()\n",
        "medications_df.printSchema()\n",
        "immunizations_df.printSchema()\n",
        "observations_df.printSchema()"
      ],
      "metadata": {
        "colab": {
          "base_uri": "https://localhost:8080/"
        },
        "id": "c1Vi9GEKKXUz",
        "outputId": "7b2fac5d-f1f9-4ac9-afd6-b5bd6ea03896"
      },
      "execution_count": 18,
      "outputs": [
        {
          "output_type": "stream",
          "name": "stdout",
          "text": [
            "root\n",
            " |-- Id: string (nullable = true)\n",
            " |-- BIRTHDATE: date (nullable = true)\n",
            " |-- DEATHDATE: date (nullable = true)\n",
            " |-- SSN: string (nullable = true)\n",
            " |-- DRIVERS: string (nullable = true)\n",
            " |-- PASSPORT: string (nullable = true)\n",
            " |-- PREFIX: string (nullable = true)\n",
            " |-- FIRST: string (nullable = true)\n",
            " |-- LAST: string (nullable = true)\n",
            " |-- SUFFIX: string (nullable = true)\n",
            " |-- MAIDEN: string (nullable = true)\n",
            " |-- MARITAL: string (nullable = true)\n",
            " |-- RACE: string (nullable = true)\n",
            " |-- ETHNICITY: string (nullable = true)\n",
            " |-- GENDER: string (nullable = true)\n",
            " |-- BIRTHPLACE: string (nullable = true)\n",
            " |-- ADDRESS: string (nullable = true)\n",
            " |-- CITY: string (nullable = true)\n",
            " |-- STATE: string (nullable = true)\n",
            " |-- COUNTY: string (nullable = true)\n",
            " |-- ZIP: integer (nullable = true)\n",
            " |-- LAT: double (nullable = true)\n",
            " |-- LON: double (nullable = true)\n",
            " |-- HEALTHCARE_EXPENSES: double (nullable = true)\n",
            " |-- HEALTHCARE_COVERAGE: double (nullable = true)\n",
            "\n",
            "root\n",
            " |-- START: date (nullable = true)\n",
            " |-- STOP: date (nullable = true)\n",
            " |-- PATIENT: string (nullable = true)\n",
            " |-- PAYER: string (nullable = true)\n",
            " |-- ENCOUNTER: string (nullable = true)\n",
            " |-- CODE: integer (nullable = true)\n",
            " |-- DESCRIPTION: string (nullable = true)\n",
            " |-- BASE_COST: double (nullable = true)\n",
            " |-- PAYER_COVERAGE: double (nullable = true)\n",
            " |-- DISPENSES: integer (nullable = true)\n",
            " |-- TOTALCOST: double (nullable = true)\n",
            " |-- REASONCODE: long (nullable = true)\n",
            " |-- REASONDESCRIPTION: string (nullable = true)\n",
            "\n",
            "root\n",
            " |-- DATE: date (nullable = true)\n",
            " |-- PATIENT: string (nullable = true)\n",
            " |-- ENCOUNTER: string (nullable = true)\n",
            " |-- CODE: integer (nullable = true)\n",
            " |-- DESCRIPTION: string (nullable = true)\n",
            " |-- BASE_COST: double (nullable = true)\n",
            "\n",
            "root\n",
            " |-- DATE: date (nullable = true)\n",
            " |-- PATIENT: string (nullable = true)\n",
            " |-- ENCOUNTER: string (nullable = true)\n",
            " |-- CODE: string (nullable = true)\n",
            " |-- DESCRIPTION: string (nullable = true)\n",
            " |-- VALUE: string (nullable = true)\n",
            " |-- UNITS: string (nullable = true)\n",
            " |-- TYPE: string (nullable = true)\n",
            "\n"
          ]
        }
      ]
    },
    {
      "cell_type": "code",
      "source": [
        "patients_df"
      ],
      "metadata": {
        "colab": {
          "base_uri": "https://localhost:8080/"
        },
        "id": "iRlY7GD6KEth",
        "outputId": "3e24c2df-6682-4cba-cd09-76f280e1d953"
      },
      "execution_count": 14,
      "outputs": [
        {
          "output_type": "execute_result",
          "data": {
            "text/plain": [
              "DataFrame[Id: string, BIRTHDATE: date, DEATHDATE: date, SSN: string, DRIVERS: string, PASSPORT: string, PREFIX: string, FIRST: string, LAST: string, SUFFIX: string, MAIDEN: string, MARITAL: string, RACE: string, ETHNICITY: string, GENDER: string, BIRTHPLACE: string, ADDRESS: string, CITY: string, STATE: string, COUNTY: string, ZIP: int, LAT: double, LON: double, HEALTHCARE_EXPENSES: double, HEALTHCARE_COVERAGE: double]"
            ]
          },
          "metadata": {},
          "execution_count": 14
        }
      ]
    },
    {
      "cell_type": "code",
      "source": [
        "patients_df.show(10)"
      ],
      "metadata": {
        "id": "zxZzjFarVriu",
        "colab": {
          "base_uri": "https://localhost:8080/"
        },
        "outputId": "f65ff1e2-cf96-484b-f9f4-569a7800fe89"
      },
      "execution_count": 19,
      "outputs": [
        {
          "output_type": "stream",
          "name": "stdout",
          "text": [
            "+--------------------+----------+---------+-----------+---------+----------+------+---------------+--------------+------+-----------+-------+-----+-----------+------+--------------------+--------------------+-----------+-------------+----------------+----+------------------+------------------+-------------------+-------------------+\n",
            "|                  Id| BIRTHDATE|DEATHDATE|        SSN|  DRIVERS|  PASSPORT|PREFIX|          FIRST|          LAST|SUFFIX|     MAIDEN|MARITAL| RACE|  ETHNICITY|GENDER|          BIRTHPLACE|             ADDRESS|       CITY|        STATE|          COUNTY| ZIP|               LAT|               LON|HEALTHCARE_EXPENSES|HEALTHCARE_COVERAGE|\n",
            "+--------------------+----------+---------+-----------+---------+----------+------+---------------+--------------+------+-----------+-------+-----+-----------+------+--------------------+--------------------+-----------+-------------+----------------+----+------------------+------------------+-------------------+-------------------+\n",
            "|1ff7f10f-a204-4bb...|2017-08-24|     NULL|999-68-6630|     NULL|      NULL|  NULL|     Jacinto644|       Kris249|  NULL|       NULL|   NULL|white|nonhispanic|     M|Beverly  Massachu...|888 Hickle Ferry ...|Springfield|Massachusetts|  Hampden County|1106|42.151961474963535|-72.59895940376188|            8446.49|            1499.08|\n",
            "|9bcf6ed5-d808-44a...|2016-08-01|     NULL|999-15-5895|     NULL|      NULL|  NULL|        Alva958|    Krajcik437|  NULL|       NULL|   NULL|white|nonhispanic|     F|Boston  Massachus...| 1048 Skiles Trailer|    Walpole|Massachusetts|  Norfolk County|2081|42.177370220648726|-71.28135315860652|            94568.4| 1870.7199999999998|\n",
            "|5163c501-353c-4a8...|2004-01-09|     NULL|999-73-2461|S99999063|      NULL|  NULL|       Jimmie93|     Harris789|  NULL|       NULL|   NULL|white|nonhispanic|     F|Worcester  Massac...|201 Mitchell Lodg...|   Pembroke|Massachusetts| Plymouth County|NULL| 42.07529152717956|-70.75703466334431|          375754.62|            3131.44|\n",
            "|cc3c806f-4a09-4a8...|1996-11-15|     NULL|999-60-7372|S99924941| X9952947X|   Mr.|    Gregorio366|        Auer97|  NULL|       NULL|   NULL|white|nonhispanic|     M|  Patras  Achaea  GR|1050 Lindgren Ext...|     Boston|Massachusetts|  Suffolk County|2135| 42.35243426303177|-71.02861042115062|          484758.46| 3632.9599999999996|\n",
            "|bd1c4ffc-7f1d-459...|2019-06-12|     NULL|999-81-4349|     NULL|      NULL|  NULL|       Karyn217|    Mueller846|  NULL|       NULL|   NULL|white|nonhispanic|     F|New Bedford  Mass...|570 Abshire Forge...|    Colrain|Massachusetts| Franklin County|NULL|42.740219982868055|-72.72264767557297|            24130.0|  903.2799999999999|\n",
            "|4dc153b6-bd07-49f...|1992-06-30|     NULL|999-27-3385|S99973505|X53577951X|   Mr.|      Jayson808|      Fadel536|  NULL|       NULL|      M|white|nonhispanic|     M|Springfield  Mass...|1056 Harris Lane ...|   Chicopee|Massachusetts|  Hampden County|1020|42.181642300277424|-72.60884222581657|          607481.92| 2928.8799999999997|\n",
            "|9d873139-72ec-471...|1989-06-22|     NULL|999-76-6866|S99979025| X9173675X|   Mr.|José Eduardo181|      Gómez206|  NULL|       NULL|      S|white|   hispanic|     M|Marigot  Saint An...|427 Balistreri Wa...|   Chicopee|Massachusetts|  Hampden County|1013| 42.22835382315942|-72.56295055096882|           33411.93| 370.79999999999995|\n",
            "|682077f3-bd6b-462...|1983-12-12|     NULL|999-73-5361|S99960247|X68109354X|   Mr.|        Milo271|       Feil794|  NULL|       NULL|      M|white|nonhispanic|     M|Danvers  Massachu...|422 Farrell Path ...| Somerville|Massachusetts|Middlesex County|2143| 42.36069732777065|-71.12653095133149|          880850.51|            3148.04|\n",
            "|15eab0f6-a733-493...|1991-07-31|     NULL|999-74-9712|S99966383|X54776571X|  Mrs.|       Karyn217|       Metz686|  NULL|Reynolds644|      M|white|nonhispanic|     F|Belmont  Massachu...|181 Feest Passage...|   Medfield|Massachusetts|  Norfolk County|2052|42.138719393835025|-71.29725536274758|          767029.01|            2738.96|\n",
            "|c9cd5293-e4dc-407...|2005-01-16|     NULL|999-78-4480|     NULL|      NULL|  NULL|     Jeffrey461|Greenfelder433|  NULL|       NULL|   NULL|white|nonhispanic|     M|Plymouth  Massach...|428 Wiza Glen Uni...|Springfield|Massachusetts|  Hampden County|1104|42.104927111867894|-72.59101060950445|          352288.38| 3104.7999999999997|\n",
            "+--------------------+----------+---------+-----------+---------+----------+------+---------------+--------------+------+-----------+-------+-----+-----------+------+--------------------+--------------------+-----------+-------------+----------------+----+------------------+------------------+-------------------+-------------------+\n",
            "only showing top 10 rows\n",
            "\n"
          ]
        }
      ]
    },
    {
      "cell_type": "code",
      "source": [
        "medications_df.show(10)"
      ],
      "metadata": {
        "colab": {
          "base_uri": "https://localhost:8080/"
        },
        "id": "iHLuBfSpJ6fx",
        "outputId": "d83bd2e7-aa80-4f0d-e36f-c983d3316ff2"
      },
      "execution_count": 20,
      "outputs": [
        {
          "output_type": "stream",
          "name": "stdout",
          "text": [
            "+----------+----------+--------------------+--------------------+--------------------+-------+--------------------+---------+--------------+---------+---------+----------+--------------------+\n",
            "|     START|      STOP|             PATIENT|               PAYER|           ENCOUNTER|   CODE|         DESCRIPTION|BASE_COST|PAYER_COVERAGE|DISPENSES|TOTALCOST|REASONCODE|   REASONDESCRIPTION|\n",
            "+----------+----------+--------------------+--------------------+--------------------+-------+--------------------+---------+--------------+---------+---------+----------+--------------------+\n",
            "|2019-10-30|2019-11-13|1ff7f10f-a204-4bb...|7c4411ce-02f1-39b...|759cfd9c-b40b-45d...| 308182|Amoxicillin 250 M...|     7.05|           0.0|        1|     7.05|      NULL|                NULL|\n",
            "|2019-10-30|2019-11-13|1ff7f10f-a204-4bb...|7c4411ce-02f1-39b...|759cfd9c-b40b-45d...| 313820|Acetaminophen 160...|     5.72|           0.0|        1|     5.72|      NULL|                NULL|\n",
            "|2020-02-12|2020-02-26|9bcf6ed5-d808-44a...|4d71f845-a6a9-3c3...|5d9dfe80-7edf-418...| 313820|Acetaminophen 160...|     5.25|           0.0|        1|     5.25|      NULL|                NULL|\n",
            "|2020-04-28|2020-05-08|9bcf6ed5-d808-44a...|4d71f845-a6a9-3c3...|794aac2b-0eb8-4c3...| 834061|Penicillin V Pota...|     13.9|           0.0|        1|     13.9|  43878008|Streptococcal sor...|\n",
            "|2019-12-26|      NULL|5163c501-353c-4a8...|b1c428d6-4f07-31e...|66829d53-9d16-4f2...| 978950| Natazia 28 Day Pack|    29.52|           0.0|        5|    147.6|      NULL|                NULL|\n",
            "|2020-05-03|2020-05-17|5163c501-353c-4a8...|5059a55e-5d6e-34d...|f2df2577-f1ff-4e0...| 313782|Acetaminophen 325...|     6.37|           0.0|        1|     6.37|  10509002|Acute bronchitis ...|\n",
            "|2020-02-19|      NULL|bd1c4ffc-7f1d-459...|4d71f845-a6a9-3c3...|b7455838-3607-47f...| 854235|0.4 ML Enoxaparin...|   263.49|           0.0|        3|   790.47|      NULL|                NULL|\n",
            "|2020-02-19|      NULL|bd1c4ffc-7f1d-459...|4d71f845-a6a9-3c3...|b7455838-3607-47f...|2123111|NDA020503 200 ACT...|   302.07|           0.0|        3|   906.21| 389087006|Hypoxemia (disorder)|\n",
            "|2020-02-19|      NULL|bd1c4ffc-7f1d-459...|4d71f845-a6a9-3c3...|b7455838-3607-47f...| 198440|Acetaminophen 500...|   263.49|           0.0|        3|   790.47|      NULL|                NULL|\n",
            "|2020-02-25|      NULL|bd1c4ffc-7f1d-459...|4d71f845-a6a9-3c3...|b7455838-3607-47f...| 854252|1 ML Enoxaparin s...|   263.49|           0.0|        3|   790.47| 706870000|Acute pulmonary e...|\n",
            "+----------+----------+--------------------+--------------------+--------------------+-------+--------------------+---------+--------------+---------+---------+----------+--------------------+\n",
            "only showing top 10 rows\n",
            "\n"
          ]
        }
      ]
    },
    {
      "cell_type": "code",
      "source": [
        "immunizations_df.show(10)"
      ],
      "metadata": {
        "colab": {
          "base_uri": "https://localhost:8080/"
        },
        "id": "rMAF-X_HJ6mI",
        "outputId": "9d6b5044-5768-45a4-a877-b13d34673321"
      },
      "execution_count": 21,
      "outputs": [
        {
          "output_type": "stream",
          "name": "stdout",
          "text": [
            "+----------+--------------------+--------------------+----+--------------------+---------+\n",
            "|      DATE|             PATIENT|           ENCOUNTER|CODE|         DESCRIPTION|BASE_COST|\n",
            "+----------+--------------------+--------------------+----+--------------------+---------+\n",
            "|2019-08-01|1ff7f10f-a204-4bb...|52051c30-c6c3-45f...| 140|Influenza  season...|   140.52|\n",
            "|2020-01-30|1ff7f10f-a204-4bb...|20032279-0deb-41f...|  83|Hep A  ped/adol  ...|   140.52|\n",
            "|2019-07-08|9bcf6ed5-d808-44a...|26f579ef-1dc8-489...| 140|Influenza  season...|   140.52|\n",
            "|2020-02-21|5163c501-353c-4a8...|929c6964-3c16-481...| 140|Influenza  season...|   140.52|\n",
            "|2020-02-21|5163c501-353c-4a8...|929c6964-3c16-481...| 114| meningococcal MCV4P|   140.52|\n",
            "|2019-06-12|bd1c4ffc-7f1d-459...|4a01f35b-6eef-484...|   8|Hep B  adolescent...|   140.52|\n",
            "|2019-07-17|bd1c4ffc-7f1d-459...|54b37dfa-8848-4ee...|   8|Hep B  adolescent...|   140.52|\n",
            "|2019-09-18|bd1c4ffc-7f1d-459...|bce52dd4-5d94-4b1...|  49|       Hib (PRP-OMP)|   140.52|\n",
            "|2019-09-18|bd1c4ffc-7f1d-459...|bce52dd4-5d94-4b1...| 119|rotavirus  monova...|   140.52|\n",
            "|2019-09-18|bd1c4ffc-7f1d-459...|bce52dd4-5d94-4b1...|  10|                 IPV|   140.52|\n",
            "+----------+--------------------+--------------------+----+--------------------+---------+\n",
            "only showing top 10 rows\n",
            "\n"
          ]
        }
      ]
    },
    {
      "cell_type": "code",
      "source": [
        "observations_df.show(10)"
      ],
      "metadata": {
        "colab": {
          "base_uri": "https://localhost:8080/"
        },
        "id": "GKZBtAdmJ6qx",
        "outputId": "741a1d32-4632-435b-f2d8-bf50a382a1ab"
      },
      "execution_count": 22,
      "outputs": [
        {
          "output_type": "stream",
          "name": "stdout",
          "text": [
            "+----------+--------------------+--------------------+-------+--------------------+------------+-------+-------+\n",
            "|      DATE|             PATIENT|           ENCOUNTER|   CODE|         DESCRIPTION|       VALUE|  UNITS|   TYPE|\n",
            "+----------+--------------------+--------------------+-------+--------------------+------------+-------+-------+\n",
            "|2019-08-01|1ff7f10f-a204-4bb...|52051c30-c6c3-45f...| 8302-2|         Body Height|        82.7|     cm|numeric|\n",
            "|2019-08-01|1ff7f10f-a204-4bb...|52051c30-c6c3-45f...|72514-3|Pain severity - 0...|         2.0|{score}|numeric|\n",
            "|2019-08-01|1ff7f10f-a204-4bb...|52051c30-c6c3-45f...|29463-7|         Body Weight|        11.5|     kg|numeric|\n",
            "|2019-08-01|1ff7f10f-a204-4bb...|52051c30-c6c3-45f...|77606-2|Weight-for-length...|        47.0|      %|numeric|\n",
            "|2019-08-01|1ff7f10f-a204-4bb...|52051c30-c6c3-45f...| 9843-4|Head Occipital-fr...|        46.9|     cm|numeric|\n",
            "|2019-08-01|1ff7f10f-a204-4bb...|52051c30-c6c3-45f...| 8462-4|Diastolic Blood P...|        76.0| mm[Hg]|numeric|\n",
            "|2019-08-01|1ff7f10f-a204-4bb...|52051c30-c6c3-45f...| 8480-6|Systolic Blood Pr...|       107.0| mm[Hg]|numeric|\n",
            "|2019-08-01|1ff7f10f-a204-4bb...|52051c30-c6c3-45f...| 8867-4|          Heart rate|        68.0|   /min|numeric|\n",
            "|2019-08-01|1ff7f10f-a204-4bb...|52051c30-c6c3-45f...| 9279-1|    Respiratory rate|        13.0|   /min|numeric|\n",
            "|2019-08-01|1ff7f10f-a204-4bb...|52051c30-c6c3-45f...|72166-2|Tobacco smoking s...|Never smoker|   NULL|   text|\n",
            "+----------+--------------------+--------------------+-------+--------------------+------------+-------+-------+\n",
            "only showing top 10 rows\n",
            "\n"
          ]
        }
      ]
    },
    {
      "cell_type": "markdown",
      "source": [
        "### Querying Data\n",
        "### SELECT\n",
        "\n",
        "### E.g.: Query the patients dataframe and display patient first name, last name, gender, and the city they live in."
      ],
      "metadata": {
        "id": "pKl0LlgUVgW3"
      }
    },
    {
      "cell_type": "code",
      "source": [
        "result_df = patients_df.select(\"FIRST\", \"LAST\", \"GENDER\", \"CITY\")\n",
        "result_df.show()"
      ],
      "metadata": {
        "colab": {
          "base_uri": "https://localhost:8080/"
        },
        "id": "VVycv81pKkPc",
        "outputId": "0ffc8352-8c24-46a2-998b-c81c66d58a5a"
      },
      "execution_count": 26,
      "outputs": [
        {
          "output_type": "stream",
          "name": "stdout",
          "text": [
            "+---------------+--------------+------+-----------+\n",
            "|          FIRST|          LAST|GENDER|       CITY|\n",
            "+---------------+--------------+------+-----------+\n",
            "|     Jacinto644|       Kris249|     M|Springfield|\n",
            "|        Alva958|    Krajcik437|     F|    Walpole|\n",
            "|       Jimmie93|     Harris789|     F|   Pembroke|\n",
            "|    Gregorio366|        Auer97|     M|     Boston|\n",
            "|       Karyn217|    Mueller846|     F|    Colrain|\n",
            "|      Jayson808|      Fadel536|     M|   Chicopee|\n",
            "|José Eduardo181|      Gómez206|     M|   Chicopee|\n",
            "|        Milo271|       Feil794|     M| Somerville|\n",
            "|       Karyn217|       Metz686|     F|   Medfield|\n",
            "|     Jeffrey461|Greenfelder433|     M|Springfield|\n",
            "|     Mariana775|  Gulgowski816|     F|     Lowell|\n",
            "|       Leann224|     Deckow585|     F|    Needham|\n",
            "|      Isabel214|   Hinojosa147|     F| Fall River|\n",
            "|    Christal240|       Brown30|     F|     Boston|\n",
            "|    Carmelia328| Konopelski743|     F|    Ashland|\n",
            "|        Raye931|      Wyman904|     F|     Quincy|\n",
            "|      Lisbeth69|       Rowe323|     F|     Malden|\n",
            "|       Amada498|     Spinka232|     F| Foxborough|\n",
            "|      Cythia210|     Reichel38|     F|    Peabody|\n",
            "|María Soledad68|   Aparicio848|     F|     Boston|\n",
            "+---------------+--------------+------+-----------+\n",
            "only showing top 20 rows\n",
            "\n"
          ]
        }
      ]
    },
    {
      "cell_type": "markdown",
      "source": [
        "## Count the number of rows in patients table\n",
        "## This query will count the total number of rows in the patients table,\n",
        "## effectively giving you the total number of patients."
      ],
      "metadata": {
        "id": "xCWcCGUrWfLM"
      }
    },
    {
      "cell_type": "code",
      "source": [
        "patients_count = patients_df.count()\n",
        "print(patients_count)"
      ],
      "metadata": {
        "colab": {
          "base_uri": "https://localhost:8080/"
        },
        "id": "qZ5WQ84OKkSU",
        "outputId": "8eee48d9-22b4-4369-9484-58638fbf6101"
      },
      "execution_count": 27,
      "outputs": [
        {
          "output_type": "stream",
          "name": "stdout",
          "text": [
            "124150\n"
          ]
        }
      ]
    },
    {
      "cell_type": "markdown",
      "source": [
        "## COUNT and DISTINCT\n",
        "## If you want to count distinct values of a specific column, for example,\n",
        "## distinct cities, you can modify the query as follows:"
      ],
      "metadata": {
        "id": "dRkwS3iVXOmx"
      }
    },
    {
      "cell_type": "code",
      "source": [
        "distinct_city_count = patients_df.select(\"CITY\").distinct().count()\n",
        "print(distinct_city_count)\n"
      ],
      "metadata": {
        "colab": {
          "base_uri": "https://localhost:8080/"
        },
        "id": "GwBCZhDxKkUc",
        "outputId": "be5610c4-e43a-40e2-c909-dfc9dd38d892"
      },
      "execution_count": 28,
      "outputs": [
        {
          "output_type": "stream",
          "name": "stdout",
          "text": [
            "351\n"
          ]
        }
      ]
    },
    {
      "cell_type": "markdown",
      "source": [
        "### The following query returns unique combinations of cities and genders from the patients table. If there are male and female patients from the same city, each city-gender pair will appear only once."
      ],
      "metadata": {
        "id": "OgNW4KjOXPe5"
      }
    },
    {
      "cell_type": "code",
      "source": [
        "distinct_city_gender_df = patients_df.select(\"CITY\", \"GENDER\").distinct()\n",
        "distinct_city_gender_df.show()"
      ],
      "metadata": {
        "colab": {
          "base_uri": "https://localhost:8080/"
        },
        "id": "NsRkphmSXRvR",
        "outputId": "142fc09e-5566-4174-f3a4-0096728a6809"
      },
      "execution_count": 29,
      "outputs": [
        {
          "output_type": "stream",
          "name": "stdout",
          "text": [
            "+-------------+------+\n",
            "|         CITY|GENDER|\n",
            "+-------------+------+\n",
            "|   Shrewsbury|     M|\n",
            "|     Montague|     M|\n",
            "|   Greenfield|     F|\n",
            "|      Ipswich|     M|\n",
            "|  Easthampton|     M|\n",
            "|       Hanson|     M|\n",
            "|     Egremont|     M|\n",
            "|      Peabody|     M|\n",
            "|       Bourne|     F|\n",
            "|    Lancaster|     M|\n",
            "|      Florida|     F|\n",
            "|New Braintree|     M|\n",
            "|       Goshen|     M|\n",
            "|   Fall River|     F|\n",
            "|        Dover|     M|\n",
            "|     Monterey|     F|\n",
            "|     Plymouth|     F|\n",
            "|     Hamilton|     F|\n",
            "|    Braintree|     F|\n",
            "|  New Ashford|     M|\n",
            "+-------------+------+\n",
            "only showing top 20 rows\n",
            "\n"
          ]
        }
      ]
    },
    {
      "cell_type": "markdown",
      "source": [
        "## Filtering data based on a condition\n",
        "## The WHERE clause filters records that fulfill a specified condition.\n",
        "## e.g: Patients in City = 'Springfield';"
      ],
      "metadata": {
        "id": "WUEpzjb-XR5w"
      }
    },
    {
      "cell_type": "code",
      "source": [
        "springfield_patients_df = patients_df.select(\"FIRST\", \"LAST\", \"GENDER\", \"CITY\", \"PASSPORT\").filter(patients_df[\"CITY\"] == \"Springfield\")\n",
        "springfield_patients_df.show()"
      ],
      "metadata": {
        "colab": {
          "base_uri": "https://localhost:8080/"
        },
        "id": "N5Ywga0FXSAJ",
        "outputId": "3b6789a2-83bb-4aba-a0ec-23ac02c9d5a9"
      },
      "execution_count": 30,
      "outputs": [
        {
          "output_type": "stream",
          "name": "stdout",
          "text": [
            "+------------+--------------+------+-----------+----------+\n",
            "|       FIRST|          LAST|GENDER|       CITY|  PASSPORT|\n",
            "+------------+--------------+------+-----------+----------+\n",
            "|  Jacinto644|       Kris249|     M|Springfield|      NULL|\n",
            "|  Jeffrey461|Greenfelder433|     M|Springfield|      NULL|\n",
            "|   Sabina296|    Flatley871|     F|Springfield|X85058581X|\n",
            "| Theodora872|    Johnson679|     F|Springfield|X21164602X|\n",
            "|   Lavera253|   Anderson154|     F|Springfield|X83686992X|\n",
            "|   Golden321|    Pollich983|     F|Springfield|      NULL|\n",
            "|Georgiann138|Greenfelder433|     F|Springfield|X58134116X|\n",
            "|   Fausto876|  Bechtelar572|     M|Springfield|      NULL|\n",
            "|  Talisha682|     Brakus656|     F|Springfield|X53645004X|\n",
            "|   Golden321|     Durgan499|     F|Springfield|X49016634X|\n",
            "|   Jerrie417|   Gislason620|     F|Springfield|      NULL|\n",
            "|    Venus149| Hodkiewicz467|     F|Springfield|      NULL|\n",
            "|    Tyler508|     Hammes673|     M|Springfield|      NULL|\n",
            "|       Ty725|   Schmeler639|     M|Springfield|X22960735X|\n",
            "|  Refugia211| Wintheiser220|     F|Springfield|      NULL|\n",
            "|    Pilar644|     Pouros728|     F|Springfield|X21434326X|\n",
            "|Georgette866|      Stark857|     F|Springfield|X84034866X|\n",
            "|   Annika454|    Gutmann970|     F|Springfield| X3275916X|\n",
            "|    Madie300|     Murray856|     F|Springfield|X46724546X|\n",
            "|  Latoyia537|    Gaylord332|     F|Springfield|X67911063X|\n",
            "+------------+--------------+------+-----------+----------+\n",
            "only showing top 20 rows\n",
            "\n"
          ]
        }
      ]
    },
    {
      "cell_type": "markdown",
      "source": [
        "### Multiple conditions in Selection\n",
        "### e.g 1: Female Patients in City = 'Springfield';"
      ],
      "metadata": {
        "id": "ChtD7C0FXSGJ"
      }
    },
    {
      "cell_type": "code",
      "source": [
        "filtered_df = patients_df.select(\"FIRST\", \"LAST\", \"GENDER\", \"CITY\").filter((patients_df[\"CITY\"] == \"Springfield\") & (patients_df[\"GENDER\"] == \"F\"))\n",
        "filtered_df.show()\n"
      ],
      "metadata": {
        "colab": {
          "base_uri": "https://localhost:8080/"
        },
        "id": "a5045y_CXSMJ",
        "outputId": "64abdc67-a733-46b1-af55-b6a0730ca32b"
      },
      "execution_count": 31,
      "outputs": [
        {
          "output_type": "stream",
          "name": "stdout",
          "text": [
            "+------------+--------------+------+-----------+\n",
            "|       FIRST|          LAST|GENDER|       CITY|\n",
            "+------------+--------------+------+-----------+\n",
            "|   Sabina296|    Flatley871|     F|Springfield|\n",
            "| Theodora872|    Johnson679|     F|Springfield|\n",
            "|   Lavera253|   Anderson154|     F|Springfield|\n",
            "|   Golden321|    Pollich983|     F|Springfield|\n",
            "|Georgiann138|Greenfelder433|     F|Springfield|\n",
            "|  Talisha682|     Brakus656|     F|Springfield|\n",
            "|   Golden321|     Durgan499|     F|Springfield|\n",
            "|   Jerrie417|   Gislason620|     F|Springfield|\n",
            "|    Venus149| Hodkiewicz467|     F|Springfield|\n",
            "|  Refugia211| Wintheiser220|     F|Springfield|\n",
            "|    Pilar644|     Pouros728|     F|Springfield|\n",
            "|Georgette866|      Stark857|     F|Springfield|\n",
            "|   Annika454|    Gutmann970|     F|Springfield|\n",
            "|    Madie300|     Murray856|     F|Springfield|\n",
            "|  Latoyia537|    Gaylord332|     F|Springfield|\n",
            "|    Iraida50|     Ernser583|     F|Springfield|\n",
            "|  Julissa825|   MacGyver246|     F|Springfield|\n",
            "|Francoise850|    McGlynn426|     F|Springfield|\n",
            "|   Shasta644|      Bauch723|     F|Springfield|\n",
            "|    Denny560|    Shields502|     F|Springfield|\n",
            "+------------+--------------+------+-----------+\n",
            "only showing top 20 rows\n",
            "\n"
          ]
        }
      ]
    },
    {
      "cell_type": "markdown",
      "source": [
        "## e.g. Nested selection; Female patients from City Springfield or Boston"
      ],
      "metadata": {
        "id": "A9u0-lw2XSSB"
      }
    },
    {
      "cell_type": "code",
      "source": [
        "filtered_df = patients_df.select(\"FIRST\", \"LAST\", \"GENDER\", \"CITY\").filter((patients_df[\"GENDER\"] == \"F\") & ((patients_df[\"CITY\"] == \"Springfield\") | (patients_df[\"CITY\"] == \"Boston\")))\n",
        "filtered_df.show()\n"
      ],
      "metadata": {
        "colab": {
          "base_uri": "https://localhost:8080/"
        },
        "id": "2hn3sYOgXSY5",
        "outputId": "3e2cd036-7b1c-48cf-cc19-342e5550778e"
      },
      "execution_count": 32,
      "outputs": [
        {
          "output_type": "stream",
          "name": "stdout",
          "text": [
            "+---------------+--------------+------+-----------+\n",
            "|          FIRST|          LAST|GENDER|       CITY|\n",
            "+---------------+--------------+------+-----------+\n",
            "|    Christal240|       Brown30|     F|     Boston|\n",
            "|María Soledad68|   Aparicio848|     F|     Boston|\n",
            "|      Leslee214|     Schumm995|     F|     Boston|\n",
            "|      Sabina296|    Flatley871|     F|Springfield|\n",
            "|     Manuela585|      Lozada73|     F|     Boston|\n",
            "|      Adrian111|      Davis923|     F|     Boston|\n",
            "|    Theodora872|    Johnson679|     F|Springfield|\n",
            "|      Lavera253|   Anderson154|     F|Springfield|\n",
            "|       Viola977|    McGlynn426|     F|     Boston|\n",
            "|        Rene434|   Schinner682|     F|     Boston|\n",
            "|  Cassaundra447|       Will178|     F|     Boston|\n",
            "|     Cathern761|    Stanton715|     F|     Boston|\n",
            "|   Jacquelyn628|    Padberg411|     F|     Boston|\n",
            "|       Micah422|       Lind531|     F|     Boston|\n",
            "|       Naida467|    Spencer878|     F|     Boston|\n",
            "|      Gianna370|     Harris789|     F|     Boston|\n",
            "|   Jeanmarie510|     Miller503|     F|     Boston|\n",
            "|       Katia630|     Reichel38|     F|     Boston|\n",
            "|      Golden321|    Pollich983|     F|Springfield|\n",
            "|   Georgiann138|Greenfelder433|     F|Springfield|\n",
            "+---------------+--------------+------+-----------+\n",
            "only showing top 20 rows\n",
            "\n"
          ]
        }
      ]
    },
    {
      "cell_type": "markdown",
      "source": [
        "## another way"
      ],
      "metadata": {
        "id": "ZgL7fjOgXSex"
      }
    },
    {
      "cell_type": "code",
      "source": [
        "filtered_df = patients_df.select(\"FIRST\", \"LAST\", \"GENDER\", \"CITY\").filter((patients_df[\"GENDER\"] == \"F\") & (patients_df[\"CITY\"].isin(\"Springfield\", \"Boston\")))\n",
        "filtered_df.show()\n"
      ],
      "metadata": {
        "colab": {
          "base_uri": "https://localhost:8080/"
        },
        "id": "eJ3vQvyHXSlB",
        "outputId": "69234e2f-e9eb-4d56-a8d4-58bb9253a741"
      },
      "execution_count": 33,
      "outputs": [
        {
          "output_type": "stream",
          "name": "stdout",
          "text": [
            "+---------------+--------------+------+-----------+\n",
            "|          FIRST|          LAST|GENDER|       CITY|\n",
            "+---------------+--------------+------+-----------+\n",
            "|    Christal240|       Brown30|     F|     Boston|\n",
            "|María Soledad68|   Aparicio848|     F|     Boston|\n",
            "|      Leslee214|     Schumm995|     F|     Boston|\n",
            "|      Sabina296|    Flatley871|     F|Springfield|\n",
            "|     Manuela585|      Lozada73|     F|     Boston|\n",
            "|      Adrian111|      Davis923|     F|     Boston|\n",
            "|    Theodora872|    Johnson679|     F|Springfield|\n",
            "|      Lavera253|   Anderson154|     F|Springfield|\n",
            "|       Viola977|    McGlynn426|     F|     Boston|\n",
            "|        Rene434|   Schinner682|     F|     Boston|\n",
            "|  Cassaundra447|       Will178|     F|     Boston|\n",
            "|     Cathern761|    Stanton715|     F|     Boston|\n",
            "|   Jacquelyn628|    Padberg411|     F|     Boston|\n",
            "|       Micah422|       Lind531|     F|     Boston|\n",
            "|       Naida467|    Spencer878|     F|     Boston|\n",
            "|      Gianna370|     Harris789|     F|     Boston|\n",
            "|   Jeanmarie510|     Miller503|     F|     Boston|\n",
            "|       Katia630|     Reichel38|     F|     Boston|\n",
            "|      Golden321|    Pollich983|     F|Springfield|\n",
            "|   Georgiann138|Greenfelder433|     F|Springfield|\n",
            "+---------------+--------------+------+-----------+\n",
            "only showing top 20 rows\n",
            "\n"
          ]
        }
      ]
    },
    {
      "cell_type": "markdown",
      "source": [
        "## Filter on missing data\n",
        "## Filtering on missing data is crucial for maintaining data integrity and ensuring accurate analysis by identifying and handling incomplete records effectively.\n",
        "## Retrieve the first name, last name, gender, and city for all patients who are from Springfield and have a passport number recorded (i.e., the passport field is not empty)."
      ],
      "metadata": {
        "id": "3LqftE1IXSr1"
      }
    },
    {
      "cell_type": "code",
      "source": [
        "filtered_df = patients_df.select(\"FIRST\", \"LAST\", \"GENDER\", \"CITY\", \"PASSPORT\").filter((patients_df[\"CITY\"] == \"Springfield\") & (patients_df[\"PASSPORT\"].isNotNull()))\n",
        "filtered_df.show()\n"
      ],
      "metadata": {
        "colab": {
          "base_uri": "https://localhost:8080/"
        },
        "id": "MpYpcYftXSxB",
        "outputId": "55365e86-0ac6-4cf8-8994-511e51be75c8"
      },
      "execution_count": 34,
      "outputs": [
        {
          "output_type": "stream",
          "name": "stdout",
          "text": [
            "+------------+--------------+------+-----------+----------+\n",
            "|       FIRST|          LAST|GENDER|       CITY|  PASSPORT|\n",
            "+------------+--------------+------+-----------+----------+\n",
            "|   Sabina296|    Flatley871|     F|Springfield|X85058581X|\n",
            "| Theodora872|    Johnson679|     F|Springfield|X21164602X|\n",
            "|   Lavera253|   Anderson154|     F|Springfield|X83686992X|\n",
            "|Georgiann138|Greenfelder433|     F|Springfield|X58134116X|\n",
            "|  Talisha682|     Brakus656|     F|Springfield|X53645004X|\n",
            "|   Golden321|     Durgan499|     F|Springfield|X49016634X|\n",
            "|       Ty725|   Schmeler639|     M|Springfield|X22960735X|\n",
            "|    Pilar644|     Pouros728|     F|Springfield|X21434326X|\n",
            "|Georgette866|      Stark857|     F|Springfield|X84034866X|\n",
            "|   Annika454|    Gutmann970|     F|Springfield| X3275916X|\n",
            "|    Madie300|     Murray856|     F|Springfield|X46724546X|\n",
            "|  Latoyia537|    Gaylord332|     F|Springfield|X67911063X|\n",
            "|    Iraida50|     Ernser583|     F|Springfield|X25364082X|\n",
            "|   Jerold208|     Harber290|     M|Springfield|X62248350X|\n",
            "|     Dean966|    Tillman293|     M|Springfield|X12172523X|\n",
            "|Francoise850|    McGlynn426|     F|Springfield|X85002125X|\n",
            "|    Orval846| Cartwright189|     M|Springfield|X57872320X|\n",
            "|   Shasta644|      Bauch723|     F|Springfield| X3978385X|\n",
            "|  Jacinto644|  Abernathy524|     M|Springfield|X60912449X|\n",
            "|    Denny560|    Shields502|     F|Springfield| X6289525X|\n",
            "+------------+--------------+------+-----------+----------+\n",
            "only showing top 20 rows\n",
            "\n"
          ]
        }
      ]
    },
    {
      "cell_type": "markdown",
      "source": [
        "## Retrieve the first name, last name, gender, and city for all patients who are from Springfield and have a passport number NOT recorded (i.e., the passport field is empty)."
      ],
      "metadata": {
        "id": "PuwxmkCTXS3C"
      }
    },
    {
      "cell_type": "code",
      "source": [
        "filtered_null_df = patients_df.select(\"FIRST\", \"LAST\", \"GENDER\", \"CITY\", \"PASSPORT\").filter((patients_df[\"CITY\"] == \"Springfield\") & (patients_df[\"PASSPORT\"].isNull()))\n",
        "filtered_null_df.show()\n"
      ],
      "metadata": {
        "colab": {
          "base_uri": "https://localhost:8080/"
        },
        "id": "960b6hC9XS8p",
        "outputId": "4cfa49fe-8f9e-4846-e064-75874b90188d"
      },
      "execution_count": 35,
      "outputs": [
        {
          "output_type": "stream",
          "name": "stdout",
          "text": [
            "+----------+--------------+------+-----------+--------+\n",
            "|     FIRST|          LAST|GENDER|       CITY|PASSPORT|\n",
            "+----------+--------------+------+-----------+--------+\n",
            "|Jacinto644|       Kris249|     M|Springfield|    NULL|\n",
            "|Jeffrey461|Greenfelder433|     M|Springfield|    NULL|\n",
            "| Golden321|    Pollich983|     F|Springfield|    NULL|\n",
            "| Fausto876|  Bechtelar572|     M|Springfield|    NULL|\n",
            "| Jerrie417|   Gislason620|     F|Springfield|    NULL|\n",
            "|  Venus149| Hodkiewicz467|     F|Springfield|    NULL|\n",
            "|  Tyler508|     Hammes673|     M|Springfield|    NULL|\n",
            "|Refugia211| Wintheiser220|     F|Springfield|    NULL|\n",
            "|Julissa825|   MacGyver246|     F|Springfield|    NULL|\n",
            "|   Hans694|     Sporer811|     M|Springfield|    NULL|\n",
            "|   Reed154|      Kozey370|     M|Springfield|    NULL|\n",
            "|     Hye44|      Mertz280|     F|Springfield|    NULL|\n",
            "| Izetta651|   Baumbach677|     F|Springfield|    NULL|\n",
            "| Mariah942|    Kerluke267|     F|Springfield|    NULL|\n",
            "|   Lacy523|     Cremin516|     M|Springfield|    NULL|\n",
            "|   Alta896| Wintheiser220|     F|Springfield|    NULL|\n",
            "|  Marge692|      Zieme486|     F|Springfield|    NULL|\n",
            "|Faviola526|   Schmeler639|     F|Springfield|    NULL|\n",
            "|  Felipe97|     Aragón562|     M|Springfield|    NULL|\n",
            "| Bradly656| Gusikowski974|     M|Springfield|    NULL|\n",
            "+----------+--------------+------+-----------+--------+\n",
            "only showing top 20 rows\n",
            "\n"
          ]
        }
      ]
    },
    {
      "cell_type": "markdown",
      "source": [
        "## Filter and select in numeric range\n",
        "## Patients in City = 'Springfield' where the HEALTHCARE_EXPENSES between 1.5M and 2M"
      ],
      "metadata": {
        "id": "gbwN89pPXTDB"
      }
    },
    {
      "cell_type": "code",
      "source": [
        "filtered_expenses_df = patients_df.select(\"FIRST\", \"LAST\", \"GENDER\", \"CITY\").filter((patients_df[\"CITY\"] == \"Springfield\") & (patients_df[\"HEALTHCARE_EXPENSES\"] >= 1500000) & (patients_df[\"HEALTHCARE_EXPENSES\"] <= 2000000))\n",
        "filtered_expenses_df.show()\n"
      ],
      "metadata": {
        "colab": {
          "base_uri": "https://localhost:8080/"
        },
        "id": "DoTu8n9OXTH5",
        "outputId": "b1c947de-2b20-4843-a1d9-6c4e33f6400b"
      },
      "execution_count": 36,
      "outputs": [
        {
          "output_type": "stream",
          "name": "stdout",
          "text": [
            "+------------+--------------+------+-----------+\n",
            "|       FIRST|          LAST|GENDER|       CITY|\n",
            "+------------+--------------+------+-----------+\n",
            "|  Talisha682|     Brakus656|     F|Springfield|\n",
            "|   Jerold208|     Harber290|     M|Springfield|\n",
            "|     Dean966|    Tillman293|     M|Springfield|\n",
            "|    Orval846| Cartwright189|     M|Springfield|\n",
            "|  Jacinto644|  Abernathy524|     M|Springfield|\n",
            "|   Bethel526|Satterfield305|     F|Springfield|\n",
            "|   Dorene845|   Botsford977|     F|Springfield|\n",
            "|     Lula998|    Langosh790|     F|Springfield|\n",
            "|  Deeanna316|       Koss676|     F|Springfield|\n",
            "|  Loriann967|       Torp761|     F|Springfield|\n",
            "|Elizebeth108|    Labadie908|     F|Springfield|\n",
            "|   Shalon513|      Blick895|     F|Springfield|\n",
            "|  Marcene673|  Wilkinson796|     F|Springfield|\n",
            "| Beverley336|     Ziemann98|     F|Springfield|\n",
            "|    Vince741|    Gutmann970|     M|Springfield|\n",
            "|    Clair921|      Bosco882|     F|Springfield|\n",
            "|    Korey682|       Funk324|     M|Springfield|\n",
            "|  Wilfred787| Morissette863|     M|Springfield|\n",
            "|  Sherise735|   Homenick806|     F|Springfield|\n",
            "|   Romana140|    Pfeffer420|     F|Springfield|\n",
            "+------------+--------------+------+-----------+\n",
            "only showing top 20 rows\n",
            "\n"
          ]
        }
      ]
    },
    {
      "cell_type": "markdown",
      "source": [
        "## LIMIT\n",
        "## LIMIT specifies the maximum number of records the query will return."
      ],
      "metadata": {
        "id": "_1QpWvoMXTN5"
      }
    },
    {
      "cell_type": "code",
      "source": [
        "limited_df = patients_df.select(\"FIRST\", \"LAST\", \"GENDER\", \"CITY\").limit(20)\n",
        "limited_df.show()\n"
      ],
      "metadata": {
        "colab": {
          "base_uri": "https://localhost:8080/"
        },
        "id": "yi0DNyUoXTTR",
        "outputId": "1ee20117-143c-481f-941e-1fc15860ffb8"
      },
      "execution_count": 37,
      "outputs": [
        {
          "output_type": "stream",
          "name": "stdout",
          "text": [
            "+---------------+--------------+------+-----------+\n",
            "|          FIRST|          LAST|GENDER|       CITY|\n",
            "+---------------+--------------+------+-----------+\n",
            "|     Jacinto644|       Kris249|     M|Springfield|\n",
            "|        Alva958|    Krajcik437|     F|    Walpole|\n",
            "|       Jimmie93|     Harris789|     F|   Pembroke|\n",
            "|    Gregorio366|        Auer97|     M|     Boston|\n",
            "|       Karyn217|    Mueller846|     F|    Colrain|\n",
            "|      Jayson808|      Fadel536|     M|   Chicopee|\n",
            "|José Eduardo181|      Gómez206|     M|   Chicopee|\n",
            "|        Milo271|       Feil794|     M| Somerville|\n",
            "|       Karyn217|       Metz686|     F|   Medfield|\n",
            "|     Jeffrey461|Greenfelder433|     M|Springfield|\n",
            "|     Mariana775|  Gulgowski816|     F|     Lowell|\n",
            "|       Leann224|     Deckow585|     F|    Needham|\n",
            "|      Isabel214|   Hinojosa147|     F| Fall River|\n",
            "|    Christal240|       Brown30|     F|     Boston|\n",
            "|    Carmelia328| Konopelski743|     F|    Ashland|\n",
            "|        Raye931|      Wyman904|     F|     Quincy|\n",
            "|      Lisbeth69|       Rowe323|     F|     Malden|\n",
            "|       Amada498|     Spinka232|     F| Foxborough|\n",
            "|      Cythia210|     Reichel38|     F|    Peabody|\n",
            "|María Soledad68|   Aparicio848|     F|     Boston|\n",
            "+---------------+--------------+------+-----------+\n",
            "\n"
          ]
        }
      ]
    },
    {
      "cell_type": "markdown",
      "source": [
        "## ORDER BY and ASC\n",
        "## This query returns the first 20 patients from the patients table, ordered alphabetically by their last name."
      ],
      "metadata": {
        "id": "pnA1Q86EXTYp"
      }
    },
    {
      "cell_type": "code",
      "source": [
        "ordered_limited_df = patients_df.select(\"FIRST\", \"LAST\", \"GENDER\", \"CITY\").orderBy(\"LAST\", ascending=True).limit(20)\n",
        "ordered_limited_df.show()\n"
      ],
      "metadata": {
        "colab": {
          "base_uri": "https://localhost:8080/"
        },
        "id": "OcTl7_eNXTdx",
        "outputId": "cc9ce476-25e4-4c90-82a7-627a24c3ef26"
      },
      "execution_count": 38,
      "outputs": [
        {
          "output_type": "stream",
          "name": "stdout",
          "text": [
            "+------------+---------+------+-------------+\n",
            "|       FIRST|     LAST|GENDER|         CITY|\n",
            "+------------+---------+------+-------------+\n",
            "|   Marlin805|Abbott774|     F|     Falmouth|\n",
            "|    Rhona164|Abbott774|     F|     Stoneham|\n",
            "|Enriqueta274|Abbott774|     F|   Fall River|\n",
            "|   Prince887|Abbott774|     M|North Andover|\n",
            "|    Oliva247|Abbott774|     F|   Fall River|\n",
            "|   Darrin898|Abbott774|     M|       Newton|\n",
            "|     Soon875|Abbott774|     F|       Boston|\n",
            "|    Laine739|Abbott774|     F|       Agawam|\n",
            "|    David908|Abbott774|     M|     Franklin|\n",
            "|  Devorah937|Abbott774|     F|    Cambridge|\n",
            "|    Byron202|Abbott774|     M|      Webster|\n",
            "|      Jim478|Abbott774|     M|        Dover|\n",
            "|      Ken316|Abbott774|     M|    Haverhill|\n",
            "|    Carry843|Abbott774|     F|    Attleboro|\n",
            "|      Mia349|Abbott774|     F|   Fall River|\n",
            "|  Charles364|Abbott774|     M|     Brockton|\n",
            "|   Marlin805|Abbott774|     M|      Ashland|\n",
            "|   Miesha237|Abbott774|     F|     Stoneham|\n",
            "|   Bennie663|Abbott774|     M|    Lancaster|\n",
            "|    Lauri399|Abbott774|     F|  Springfield|\n",
            "+------------+---------+------+-------------+\n",
            "\n"
          ]
        }
      ]
    },
    {
      "cell_type": "markdown",
      "source": [
        "## ORDER BY and DESC\n",
        "## This query returns the first 20 patients from the patients table, ordered reverse alphabetically by their first name."
      ],
      "metadata": {
        "id": "3yfJftqJXTjR"
      }
    },
    {
      "cell_type": "code",
      "source": [
        "ordered_limited_df = patients_df.select(\"FIRST\", \"LAST\", \"GENDER\", \"CITY\").orderBy(\"FIRST\", ascending=False).limit(20)\n",
        "ordered_limited_df.show()\n"
      ],
      "metadata": {
        "colab": {
          "base_uri": "https://localhost:8080/"
        },
        "id": "4npU3tCcXTn5",
        "outputId": "c5e61805-a4b9-4a28-ff3a-7abb388719b8"
      },
      "execution_count": 39,
      "outputs": [
        {
          "output_type": "stream",
          "name": "stdout",
          "text": [
            "+--------+-------------+------+------------------+\n",
            "|   FIRST|         LAST|GENDER|              CITY|\n",
            "+--------+-------------+------+------------------+\n",
            "|Óscar156|    Canales95|     M|          Hamilton|\n",
            "|Óscar156| Santacruz647|     M|            Boston|\n",
            "|Óscar156|  Aguilera202|     M|       Springfield|\n",
            "|Óscar156|Valenzuela371|     M|            Boston|\n",
            "|Óscar156|    Romero158|     M|            Boston|\n",
            "|Óscar156|  Castillo397|     M|           Holyoke|\n",
            "|Óscar156|    Puente961|     M|        Greenfield|\n",
            "|Óscar156|    Dávila115|     M|           Melrose|\n",
            "|Óscar156|    Olivas524|     M|           Norwell|\n",
            "|Óscar156| Villareal516|     M|           Beverly|\n",
            "|Óscar156|    Rivero165|     M|         Lancaster|\n",
            "|Óscar156|  Carrillo204|     M|           Methuen|\n",
            "|Óscar156| Santacruz647|     M|           Amherst|\n",
            "|Óscar156|  Bañuelos542|     M|         Brookline|\n",
            "|Óscar156|     Garza151|     M|        Longmeadow|\n",
            "|Óscar156|      Toro760|     M|North Attleborough|\n",
            "|Óscar156|     Otero621|     M|            Boston|\n",
            "|Óscar156|  Carrillo204|     M|       Springfield|\n",
            "|Óscar156|   Delgado712|     M|         Haverhill|\n",
            "|Óscar156|   Cabrera242|     M|       Newburyport|\n",
            "+--------+-------------+------+------------------+\n",
            "\n"
          ]
        }
      ]
    },
    {
      "cell_type": "markdown",
      "source": [
        "## Aggregating Data using GROUP BY\n",
        "## Counting Patients by City"
      ],
      "metadata": {
        "id": "GOr7VktxXTsy"
      }
    },
    {
      "cell_type": "code",
      "source": [
        "from pyspark.sql import functions as F\n",
        "\n",
        "city_patient_count_df = patients_df.groupBy(\"CITY\").agg(F.count(\"*\").alias(\"patient_count\"))\n",
        "city_patient_count_df.show()\n"
      ],
      "metadata": {
        "colab": {
          "base_uri": "https://localhost:8080/"
        },
        "id": "sWbYsqECXTxp",
        "outputId": "c6eaf72b-468a-4a58-b1be-38fd62ed6dee"
      },
      "execution_count": 40,
      "outputs": [
        {
          "output_type": "stream",
          "name": "stdout",
          "text": [
            "+------------------+-------------+\n",
            "|              CITY|patient_count|\n",
            "+------------------+-------------+\n",
            "|         Worcester|         3263|\n",
            "|            Agawam|          541|\n",
            "|           Hanover|          270|\n",
            "|            Nahant|           54|\n",
            "|       Middlefield|           11|\n",
            "|       Springfield|         2814|\n",
            "|            Auburn|          324|\n",
            "|        Georgetown|          194|\n",
            "|             Savoy|           11|\n",
            "|        Plainfield|           10|\n",
            "|          Wrentham|          199|\n",
            "|         Granville|           26|\n",
            "|           Waltham|         1115|\n",
            "|         Fitchburg|          743|\n",
            "|       Belchertown|          300|\n",
            "|           Tisbury|           60|\n",
            "|North Attleborough|          542|\n",
            "|          Sterling|          148|\n",
            "|        Brookfield|           59|\n",
            "|            Conway|           29|\n",
            "+------------------+-------------+\n",
            "only showing top 20 rows\n",
            "\n"
          ]
        }
      ]
    },
    {
      "cell_type": "markdown",
      "source": [
        "## Counting Patients by City and sorting them highest to lowest"
      ],
      "metadata": {
        "id": "mNYMjsGBXT2x"
      }
    },
    {
      "cell_type": "code",
      "source": [
        "city_patient_count_df = patients_df.groupBy(\"CITY\").agg(F.count(\"*\").alias(\"patient_count\")).orderBy(F.col(\"patient_count\").desc())\n",
        "\n",
        "city_patient_count_df.show()"
      ],
      "metadata": {
        "colab": {
          "base_uri": "https://localhost:8080/"
        },
        "id": "QowGPFLAXT8B",
        "outputId": "34dceb5e-280f-4cfc-bd8e-d7bd42591741"
      },
      "execution_count": 41,
      "outputs": [
        {
          "output_type": "stream",
          "name": "stdout",
          "text": [
            "+-----------+-------------+\n",
            "|       CITY|patient_count|\n",
            "+-----------+-------------+\n",
            "|     Boston|        11496|\n",
            "|  Worcester|         3263|\n",
            "|Springfield|         2814|\n",
            "|  Cambridge|         2044|\n",
            "|     Lowell|         2027|\n",
            "|   Brockton|         1833|\n",
            "|       Lynn|         1714|\n",
            "|New Bedford|         1706|\n",
            "|     Quincy|         1698|\n",
            "|     Newton|         1695|\n",
            "| Fall River|         1608|\n",
            "|   Lawrence|         1505|\n",
            "| Somerville|         1397|\n",
            "| Framingham|         1270|\n",
            "|  Haverhill|         1189|\n",
            "|   Chicopee|         1151|\n",
            "|     Malden|         1137|\n",
            "|  Brookline|         1120|\n",
            "|    Waltham|         1115|\n",
            "|   Weymouth|         1079|\n",
            "+-----------+-------------+\n",
            "only showing top 20 rows\n",
            "\n"
          ]
        }
      ]
    },
    {
      "cell_type": "markdown",
      "source": [
        "## Total Number of Patients by Gender in Each City"
      ],
      "metadata": {
        "id": "Y_tTxSwMXUBC"
      }
    },
    {
      "cell_type": "code",
      "source": [
        "city_gender_patient_count_df = patients_df.groupBy(\"CITY\", \"GENDER\").agg(F.count(\"*\").alias(\"total_patients\")).orderBy(F.col(\"total_patients\").desc()).limit(10)\n",
        "\n",
        "city_gender_patient_count_df.show()\n"
      ],
      "metadata": {
        "colab": {
          "base_uri": "https://localhost:8080/"
        },
        "id": "wmmArk0iXUGR",
        "outputId": "aea38107-35d3-469c-8bb8-04c37b7ecc96"
      },
      "execution_count": 42,
      "outputs": [
        {
          "output_type": "stream",
          "name": "stdout",
          "text": [
            "+-----------+------+--------------+\n",
            "|       CITY|GENDER|total_patients|\n",
            "+-----------+------+--------------+\n",
            "|     Boston|     F|          5840|\n",
            "|     Boston|     M|          5656|\n",
            "|  Worcester|     M|          1694|\n",
            "|  Worcester|     F|          1569|\n",
            "|Springfield|     M|          1463|\n",
            "|Springfield|     F|          1351|\n",
            "|  Cambridge|     M|          1023|\n",
            "|  Cambridge|     F|          1021|\n",
            "|     Lowell|     F|          1015|\n",
            "|     Lowell|     M|          1012|\n",
            "+-----------+------+--------------+\n",
            "\n"
          ]
        }
      ]
    },
    {
      "cell_type": "markdown",
      "source": [
        "## Selection from another table"
      ],
      "metadata": {
        "id": "OuedsJMhXULK"
      }
    },
    {
      "cell_type": "code",
      "source": [
        "selected_columns_df = observations_df.select(\"PATIENT\", \"ENCOUNTER\", \"CODE\", \"DESCRIPTION\", \"VALUE\")\n",
        "selected_columns_df.show()\n"
      ],
      "metadata": {
        "colab": {
          "base_uri": "https://localhost:8080/"
        },
        "id": "jdZZGSLOXUQK",
        "outputId": "b19fe65e-d0db-4539-c308-8bc44a881963"
      },
      "execution_count": 43,
      "outputs": [
        {
          "output_type": "stream",
          "name": "stdout",
          "text": [
            "+--------------------+--------------------+-------+--------------------+------------+\n",
            "|             PATIENT|           ENCOUNTER|   CODE|         DESCRIPTION|       VALUE|\n",
            "+--------------------+--------------------+-------+--------------------+------------+\n",
            "|1ff7f10f-a204-4bb...|52051c30-c6c3-45f...| 8302-2|         Body Height|        82.7|\n",
            "|1ff7f10f-a204-4bb...|52051c30-c6c3-45f...|72514-3|Pain severity - 0...|         2.0|\n",
            "|1ff7f10f-a204-4bb...|52051c30-c6c3-45f...|29463-7|         Body Weight|        11.5|\n",
            "|1ff7f10f-a204-4bb...|52051c30-c6c3-45f...|77606-2|Weight-for-length...|        47.0|\n",
            "|1ff7f10f-a204-4bb...|52051c30-c6c3-45f...| 9843-4|Head Occipital-fr...|        46.9|\n",
            "|1ff7f10f-a204-4bb...|52051c30-c6c3-45f...| 8462-4|Diastolic Blood P...|        76.0|\n",
            "|1ff7f10f-a204-4bb...|52051c30-c6c3-45f...| 8480-6|Systolic Blood Pr...|       107.0|\n",
            "|1ff7f10f-a204-4bb...|52051c30-c6c3-45f...| 8867-4|          Heart rate|        68.0|\n",
            "|1ff7f10f-a204-4bb...|52051c30-c6c3-45f...| 9279-1|    Respiratory rate|        13.0|\n",
            "|1ff7f10f-a204-4bb...|52051c30-c6c3-45f...|72166-2|Tobacco smoking s...|Never smoker|\n",
            "|1ff7f10f-a204-4bb...|20032279-0deb-41f...| 8302-2|         Body Height|        86.3|\n",
            "|1ff7f10f-a204-4bb...|20032279-0deb-41f...|72514-3|Pain severity - 0...|         4.0|\n",
            "|1ff7f10f-a204-4bb...|20032279-0deb-41f...|29463-7|         Body Weight|        12.3|\n",
            "|1ff7f10f-a204-4bb...|20032279-0deb-41f...|77606-2|Weight-for-length...|        52.5|\n",
            "|1ff7f10f-a204-4bb...|20032279-0deb-41f...| 9843-4|Head Occipital-fr...|        47.4|\n",
            "|1ff7f10f-a204-4bb...|20032279-0deb-41f...|39156-5|     Body Mass Index|        16.5|\n",
            "|1ff7f10f-a204-4bb...|20032279-0deb-41f...|59576-9|Body mass index (...|        55.0|\n",
            "|1ff7f10f-a204-4bb...|20032279-0deb-41f...| 8462-4|Diastolic Blood P...|        78.0|\n",
            "|1ff7f10f-a204-4bb...|20032279-0deb-41f...| 8480-6|Systolic Blood Pr...|       100.0|\n",
            "|1ff7f10f-a204-4bb...|20032279-0deb-41f...| 8867-4|          Heart rate|        75.0|\n",
            "+--------------------+--------------------+-------+--------------------+------------+\n",
            "only showing top 20 rows\n",
            "\n"
          ]
        }
      ]
    },
    {
      "cell_type": "markdown",
      "source": [
        "## Average Heart Rate by Patient"
      ],
      "metadata": {
        "id": "6x-S9W9eXUVK"
      }
    },
    {
      "cell_type": "code",
      "source": [
        "result_df = observations_df.filter(observations_df.DESCRIPTION.like(\"%Heart rate%\")) \\\n",
        "    .withColumn(\"VALUE\", observations_df[\"VALUE\"].cast(\"decimal(10,6)\")).groupBy(\"PATIENT\").agg(F.round(F.avg(\"VALUE\"), 2).alias(\"average_heart_rate\")).orderBy(F.desc(\"average_heart_rate\")).limit(20)\n",
        "\n",
        "result_df.show()"
      ],
      "metadata": {
        "colab": {
          "base_uri": "https://localhost:8080/"
        },
        "id": "DAaYxpmsXUaJ",
        "outputId": "44e4ca81-4ec9-4ad0-f70f-c06dbf07bd53"
      },
      "execution_count": 44,
      "outputs": [
        {
          "output_type": "stream",
          "name": "stdout",
          "text": [
            "+--------------------+------------------+\n",
            "|             PATIENT|average_heart_rate|\n",
            "+--------------------+------------------+\n",
            "|ff2209f2-a4c9-473...|            200.00|\n",
            "|0191f8aa-96dc-41e...|            200.00|\n",
            "|c10db4e1-de51-495...|            200.00|\n",
            "|8cea2d7e-6227-492...|            200.00|\n",
            "|6ec823e7-839e-449...|            200.00|\n",
            "|18f53179-2449-47a...|            199.90|\n",
            "|ec1ce32c-57a3-44c...|            199.90|\n",
            "|c3d165d2-597e-45a...|            199.90|\n",
            "|b0112890-a24a-456...|            199.90|\n",
            "|9cc52681-4446-4e4...|            199.90|\n",
            "|04dd3439-2116-4f9...|            199.90|\n",
            "|46ea7226-63f6-404...|            199.90|\n",
            "|a05e3bd1-1c51-453...|            199.90|\n",
            "|2d4f57ee-4001-44f...|            199.80|\n",
            "|3e5c63bf-65fe-48b...|            199.80|\n",
            "|bd6784c0-3529-4a1...|            199.80|\n",
            "|423f79cf-f7b8-41c...|            199.80|\n",
            "|371e14a1-31bd-440...|            199.80|\n",
            "|00c726b2-3620-450...|            199.70|\n",
            "|803f1aef-0def-4e1...|            199.70|\n",
            "+--------------------+------------------+\n",
            "\n"
          ]
        }
      ]
    },
    {
      "cell_type": "markdown",
      "source": [
        "## Count of Heart Rate Records by Patient"
      ],
      "metadata": {
        "id": "6dyGDA6gXUfp"
      }
    },
    {
      "cell_type": "code",
      "source": [
        "heart_rate_records_df = observations_df.filter(F.col(\"DESCRIPTION\").like(\"%Heart rate%\")).groupBy(\"PATIENT\").agg(F.count(\"*\").alias(\"heart_rate_records\")) \\\n",
        "    .orderBy(F.desc(\"heart_rate_records\")).limit(20)\n",
        "\n",
        "heart_rate_records_df.show()\n"
      ],
      "metadata": {
        "colab": {
          "base_uri": "https://localhost:8080/"
        },
        "id": "OQ6zNr6FXUkh",
        "outputId": "712de2d2-22db-425d-ae2c-1698859764ec"
      },
      "execution_count": 45,
      "outputs": [
        {
          "output_type": "stream",
          "name": "stdout",
          "text": [
            "+--------------------+------------------+\n",
            "|             PATIENT|heart_rate_records|\n",
            "+--------------------+------------------+\n",
            "|3e21a156-da54-4fb...|                33|\n",
            "|01a5a5a6-ef7b-42b...|                30|\n",
            "|445953fd-15fa-424...|                30|\n",
            "|62572c44-a802-40d...|                30|\n",
            "|ffbf0392-1643-4b0...|                30|\n",
            "|f8080701-2b5c-412...|                30|\n",
            "|b9ef6005-438e-4b4...|                30|\n",
            "|a2172279-3d63-4d1...|                30|\n",
            "|c3ea3c46-f8d1-4ab...|                29|\n",
            "|e658626d-0f72-457...|                29|\n",
            "|ee9b44a1-36c6-456...|                29|\n",
            "|b5a0b060-96ae-44d...|                29|\n",
            "|5736b489-0e15-469...|                29|\n",
            "|54ec8b8e-fe2a-4cf...|                29|\n",
            "|0d5290dd-a3e3-4a8...|                29|\n",
            "|bd18ba0d-2e65-442...|                29|\n",
            "|ec3f3da2-09a1-43c...|                28|\n",
            "|8b6ee161-eb5f-413...|                28|\n",
            "|c7bd54b1-e036-470...|                28|\n",
            "|03c1210e-d145-4ae...|                28|\n",
            "+--------------------+------------------+\n",
            "\n"
          ]
        }
      ]
    },
    {
      "cell_type": "markdown",
      "source": [
        "## Looking at immunizations table"
      ],
      "metadata": {
        "id": "bC1zshyUXUqZ"
      }
    },
    {
      "cell_type": "code",
      "source": [
        "selected_columns_df = immunizations_df.select(\"PATIENT\", \"ENCOUNTER\", \"CODE\", \"DESCRIPTION\", \"BASE_COST\")\n",
        "selected_columns_df.show()\n"
      ],
      "metadata": {
        "colab": {
          "base_uri": "https://localhost:8080/"
        },
        "id": "mxmZyp9GXUvK",
        "outputId": "ed555377-4116-4c3f-990c-36a17edf19ee"
      },
      "execution_count": 46,
      "outputs": [
        {
          "output_type": "stream",
          "name": "stdout",
          "text": [
            "+--------------------+--------------------+----+--------------------+---------+\n",
            "|             PATIENT|           ENCOUNTER|CODE|         DESCRIPTION|BASE_COST|\n",
            "+--------------------+--------------------+----+--------------------+---------+\n",
            "|1ff7f10f-a204-4bb...|52051c30-c6c3-45f...| 140|Influenza  season...|   140.52|\n",
            "|1ff7f10f-a204-4bb...|20032279-0deb-41f...|  83|Hep A  ped/adol  ...|   140.52|\n",
            "|9bcf6ed5-d808-44a...|26f579ef-1dc8-489...| 140|Influenza  season...|   140.52|\n",
            "|5163c501-353c-4a8...|929c6964-3c16-481...| 140|Influenza  season...|   140.52|\n",
            "|5163c501-353c-4a8...|929c6964-3c16-481...| 114| meningococcal MCV4P|   140.52|\n",
            "|bd1c4ffc-7f1d-459...|4a01f35b-6eef-484...|   8|Hep B  adolescent...|   140.52|\n",
            "|bd1c4ffc-7f1d-459...|54b37dfa-8848-4ee...|   8|Hep B  adolescent...|   140.52|\n",
            "|bd1c4ffc-7f1d-459...|bce52dd4-5d94-4b1...|  49|       Hib (PRP-OMP)|   140.52|\n",
            "|bd1c4ffc-7f1d-459...|bce52dd4-5d94-4b1...| 119|rotavirus  monova...|   140.52|\n",
            "|bd1c4ffc-7f1d-459...|bce52dd4-5d94-4b1...|  10|                 IPV|   140.52|\n",
            "|bd1c4ffc-7f1d-459...|bce52dd4-5d94-4b1...|  20|                DTaP|   140.52|\n",
            "|bd1c4ffc-7f1d-459...|bce52dd4-5d94-4b1...| 133|Pneumococcal conj...|   140.52|\n",
            "|bd1c4ffc-7f1d-459...|3c0dc8e5-39d5-438...|  49|       Hib (PRP-OMP)|   140.52|\n",
            "|bd1c4ffc-7f1d-459...|3c0dc8e5-39d5-438...| 119|rotavirus  monova...|   140.52|\n",
            "|bd1c4ffc-7f1d-459...|3c0dc8e5-39d5-438...|  10|                 IPV|   140.52|\n",
            "|bd1c4ffc-7f1d-459...|3c0dc8e5-39d5-438...|  20|                DTaP|   140.52|\n",
            "|bd1c4ffc-7f1d-459...|3c0dc8e5-39d5-438...| 133|Pneumococcal conj...|   140.52|\n",
            "|bd1c4ffc-7f1d-459...|b19efc0e-1f48-41a...|  10|                 IPV|   140.52|\n",
            "|bd1c4ffc-7f1d-459...|b19efc0e-1f48-41a...| 140|Influenza  season...|   140.52|\n",
            "|bd1c4ffc-7f1d-459...|b19efc0e-1f48-41a...|  20|                DTaP|   140.52|\n",
            "+--------------------+--------------------+----+--------------------+---------+\n",
            "only showing top 20 rows\n",
            "\n"
          ]
        }
      ]
    },
    {
      "cell_type": "markdown",
      "source": [
        "## Total Cost of Vaccinations per Patient"
      ],
      "metadata": {
        "id": "GU28aNeiXU0a"
      }
    },
    {
      "cell_type": "code",
      "source": [
        "total_cost_df = immunizations_df.groupBy(\"PATIENT\").agg(F.sum(\"BASE_COST\").alias(\"total_cost\")).orderBy(F.desc(\"total_cost\"))\n",
        "\n",
        "total_cost_df.show()"
      ],
      "metadata": {
        "colab": {
          "base_uri": "https://localhost:8080/"
        },
        "id": "bfjx39ELXU5Z",
        "outputId": "e3f26661-d835-4240-a0b8-c7ea9f3233b3"
      },
      "execution_count": 47,
      "outputs": [
        {
          "output_type": "stream",
          "name": "stdout",
          "text": [
            "+--------------------+----------+\n",
            "|             PATIENT|total_cost|\n",
            "+--------------------+----------+\n",
            "|df7f6412-48ff-498...|    2810.4|\n",
            "|93acd0ea-6a07-4b9...|    2810.4|\n",
            "|2b27dc6a-2f25-420...|    2810.4|\n",
            "|7d263a3c-a789-4ab...|    2810.4|\n",
            "|a0c51c9d-6b53-405...|    2810.4|\n",
            "|cdf2588d-504b-482...|    2810.4|\n",
            "|5718f920-7e93-463...|    2810.4|\n",
            "|51628195-f4e3-4ac...|    2810.4|\n",
            "|a734f9ad-21e1-48f...|    2810.4|\n",
            "|511d2a40-6e74-446...|    2810.4|\n",
            "|a901eae1-51c0-4b3...|    2810.4|\n",
            "|de0da7cd-5388-4af...|    2810.4|\n",
            "|0af73c5c-e2e4-4e1...|    2810.4|\n",
            "|feffc54d-f451-4e3...|    2810.4|\n",
            "|846175e8-b843-4c4...|    2810.4|\n",
            "|b5abbfb6-755c-4ab...|    2810.4|\n",
            "|5f9670d1-1b0a-4f9...|    2810.4|\n",
            "|a6a066ad-0b0b-4b9...|    2810.4|\n",
            "|594660e4-6a02-4e3...|    2810.4|\n",
            "|d499bc37-24f9-4cf...|    2810.4|\n",
            "+--------------------+----------+\n",
            "only showing top 20 rows\n",
            "\n"
          ]
        }
      ]
    },
    {
      "cell_type": "markdown",
      "source": [
        "## Top 10 Most Common Vaccine Administered"
      ],
      "metadata": {
        "id": "EH_01x0VXU-y"
      }
    },
    {
      "cell_type": "code",
      "source": [
        "top_descriptions_df = immunizations_df.groupBy(\"DESCRIPTION\").agg(F.count(\"*\").alias(\"count\")).orderBy(F.desc(\"count\")).limit(10)\n",
        "\n",
        "top_descriptions_df.show()"
      ],
      "metadata": {
        "colab": {
          "base_uri": "https://localhost:8080/"
        },
        "id": "W_aYHdIoXVFS",
        "outputId": "0472de8e-2362-4278-8cc4-0ee890e8b2d5"
      },
      "execution_count": 48,
      "outputs": [
        {
          "output_type": "stream",
          "name": "stdout",
          "text": [
            "+--------------------+------+\n",
            "|         DESCRIPTION| count|\n",
            "+--------------------+------+\n",
            "|Influenza  season...|106564|\n",
            "|Td (adult) preser...|  9815|\n",
            "|Pneumococcal conj...|  5747|\n",
            "|                DTaP|  5735|\n",
            "|                 IPV|  4962|\n",
            "| meningococcal MCV4P|  4010|\n",
            "|       Hib (PRP-OMP)|  3615|\n",
            "|   HPV  quadrivalent|  3494|\n",
            "|Hep B  adolescent...|  3490|\n",
            "|              zoster|  3469|\n",
            "+--------------------+------+\n",
            "\n"
          ]
        }
      ]
    },
    {
      "cell_type": "markdown",
      "source": [
        "\n",
        "![download.jpeg](data:image/jpeg;base64,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)\n"
      ],
      "metadata": {
        "id": "UEBYu-3Z4dGl"
      }
    },
    {
      "cell_type": "markdown",
      "source": [
        "### For the following examples: Left table: Patients and Right Table: Immunizations\n",
        "### INNER JOIN -This join returns rows when there is at least one match in both tables. If there is no match, the rows are not returned. It's the most common type of join.\n",
        "### Find Matching Records\n",
        "### Question: Which medical treatments have been administered to patients, including the patient's name and the cost of each treatment?"
      ],
      "metadata": {
        "id": "ek-H3_LO497h"
      }
    },
    {
      "cell_type": "code",
      "source": [
        "joined_df = immunizations_df.join(patients_df, immunizations_df.PATIENT == patients_df.Id).select(patients_df.FIRST, patients_df.LAST, immunizations_df.DESCRIPTION, immunizations_df.BASE_COST) \\\n",
        "    .orderBy(patients_df.FIRST.asc())\n",
        "\n",
        "joined_df.show()"
      ],
      "metadata": {
        "colab": {
          "base_uri": "https://localhost:8080/"
        },
        "id": "lnaydUuiXVQh",
        "outputId": "5a18c568-c644-4ba2-ac4a-e679aecab20d"
      },
      "execution_count": 49,
      "outputs": [
        {
          "output_type": "stream",
          "name": "stdout",
          "text": [
            "+--------+-----------+--------------------+---------+\n",
            "|   FIRST|       LAST|         DESCRIPTION|BASE_COST|\n",
            "+--------+-----------+--------------------+---------+\n",
            "|Aaron697| Collins926|Influenza  season...|   140.52|\n",
            "|Aaron697|Lindgren255|           varicella|   140.52|\n",
            "|Aaron697|  Legros616|Influenza  season...|   140.52|\n",
            "|Aaron697|    Metz686|Influenza  season...|   140.52|\n",
            "|Aaron697|  Legros616|   HPV  quadrivalent|   140.52|\n",
            "|Aaron697|Lindgren255|                 IPV|   140.52|\n",
            "|Aaron697|   Sauer652|Influenza  season...|   140.52|\n",
            "|Aaron697|  Walter473|Influenza  season...|   140.52|\n",
            "|Aaron697| Cummings51|Influenza  season...|   140.52|\n",
            "|Aaron697|Lindgren255|Influenza  season...|   140.52|\n",
            "|Aaron697|Thompson596|Influenza  season...|   140.52|\n",
            "|Aaron697|  Crooks415|Td (adult) preser...|   140.52|\n",
            "|Aaron697|Thompson596|Td (adult) preser...|   140.52|\n",
            "|Aaron697|Lindgren255|                DTaP|   140.52|\n",
            "|Aaron697|  Rempel203|Influenza  season...|   140.52|\n",
            "|Aaron697|    Brown30|Influenza  season...|   140.52|\n",
            "|Aaron697|   Frami345|Influenza  season...|   140.52|\n",
            "|Aaron697|Lindgren255|                 MMR|   140.52|\n",
            "|Aaron697|     Fay398|Influenza  season...|   140.52|\n",
            "|Aaron697|  Crooks415|Influenza  season...|   140.52|\n",
            "+--------+-----------+--------------------+---------+\n",
            "only showing top 20 rows\n",
            "\n"
          ]
        }
      ]
    },
    {
      "cell_type": "markdown",
      "source": [
        "### LEFT JOIN - (or LEFT OUTER JOIN): This returns all rows from the left table, and the matched rows from the right table. The result is NULL from the right side, if there is no match.\n",
        "### Match and Show All Patients\n",
        "### Question: For all patients, what treatments have they received, if any?"
      ],
      "metadata": {
        "id": "fllYbBfrXVVy"
      }
    },
    {
      "cell_type": "code",
      "source": [
        "joined_df = patients_df.join(immunizations_df, patients_df.Id == immunizations_df.PATIENT, \"left_outer\") \\\n",
        "    .select(patients_df.FIRST, patients_df.LAST, immunizations_df.DESCRIPTION, immunizations_df.BASE_COST) \\\n",
        "    .orderBy(patients_df.FIRST.asc())\n",
        "\n",
        "joined_df.show()\n"
      ],
      "metadata": {
        "colab": {
          "base_uri": "https://localhost:8080/"
        },
        "id": "47qDC8VWXVbi",
        "outputId": "0a64f0cc-3085-402c-9435-dcbaf8095d19"
      },
      "execution_count": 50,
      "outputs": [
        {
          "output_type": "stream",
          "name": "stdout",
          "text": [
            "+--------+-----------+--------------------+---------+\n",
            "|   FIRST|       LAST|         DESCRIPTION|BASE_COST|\n",
            "+--------+-----------+--------------------+---------+\n",
            "|Aaron697|    Beer512|Influenza  season...|   140.52|\n",
            "|Aaron697| Roberts511|Influenza  season...|   140.52|\n",
            "|Aaron697|Hartmann983|                 IPV|   140.52|\n",
            "|Aaron697| Osinski784|Influenza  season...|   140.52|\n",
            "|Aaron697| Ritchie586|Influenza  season...|   140.52|\n",
            "|Aaron697|  Crooks415|Influenza  season...|   140.52|\n",
            "|Aaron697| Murazik203|Influenza  season...|   140.52|\n",
            "|Aaron697|Lindgren255|                 IPV|   140.52|\n",
            "|Aaron697|  Legros616|Influenza  season...|   140.52|\n",
            "|Aaron697|  Crooks415|Td (adult) preser...|   140.52|\n",
            "|Aaron697|    Metz686|Influenza  season...|   140.52|\n",
            "|Aaron697|Lindgren255|                DTaP|   140.52|\n",
            "|Aaron697|  Legros616|   HPV  quadrivalent|   140.52|\n",
            "|Aaron697|    Koch169|                NULL|     NULL|\n",
            "|Aaron697|  Dooley940|Influenza  season...|   140.52|\n",
            "|Aaron697|  Deckow585|Influenza  season...|   140.52|\n",
            "|Aaron697|Thompson596|Influenza  season...|   140.52|\n",
            "|Aaron697|     Orn563|                NULL|     NULL|\n",
            "|Aaron697|   Harvey63|Hep A  ped/adol  ...|   140.52|\n",
            "|Aaron697|   Welch179|Influenza  season...|   140.52|\n",
            "+--------+-----------+--------------------+---------+\n",
            "only showing top 20 rows\n",
            "\n"
          ]
        }
      ]
    },
    {
      "cell_type": "markdown",
      "source": [
        "### RIGHT JOIN - (or RIGHT OUTER JOIN): This returns all rows from the right table, and the matched rows from the left table. The result is NULL from the left side, if there is no match.\n",
        "### - Match and Show All Immunizations\n",
        "### Question: For all Immunizations recorded, which patients received them, if identifiable?"
      ],
      "metadata": {
        "id": "KK6qk3O5XVg6"
      }
    },
    {
      "cell_type": "code",
      "source": [
        "right_joined_df = immunizations_df.join(patients_df, immunizations_df.PATIENT == patients_df.Id, \"left\") \\\n",
        "    .select(patients_df.FIRST, patients_df.LAST, immunizations_df.DESCRIPTION, immunizations_df.BASE_COST) \\\n",
        "    .orderBy(immunizations_df.DESCRIPTION)\n",
        "\n",
        "right_joined_df.show()"
      ],
      "metadata": {
        "colab": {
          "base_uri": "https://localhost:8080/"
        },
        "id": "H2Pt6IoyXVly",
        "outputId": "fd009249-2221-41ce-b098-7a4e48b706b9"
      },
      "execution_count": 51,
      "outputs": [
        {
          "output_type": "stream",
          "name": "stdout",
          "text": [
            "+-------------+-------------+-----------+---------+\n",
            "|        FIRST|         LAST|DESCRIPTION|BASE_COST|\n",
            "+-------------+-------------+-----------+---------+\n",
            "|      Toby274|Altenwerth646|       DTaP|   140.52|\n",
            "|    Felton646|   Labadie908|       DTaP|   140.52|\n",
            "|   Lindsay928|      Dare640|       DTaP|   140.52|\n",
            "|   Refugia211|Wintheiser220|       DTaP|   140.52|\n",
            "|   Lindsay928|      Dare640|       DTaP|   140.52|\n",
            "|    Felton646|   Labadie908|       DTaP|   140.52|\n",
            "|    Manuel446|     Pagac496|       DTaP|   140.52|\n",
            "|     Karyn217|   Mueller846|       DTaP|   140.52|\n",
            "|    Shelby741|   Simonis280|       DTaP|   140.52|\n",
            "|    Felton646|   Labadie908|       DTaP|   140.52|\n",
            "|Cristopher265|      Smith67|       DTaP|   140.52|\n",
            "|  Dorothea248|      Ward668|       DTaP|   140.52|\n",
            "|    Shelby741|   Simonis280|       DTaP|   140.52|\n",
            "|      Ross213|    Torphy630|       DTaP|   140.52|\n",
            "|     Romeo514|     Bosco882|       DTaP|   140.52|\n",
            "|  Humberto482|      Mann644|       DTaP|   140.52|\n",
            "|       Sam879|     Terry864|       DTaP|   140.52|\n",
            "|      Ross213|    Torphy630|       DTaP|   140.52|\n",
            "|     Vanna750|  Hartmann983|       DTaP|   140.52|\n",
            "|   Shandra823|    Beatty507|       DTaP|   140.52|\n",
            "+-------------+-------------+-----------+---------+\n",
            "only showing top 20 rows\n",
            "\n"
          ]
        }
      ]
    },
    {
      "cell_type": "markdown",
      "source": [
        "### FULL OUTER JOIN (FULL JOIN ): This returns rows when there is a match in one of the tables. It effectively combines the results of both LEFT JOIN and RIGHT JOIN.\n",
        "### - Comprehensive Match\n",
        "### Question: What is the complete list of patients and their Immunizations, including those without recorded treatments or identifiable patients?"
      ],
      "metadata": {
        "id": "F3nl5MxpXVq6"
      }
    },
    {
      "cell_type": "code",
      "source": [
        "full_outer_joined_df = patients_df.join(immunizations_df, patients_df.Id == immunizations_df.PATIENT, \"full_outer\") \\\n",
        "    .select(patients_df.FIRST, patients_df.LAST, immunizations_df.DESCRIPTION, immunizations_df.BASE_COST) \\\n",
        "    .orderBy(patients_df.FIRST.asc())\n",
        "\n",
        "full_outer_joined_df.show()"
      ],
      "metadata": {
        "colab": {
          "base_uri": "https://localhost:8080/"
        },
        "id": "mnSuy_KyXVvq",
        "outputId": "379eeaec-1568-45ab-91a9-ebb58a9c4574"
      },
      "execution_count": 52,
      "outputs": [
        {
          "output_type": "stream",
          "name": "stdout",
          "text": [
            "+--------+-----------+--------------------+---------+\n",
            "|   FIRST|       LAST|         DESCRIPTION|BASE_COST|\n",
            "+--------+-----------+--------------------+---------+\n",
            "|Aaron697|    Beer512|Influenza  season...|   140.52|\n",
            "|Aaron697| Roberts511|Influenza  season...|   140.52|\n",
            "|Aaron697|Hartmann983|                 IPV|   140.52|\n",
            "|Aaron697| Osinski784|Influenza  season...|   140.52|\n",
            "|Aaron697| Ritchie586|Influenza  season...|   140.52|\n",
            "|Aaron697|  Crooks415|Influenza  season...|   140.52|\n",
            "|Aaron697| Murazik203|Influenza  season...|   140.52|\n",
            "|Aaron697|Lindgren255|                 IPV|   140.52|\n",
            "|Aaron697|  Legros616|Influenza  season...|   140.52|\n",
            "|Aaron697|  Crooks415|Td (adult) preser...|   140.52|\n",
            "|Aaron697|    Metz686|Influenza  season...|   140.52|\n",
            "|Aaron697|Lindgren255|                DTaP|   140.52|\n",
            "|Aaron697|  Legros616|   HPV  quadrivalent|   140.52|\n",
            "|Aaron697|    Koch169|                NULL|     NULL|\n",
            "|Aaron697|  Dooley940|Influenza  season...|   140.52|\n",
            "|Aaron697|  Deckow585|Influenza  season...|   140.52|\n",
            "|Aaron697|Thompson596|Influenza  season...|   140.52|\n",
            "|Aaron697|     Orn563|                NULL|     NULL|\n",
            "|Aaron697|   Harvey63|Hep A  ped/adol  ...|   140.52|\n",
            "|Aaron697|   Welch179|Influenza  season...|   140.52|\n",
            "+--------+-----------+--------------------+---------+\n",
            "only showing top 20 rows\n",
            "\n"
          ]
        }
      ]
    },
    {
      "cell_type": "markdown",
      "source": [
        "## CROSS JOIN : This join returns a Cartesian product of the two tables, i.e., it returns rows combining each row from the first table with each row from the second table.\n",
        "## - All Possible Combinations\n",
        "## Question: What are all possible combinations of patients and immunizations? (sometimes it may not make sense; this is just for demonstration purpose)"
      ],
      "metadata": {
        "id": "RvP0Bc70XV1J"
      }
    },
    {
      "cell_type": "code",
      "source": [
        "cross_joined_df = patients_df.crossJoin(immunizations_df).select(patients_df.FIRST, patients_df.LAST, immunizations_df.DESCRIPTION)\n",
        "\n",
        "cross_joined_df.show()\n"
      ],
      "metadata": {
        "colab": {
          "base_uri": "https://localhost:8080/"
        },
        "id": "ARVLw39nXV5y",
        "outputId": "44c5baeb-828f-4ad1-8154-64badf2ffe21"
      },
      "execution_count": 53,
      "outputs": [
        {
          "output_type": "stream",
          "name": "stdout",
          "text": [
            "+---------------+--------------+--------------------+\n",
            "|          FIRST|          LAST|         DESCRIPTION|\n",
            "+---------------+--------------+--------------------+\n",
            "|     Jacinto644|       Kris249|Influenza  season...|\n",
            "|        Alva958|    Krajcik437|Influenza  season...|\n",
            "|       Jimmie93|     Harris789|Influenza  season...|\n",
            "|    Gregorio366|        Auer97|Influenza  season...|\n",
            "|       Karyn217|    Mueller846|Influenza  season...|\n",
            "|      Jayson808|      Fadel536|Influenza  season...|\n",
            "|José Eduardo181|      Gómez206|Influenza  season...|\n",
            "|        Milo271|       Feil794|Influenza  season...|\n",
            "|       Karyn217|       Metz686|Influenza  season...|\n",
            "|     Jeffrey461|Greenfelder433|Influenza  season...|\n",
            "|     Mariana775|  Gulgowski816|Influenza  season...|\n",
            "|       Leann224|     Deckow585|Influenza  season...|\n",
            "|      Isabel214|   Hinojosa147|Influenza  season...|\n",
            "|    Christal240|       Brown30|Influenza  season...|\n",
            "|    Carmelia328| Konopelski743|Influenza  season...|\n",
            "|        Raye931|      Wyman904|Influenza  season...|\n",
            "|      Lisbeth69|       Rowe323|Influenza  season...|\n",
            "|       Amada498|     Spinka232|Influenza  season...|\n",
            "|      Cythia210|     Reichel38|Influenza  season...|\n",
            "|María Soledad68|   Aparicio848|Influenza  season...|\n",
            "+---------------+--------------+--------------------+\n",
            "only showing top 20 rows\n",
            "\n"
          ]
        }
      ]
    },
    {
      "cell_type": "markdown",
      "source": [
        "### SELF JOIN - This is not a different type of join, but it's a regular join used to join a table to itself. It's useful for queries where you need to compare rows within the same table.\n",
        "### Patients in the Same City\n",
        "### Question: Which pair of patients are from the same city?"
      ],
      "metadata": {
        "id": "qh_ul0xuXV-6"
      }
    },
    {
      "cell_type": "code",
      "source": [
        "from pyspark.sql.functions import col\n",
        "\n",
        "# Alias the DataFrame for both instances of the self-join\n",
        "patients_a = patients_df.alias(\"A\")\n",
        "patients_b = patients_df.alias(\"B\")\n",
        "\n",
        "# Perform the self-join with conditions, ensuring to reference the alias\n",
        "joined_df = patients_a.join(patients_b, (col(\"A.CITY\") == col(\"B.CITY\")) & (col(\"A.Id\") != col(\"B.Id\"))) \\\n",
        "    .select(col(\"A.FIRST\").alias(\"FirstPatient\"), col(\"B.FIRST\").alias(\"SecondPatient\"), col(\"A.CITY\")) \\\n",
        "    .orderBy(col(\"A.CITY\"))\n",
        "\n",
        "joined_df.show()"
      ],
      "metadata": {
        "colab": {
          "base_uri": "https://localhost:8080/"
        },
        "id": "RizamDqrXWDS",
        "outputId": "4446c704-ac43-4c62-fc8f-88d1701fa50a"
      },
      "execution_count": 55,
      "outputs": [
        {
          "output_type": "stream",
          "name": "stdout",
          "text": [
            "+------------+-------------+--------+\n",
            "|FirstPatient|SecondPatient|    CITY|\n",
            "+------------+-------------+--------+\n",
            "|     Tory770|     Shaun461|Abington|\n",
            "|  Frankie174|     Shaun461|Abington|\n",
            "|     Tory770|     Felix524|Abington|\n",
            "|  Frankie174|     Felix524|Abington|\n",
            "|     Tory770|     Susan422|Abington|\n",
            "|  Frankie174|     Susan422|Abington|\n",
            "|     Tory770|     India495|Abington|\n",
            "|  Frankie174|     India495|Abington|\n",
            "|     Tory770|    Stevie682|Abington|\n",
            "|  Frankie174|    Stevie682|Abington|\n",
            "|     Tory770|  Faustino767|Abington|\n",
            "|  Frankie174|  Faustino767|Abington|\n",
            "|     Tory770|     Jodie811|Abington|\n",
            "|  Frankie174|     Jodie811|Abington|\n",
            "|     Tory770|      Daria61|Abington|\n",
            "|  Frankie174|      Daria61|Abington|\n",
            "|     Tory770|  Claudine313|Abington|\n",
            "|  Frankie174|  Claudine313|Abington|\n",
            "|     Tory770|    Margot418|Abington|\n",
            "|  Frankie174|    Margot418|Abington|\n",
            "+------------+-------------+--------+\n",
            "only showing top 20 rows\n",
            "\n"
          ]
        }
      ]
    },
    {
      "cell_type": "markdown",
      "source": [
        "## Subqueries and Nested Selects"
      ],
      "metadata": {
        "id": "vC8SM5ro_nvs"
      }
    },
    {
      "cell_type": "markdown",
      "source": [
        "### Use subqueries to find patients based on specific criteria.\n",
        "\n",
        "### Find all patients who have been prescribed medication with a base cost higher than the average base cost of all medications."
      ],
      "metadata": {
        "id": "7tnYi1ENAIT_"
      }
    },
    {
      "cell_type": "code",
      "source": [
        "# Calculate the average BASE_COST from the medications DataFrame\n",
        "avg_base_cost = medications_df.agg(F.avg(\"BASE_COST\").alias(\"avg_cost\")).collect()[0][\"avg_cost\"]\n",
        "\n",
        "# Filter medications for rows where BASE_COST is higher than the average\n",
        "medications_above_avg = medications_df.filter(medications_df[\"BASE_COST\"] > avg_base_cost)\n",
        "\n",
        "# Join the filtered medications DataFrame with the patients DataFrame to get the names\n",
        "patients_with_high_cost_meds = patients_df.join(\n",
        "    medications_above_avg,\n",
        "    patients_df[\"Id\"] == medications_above_avg[\"PATIENT\"],\n",
        "    \"inner\"\n",
        ").select(\"FIRST\", \"LAST\").distinct()\n",
        "\n",
        "patients_with_high_cost_meds.show()"
      ],
      "metadata": {
        "colab": {
          "base_uri": "https://localhost:8080/"
        },
        "id": "4ktERM16_n4U",
        "outputId": "d39dbd04-270e-4c4a-b923-38dbeb3017b8"
      },
      "execution_count": 56,
      "outputs": [
        {
          "output_type": "stream",
          "name": "stdout",
          "text": [
            "+-----------+--------------+\n",
            "|      FIRST|          LAST|\n",
            "+-----------+--------------+\n",
            "|   Dwain139|   O'Conner199|\n",
            "|    Rick943|     Parker433|\n",
            "|     Cleo27|    Pacocha935|\n",
            "| Joellen497|      Hills818|\n",
            "| Stewart672|   Mosciski958|\n",
            "| Cameron381|      Boyle917|\n",
            "|   Carla633|   McKenzie376|\n",
            "|    Rene434|Satterfield305|\n",
            "|  Nadine465|    Quitzon246|\n",
            "| Gregory545|    Osinski784|\n",
            "|    Sona831|      Jerde200|\n",
            "|      José3|   Ceballos171|\n",
            "| Annetta101|      Kulas532|\n",
            "|Emmanuel930|       Funk324|\n",
            "|    Mack300|    Schuppe920|\n",
            "| Gonzalo160|     O'Hara248|\n",
            "|   Karie712|     Legros616|\n",
            "|  Alfredo17| Stiedemann542|\n",
            "|   Eloisa55|      Salinas3|\n",
            "| Rosanna866|    Jenkins714|\n",
            "+-----------+--------------+\n",
            "only showing top 20 rows\n",
            "\n"
          ]
        }
      ]
    },
    {
      "cell_type": "markdown",
      "source": [
        "## Correlated Subqueries\n",
        "## Learn how to use correlated subqueries to perform row-specific comparisons.\n",
        "## Find patients whose healthcare expenses are higher than the average expenses in their county."
      ],
      "metadata": {
        "id": "PP6mHtHG_n-U"
      }
    },
    {
      "cell_type": "code",
      "source": [
        "# Step 1: Calculate average expenses by county\n",
        "avg_expenses_by_county = patients_df.groupBy(\"COUNTY\") \\\n",
        "    .agg(F.round(F.avg(\"HEALTHCARE_EXPENSES\"), 2).alias(\"COUNTY_AVG_EXPENSES\"))\n",
        "\n",
        "# Step 2: Join the average expenses with the original patients DataFrame\n",
        "patients_with_avg_expenses = patients_df.join(avg_expenses_by_county, \"COUNTY\")\n",
        "\n",
        "# Step 3: Filter for patients with healthcare expenses above their county's average\n",
        "patients_above_avg = patients_with_avg_expenses.filter(\n",
        "    patients_with_avg_expenses.HEALTHCARE_EXPENSES > patients_with_avg_expenses.COUNTY_AVG_EXPENSES\n",
        ").select(\n",
        "    \"FIRST\",\n",
        "    \"LAST\",\n",
        "    \"COUNTY\",\n",
        "    \"HEALTHCARE_EXPENSES\",\n",
        "    F.col(\"COUNTY_AVG_EXPENSES\").alias(\"ROUNDED_AVG_HEALTHCARE_EXPENSES\")\n",
        ")\n",
        "\n",
        "patients_above_avg.show()"
      ],
      "metadata": {
        "colab": {
          "base_uri": "https://localhost:8080/"
        },
        "id": "NFtkNn5k_oIM",
        "outputId": "5ad89132-baac-48e3-b502-f045b9654dfb"
      },
      "execution_count": 57,
      "outputs": [
        {
          "output_type": "stream",
          "name": "stdout",
          "text": [
            "+------------+--------------+----------------+-------------------+-------------------------------+\n",
            "|       FIRST|          LAST|          COUNTY|HEALTHCARE_EXPENSES|ROUNDED_AVG_HEALTHCARE_EXPENSES|\n",
            "+------------+--------------+----------------+-------------------+-------------------------------+\n",
            "|     Milo271|       Feil794|Middlesex County|          880850.51|                      841491.73|\n",
            "|  Mariana775|  Gulgowski816|Middlesex County|          883040.92|                      841491.73|\n",
            "|   Isabel214|   Hinojosa147|  Bristol County|         1137386.19|                      793296.73|\n",
            "| Christal240|       Brown30|  Suffolk County|          761931.85|                      664340.79|\n",
            "|     Raye931|      Wyman904|  Norfolk County|         1469472.08|                      874351.83|\n",
            "|    Amada498|     Spinka232|  Norfolk County|         1400772.46|                      874351.83|\n",
            "|    Danae973|   Franecki195|Middlesex County|         1507529.08|                      841491.73|\n",
            "|   Anissa357|    Mueller846|Middlesex County|         1363750.36|                      841491.73|\n",
            "|Margurite588|   Bernhard322|    Essex County|  871570.3200000001|                       814437.7|\n",
            "|   Edmund685|     Walker122| Plymouth County| 1650726.1400000001|                       856778.1|\n",
            "|      Kim439|   Donnelly343|Worcester County|         1058602.79|                      804752.74|\n",
            "|    Louie190|     Jacobi462| Franklin County|          965350.23|                      818685.43|\n",
            "|    Ashton21|    Goldner995|  Norfolk County|         1194003.28|                      874351.83|\n",
            "|   Marvel321|      Wyman904|Middlesex County|          1307170.6|                      841491.73|\n",
            "|   Wesley533|        Rau926|  Bristol County| 1221345.4000000001|                      793296.73|\n",
            "|  Emerson869|    Hagenes547|    Essex County|         1624622.98|                       814437.7|\n",
            "|  Carlton317|Breitenberg711|  Norfolk County|          944833.66|                      874351.83|\n",
            "|    Cesar434|      Klein929|Hampshire County|         1036498.18|                      755118.01|\n",
            "| Stanford577|    Goodwin327|Middlesex County|         1113259.27|                      841491.73|\n",
            "|    Carol737|     Harber290|    Essex County|         1061315.27|                       814437.7|\n",
            "+------------+--------------+----------------+-------------------+-------------------------------+\n",
            "only showing top 20 rows\n",
            "\n"
          ]
        }
      ]
    },
    {
      "cell_type": "markdown",
      "source": [
        "## Find patients whose healthcare coverage is above the average of their respective city."
      ],
      "metadata": {
        "id": "nIZX1OTC_oNk"
      }
    },
    {
      "cell_type": "code",
      "source": [
        "# Step 1\n",
        "city_avg_coverage = patients_df.groupBy(\"CITY\").agg(F.avg(\"HEALTHCARE_COVERAGE\").alias(\"AVG_COVERAGE\"))\n",
        "\n",
        "# Step 2\n",
        "patients_with_city_avg = patients_df.join(city_avg_coverage, \"CITY\")\n",
        "\n",
        "# Step 3\n",
        "patients_above_city_avg = patients_with_city_avg.filter(patients_with_city_avg[\"HEALTHCARE_COVERAGE\"] > patients_with_city_avg[\"AVG_COVERAGE\"])\n",
        "\n",
        "# Step 4\n",
        "final_df = patients_above_city_avg.select(\n",
        "    \"FIRST\",\n",
        "    \"LAST\",\n",
        "    \"CITY\",\n",
        "    F.round(\"HEALTHCARE_COVERAGE\", 2).alias(\"INDIVIDUAL_COVERAGE\"),\n",
        "    F.round(\"AVG_COVERAGE\", 2).alias(\"CITY_AVERAGE_COVERAGE\")\n",
        ")\n",
        "\n",
        "final_df.show()"
      ],
      "metadata": {
        "colab": {
          "base_uri": "https://localhost:8080/"
        },
        "id": "9l7mKqGS_oT9",
        "outputId": "224f7856-4bbb-493a-ea17-1e02f8740e2d"
      },
      "execution_count": 58,
      "outputs": [
        {
          "output_type": "stream",
          "name": "stdout",
          "text": [
            "+-------------+-------------+-------------+-------------------+---------------------+\n",
            "|        FIRST|         LAST|         CITY|INDIVIDUAL_COVERAGE|CITY_AVERAGE_COVERAGE|\n",
            "+-------------+-------------+-------------+-------------------+---------------------+\n",
            "|  Carmelia328|Konopelski743|      Ashland|           72357.13|             11317.82|\n",
            "|     Danae973|  Franecki195|   Framingham|           19755.11|             11988.99|\n",
            "|    Anissa357|   Mueller846|      Waltham|           15054.36|             14495.07|\n",
            "|   Margert370|   DuBuque211|       Malden|           36869.19|             14078.74|\n",
            "|      Evia329|    Heller342|    Westfield|           25110.07|             12653.19|\n",
            "|   Caterina17|    Hirthe744|    Fitchburg|           17405.74|              12306.5|\n",
            "|        Tia76|    Spinka232|Middleborough|           20767.46|             12223.34|\n",
            "|    Sammie902| Greenholt190|     Plymouth|           20322.88|             10826.53|\n",
            "|     Jamey282|  Hermiston71|      Concord|           24346.81|             13073.82|\n",
            "|   Hermila490|     Lakin515|      Gardner|           15691.76|             14683.32|\n",
            "|      Alane21|       Toy286|Middleborough|           22980.99|             12223.34|\n",
            "|      Aron520|     Hintz995|       Boston|           38105.31|              10725.8|\n",
            "|   Angelic427|    Keeling57|      Seekonk|            15843.8|              7850.05|\n",
            "|      Brad867|     Fahey393|       Boston|           15826.44|              10725.8|\n",
            "|      Isiah14|   Fritsch593|       Leyden|           18801.16|             11746.85|\n",
            "|    Weldon459|   Effertz744|       Quincy|           14972.43|             12101.12|\n",
            "|  Florentino8|    Herman763|     Plymouth|           14258.52|             10826.53|\n",
            "|Marylouise236|    Skiles927|   Wilmington|           24763.96|              9411.52|\n",
            "|   Scottie437|    Ziemann98|     Hamilton|           10698.66|              8642.39|\n",
            "|    Emilie407|    Keeling57|       Lowell|           14164.32|             13548.73|\n",
            "+-------------+-------------+-------------+-------------------+---------------------+\n",
            "only showing top 20 rows\n",
            "\n"
          ]
        }
      ]
    },
    {
      "cell_type": "markdown",
      "source": [
        "## FUNCTIONS\n",
        "\n",
        "## String Functions\n",
        "## CONCAT: Concatenates two or more strings."
      ],
      "metadata": {
        "id": "xw4Qq44i_oZV"
      }
    },
    {
      "cell_type": "code",
      "source": [
        "full_name_df = patients_df.select(F.concat_ws(\" \", patients_df.FIRST, patients_df.LAST).alias(\"FullName\")).limit(10)\n",
        "full_name_df.show()"
      ],
      "metadata": {
        "colab": {
          "base_uri": "https://localhost:8080/"
        },
        "id": "jOEtv1rm_oes",
        "outputId": "c672ced6-ec26-40f6-9055-6c50ff625276"
      },
      "execution_count": 59,
      "outputs": [
        {
          "output_type": "stream",
          "name": "stdout",
          "text": [
            "+--------------------+\n",
            "|            FullName|\n",
            "+--------------------+\n",
            "|  Jacinto644 Kris249|\n",
            "|  Alva958 Krajcik437|\n",
            "|  Jimmie93 Harris789|\n",
            "|  Gregorio366 Auer97|\n",
            "| Karyn217 Mueller846|\n",
            "|  Jayson808 Fadel536|\n",
            "|José Eduardo181 G...|\n",
            "|     Milo271 Feil794|\n",
            "|    Karyn217 Metz686|\n",
            "|Jeffrey461 Greenf...|\n",
            "+--------------------+\n",
            "\n"
          ]
        }
      ]
    },
    {
      "cell_type": "markdown",
      "source": [
        "## DATALENGTH: Returns the number of bytes used to represent any expression."
      ],
      "metadata": {
        "id": "RJVc6CSa_ojk"
      }
    },
    {
      "cell_type": "code",
      "source": [
        "length_in_bytes_df = patients_df.select(\"FIRST\", F.length(\"FIRST\").alias(\"LengthInBytes\")).limit(10)\n",
        "length_in_bytes_df.show()"
      ],
      "metadata": {
        "colab": {
          "base_uri": "https://localhost:8080/"
        },
        "id": "YOUoCV_-_opO",
        "outputId": "6f8ccbdf-1379-42c2-c0db-ecbda68360ae"
      },
      "execution_count": 60,
      "outputs": [
        {
          "output_type": "stream",
          "name": "stdout",
          "text": [
            "+---------------+-------------+\n",
            "|          FIRST|LengthInBytes|\n",
            "+---------------+-------------+\n",
            "|     Jacinto644|           10|\n",
            "|        Alva958|            7|\n",
            "|       Jimmie93|            8|\n",
            "|    Gregorio366|           11|\n",
            "|       Karyn217|            8|\n",
            "|      Jayson808|            9|\n",
            "|José Eduardo181|           15|\n",
            "|        Milo271|            7|\n",
            "|       Karyn217|            8|\n",
            "|     Jeffrey461|           10|\n",
            "+---------------+-------------+\n",
            "\n"
          ]
        }
      ]
    },
    {
      "cell_type": "markdown",
      "source": [
        "### LEFT: Returns the left part of a character string with the specified number of characters."
      ],
      "metadata": {
        "id": "mG5oxlqF_ovE"
      }
    },
    {
      "cell_type": "code",
      "source": [
        "initials_df = patients_df.select(F.expr(\"substr(FIRST, 1, 5)\").alias(\"Initial\")).limit(10)\n",
        "initials_df.show()"
      ],
      "metadata": {
        "colab": {
          "base_uri": "https://localhost:8080/"
        },
        "id": "we0TdU5q_o0M",
        "outputId": "f0315efb-22a2-472e-9ae5-044802f5611b"
      },
      "execution_count": 61,
      "outputs": [
        {
          "output_type": "stream",
          "name": "stdout",
          "text": [
            "+-------+\n",
            "|Initial|\n",
            "+-------+\n",
            "|  Jacin|\n",
            "|  Alva9|\n",
            "|  Jimmi|\n",
            "|  Grego|\n",
            "|  Karyn|\n",
            "|  Jayso|\n",
            "|  José |\n",
            "|  Milo2|\n",
            "|  Karyn|\n",
            "|  Jeffr|\n",
            "+-------+\n",
            "\n"
          ]
        }
      ]
    },
    {
      "cell_type": "markdown",
      "source": [
        "### RIGHT: Returns the right part of a character string with the specified number of characters."
      ],
      "metadata": {
        "id": "BJtRaKHEEgt_"
      }
    },
    {
      "cell_type": "code",
      "source": [
        "result_df = patients_df.withColumn(\"LastSixChars\", F.expr(\"substr(FIRST, length(FIRST)-5, 6)\"))\n",
        "result_df.select(\"FIRST\", \"LastSixChars\").limit(10).show()"
      ],
      "metadata": {
        "colab": {
          "base_uri": "https://localhost:8080/"
        },
        "id": "2XjEOIwAEg6H",
        "outputId": "bbc57926-db9a-405f-ccf5-549b70eb9f33"
      },
      "execution_count": 62,
      "outputs": [
        {
          "output_type": "stream",
          "name": "stdout",
          "text": [
            "+---------------+------------+\n",
            "|          FIRST|LastSixChars|\n",
            "+---------------+------------+\n",
            "|     Jacinto644|      nto644|\n",
            "|        Alva958|      lva958|\n",
            "|       Jimmie93|      mmie93|\n",
            "|    Gregorio366|      rio366|\n",
            "|       Karyn217|      ryn217|\n",
            "|      Jayson808|      son808|\n",
            "|José Eduardo181|      rdo181|\n",
            "|        Milo271|      ilo271|\n",
            "|       Karyn217|      ryn217|\n",
            "|     Jeffrey461|      rey461|\n",
            "+---------------+------------+\n",
            "\n"
          ]
        }
      ]
    },
    {
      "cell_type": "markdown",
      "source": [
        "### LOWER: Converts all characters in the specified string to lowercase.\n",
        "### UPPER: Convert to uppercase"
      ],
      "metadata": {
        "id": "VB81iKR4_o5k"
      }
    },
    {
      "cell_type": "code",
      "source": [
        "transformed_names_df = patients_df.select(\n",
        "    F.lower(F.col(\"FIRST\")).alias(\"LowercaseFirstName\"),\n",
        "    F.upper(F.col(\"LAST\")).alias(\"UppercaseLastName\")\n",
        ").limit(10)\n",
        "\n",
        "transformed_names_df.show()"
      ],
      "metadata": {
        "colab": {
          "base_uri": "https://localhost:8080/"
        },
        "id": "cAX0kKp6FdSk",
        "outputId": "98381f22-72e3-4b78-9eb8-d55cc559b6db"
      },
      "execution_count": 63,
      "outputs": [
        {
          "output_type": "stream",
          "name": "stdout",
          "text": [
            "+------------------+-----------------+\n",
            "|LowercaseFirstName|UppercaseLastName|\n",
            "+------------------+-----------------+\n",
            "|        jacinto644|          KRIS249|\n",
            "|           alva958|       KRAJCIK437|\n",
            "|          jimmie93|        HARRIS789|\n",
            "|       gregorio366|           AUER97|\n",
            "|          karyn217|       MUELLER846|\n",
            "|         jayson808|         FADEL536|\n",
            "|   josé eduardo181|         GÓMEZ206|\n",
            "|           milo271|          FEIL794|\n",
            "|          karyn217|          METZ686|\n",
            "|        jeffrey461|   GREENFELDER433|\n",
            "+------------------+-----------------+\n",
            "\n"
          ]
        }
      ]
    },
    {
      "cell_type": "markdown",
      "source": [
        "### LTRIM: Removes leading spaces from a string."
      ],
      "metadata": {
        "id": "fpclTB0U_pFn"
      }
    },
    {
      "cell_type": "code",
      "source": [
        "trimmed_address_df = patients_df.select(F.ltrim(patients_df.ADDRESS).alias(\"TrimmedAddress\")).limit(10)\n",
        "trimmed_address_df.show()"
      ],
      "metadata": {
        "colab": {
          "base_uri": "https://localhost:8080/"
        },
        "id": "9ngiFSS5_pNl",
        "outputId": "69f68e8e-3d96-43c8-af82-f702816ae28e"
      },
      "execution_count": 64,
      "outputs": [
        {
          "output_type": "stream",
          "name": "stdout",
          "text": [
            "+--------------------+\n",
            "|      TrimmedAddress|\n",
            "+--------------------+\n",
            "|888 Hickle Ferry ...|\n",
            "| 1048 Skiles Trailer|\n",
            "|201 Mitchell Lodg...|\n",
            "|1050 Lindgren Ext...|\n",
            "|570 Abshire Forge...|\n",
            "|1056 Harris Lane ...|\n",
            "|427 Balistreri Wa...|\n",
            "|422 Farrell Path ...|\n",
            "|181 Feest Passage...|\n",
            "|428 Wiza Glen Uni...|\n",
            "+--------------------+\n",
            "\n"
          ]
        }
      ]
    },
    {
      "cell_type": "markdown",
      "source": [
        "#### REGEXP_REPLACE can use regular expressions to strip numeric characters:"
      ],
      "metadata": {
        "id": "9nSJKvqSJPeP"
      }
    },
    {
      "cell_type": "code",
      "source": [
        "modified_df = patients_df.select(\n",
        "    \"FIRST\",\n",
        "    F.regexp_replace(\"FIRST\", '[0-9]', '').alias(\"FirstNameStripped\"),\n",
        "    \"LAST\",\n",
        "    F.regexp_replace(\"LAST\", '[0-9]', '').alias(\"LastNameStripped\")\n",
        ")\n",
        "\n",
        "modified_df.show()"
      ],
      "metadata": {
        "colab": {
          "base_uri": "https://localhost:8080/"
        },
        "id": "MwKjwWl5JPoI",
        "outputId": "4634ec92-b038-4651-dcf7-b5e3aeb38944"
      },
      "execution_count": 66,
      "outputs": [
        {
          "output_type": "stream",
          "name": "stdout",
          "text": [
            "+---------------+-----------------+--------------+----------------+\n",
            "|          FIRST|FirstNameStripped|          LAST|LastNameStripped|\n",
            "+---------------+-----------------+--------------+----------------+\n",
            "|     Jacinto644|          Jacinto|       Kris249|            Kris|\n",
            "|        Alva958|             Alva|    Krajcik437|         Krajcik|\n",
            "|       Jimmie93|           Jimmie|     Harris789|          Harris|\n",
            "|    Gregorio366|         Gregorio|        Auer97|            Auer|\n",
            "|       Karyn217|            Karyn|    Mueller846|         Mueller|\n",
            "|      Jayson808|           Jayson|      Fadel536|           Fadel|\n",
            "|José Eduardo181|     José Eduardo|      Gómez206|           Gómez|\n",
            "|        Milo271|             Milo|       Feil794|            Feil|\n",
            "|       Karyn217|            Karyn|       Metz686|            Metz|\n",
            "|     Jeffrey461|          Jeffrey|Greenfelder433|     Greenfelder|\n",
            "|     Mariana775|          Mariana|  Gulgowski816|       Gulgowski|\n",
            "|       Leann224|            Leann|     Deckow585|          Deckow|\n",
            "|      Isabel214|           Isabel|   Hinojosa147|        Hinojosa|\n",
            "|    Christal240|         Christal|       Brown30|           Brown|\n",
            "|    Carmelia328|         Carmelia| Konopelski743|      Konopelski|\n",
            "|        Raye931|             Raye|      Wyman904|           Wyman|\n",
            "|      Lisbeth69|          Lisbeth|       Rowe323|            Rowe|\n",
            "|       Amada498|            Amada|     Spinka232|          Spinka|\n",
            "|      Cythia210|           Cythia|     Reichel38|         Reichel|\n",
            "|María Soledad68|    María Soledad|   Aparicio848|        Aparicio|\n",
            "+---------------+-----------------+--------------+----------------+\n",
            "only showing top 20 rows\n",
            "\n"
          ]
        }
      ]
    },
    {
      "cell_type": "markdown",
      "source": [
        "### REPLACE: Replaces all occurrences of a specified string value with another string value."
      ],
      "metadata": {
        "id": "6aSE2-Ba_pSd"
      }
    },
    {
      "cell_type": "code",
      "source": [
        "filtered_patients_df = patients_df.filter(patients_df.ADDRESS.contains(\"Street\")).select(\n",
        "        \"FIRST\",\n",
        "        \"LAST\",\n",
        "        F.col(\"ADDRESS\").alias(\"LongAddress\"),\n",
        "        F.regexp_replace(\"ADDRESS\", \"Street\", \"St\").alias(\"ShortAddress\")\n",
        "    ).limit(10)\n",
        "\n",
        "filtered_patients_df.show()"
      ],
      "metadata": {
        "colab": {
          "base_uri": "https://localhost:8080/"
        },
        "id": "QtjSZGuv_pYd",
        "outputId": "14b1f7ac-e6bf-436a-ec50-e2c5da312920"
      },
      "execution_count": 65,
      "outputs": [
        {
          "output_type": "stream",
          "name": "stdout",
          "text": [
            "+----------+-------------+--------------------+--------------------+\n",
            "|     FIRST|         LAST|         LongAddress|        ShortAddress|\n",
            "+----------+-------------+--------------------+--------------------+\n",
            "| Lorrie905|    Leannon79|   813 Casper Street|       813 Casper St|\n",
            "|    Asa127|     Block661|140 Rohan Street ...|140 Rohan St Suit...|\n",
            "|  Logan497|    Brekke496|     1081 Orn Street|         1081 Orn St|\n",
            "| Cletus494|   Strosin214|   1019 Haley Street|       1019 Haley St|\n",
            "|Cortney940|     Stehr398|  458 Streich Street|      458 Streich St|\n",
            "|Latoyia537|   Gaylord332|   200 Heaney Street|       200 Heaney St|\n",
            "|  Clark193|     Hilll811|202 Tromp Street ...|202 Tromp St Suite 0|\n",
            "|     Jc393|     Bosco882|    792 Walsh Street|        792 Walsh St|\n",
            "|   Noel608|Swaniawski813|   155 Walter Street|       155 Walter St|\n",
            "|   Sari509|     Hoppe518|550 Lang Street S...|550 Lang St Suite 65|\n",
            "+----------+-------------+--------------------+--------------------+\n",
            "\n"
          ]
        }
      ]
    },
    {
      "cell_type": "markdown",
      "source": [
        "### SUBSTRING: Returns part of a character, binary, text,"
      ],
      "metadata": {
        "id": "JasQng9tEctX"
      }
    },
    {
      "cell_type": "code",
      "source": [
        "result_df = patients_df.select(\"FIRST\", F.substring(\"FIRST\", 1, 4).alias(\"FirstFourChars\")).limit(5)\n",
        "result_df.show()"
      ],
      "metadata": {
        "colab": {
          "base_uri": "https://localhost:8080/"
        },
        "id": "cV01l3CdEc7Y",
        "outputId": "9b1445e9-9135-4ab8-f7be-c5cbb2c4f279"
      },
      "execution_count": 67,
      "outputs": [
        {
          "output_type": "stream",
          "name": "stdout",
          "text": [
            "+-----------+--------------+\n",
            "|      FIRST|FirstFourChars|\n",
            "+-----------+--------------+\n",
            "| Jacinto644|          Jaci|\n",
            "|    Alva958|          Alva|\n",
            "|   Jimmie93|          Jimm|\n",
            "|Gregorio366|          Greg|\n",
            "|   Karyn217|          Kary|\n",
            "+-----------+--------------+\n",
            "\n"
          ]
        }
      ]
    }
  ]
}
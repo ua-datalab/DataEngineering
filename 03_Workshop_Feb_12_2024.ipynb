{
  "cells": [
    {
      "cell_type": "markdown",
      "source": [
        "# **Workshop 3: Introduction to SQL and duckDB - Basic querying commands and joins**"
      ],
      "metadata": {
        "id": "gVveuG2hP7Xn"
      },
      "id": "gVveuG2hP7Xn"
    },
    {
      "cell_type": "code",
      "source": [
        "import duckdb"
      ],
      "metadata": {
        "id": "esUqpB0zP5qI"
      },
      "id": "esUqpB0zP5qI",
      "execution_count": null,
      "outputs": []
    },
    {
      "cell_type": "markdown",
      "id": "5d87bc22-901f-4d69-bde6-a0fa9a86f13c",
      "metadata": {
        "id": "5d87bc22-901f-4d69-bde6-a0fa9a86f13c"
      },
      "source": [
        "# Working with an available dataset (Covid19-patients 100k synthetic dataset)\n",
        "## Dataset Link [Link](https://mitre.box.com/shared/static/wk3560f962ozlg7sd2oj1zxk73ayqvm0.zip)"
      ]
    },
    {
      "cell_type": "markdown",
      "source": [
        "## Let's download the database file"
      ],
      "metadata": {
        "id": "WO6F0xlskxQc"
      },
      "id": "WO6F0xlskxQc"
    },
    {
      "cell_type": "code",
      "source": [
        "!wget --content-disposition https://arizona.box.com/shared/static/uozg0z86rtdjupwpc7i971xwzuzhp42o.duckdb"
      ],
      "metadata": {
        "colab": {
          "base_uri": "https://localhost:8080/"
        },
        "id": "YRmtiIivkwjc",
        "outputId": "5d537647-b0b3-4067-ba18-c8cf3ac718e5"
      },
      "id": "YRmtiIivkwjc",
      "execution_count": null,
      "outputs": [
        {
          "output_type": "stream",
          "name": "stdout",
          "text": [
            "--2024-02-11 09:58:57--  https://arizona.box.com/shared/static/uozg0z86rtdjupwpc7i971xwzuzhp42o.duckdb\n",
            "Resolving arizona.box.com (arizona.box.com)... 74.112.186.144\n",
            "Connecting to arizona.box.com (arizona.box.com)|74.112.186.144|:443... connected.\n",
            "HTTP request sent, awaiting response... 301 Moved Permanently\n",
            "Location: /public/static/uozg0z86rtdjupwpc7i971xwzuzhp42o.duckdb [following]\n",
            "--2024-02-11 09:58:57--  https://arizona.box.com/public/static/uozg0z86rtdjupwpc7i971xwzuzhp42o.duckdb\n",
            "Reusing existing connection to arizona.box.com:443.\n",
            "HTTP request sent, awaiting response... 301 Moved Permanently\n",
            "Location: https://arizona.app.box.com/public/static/uozg0z86rtdjupwpc7i971xwzuzhp42o.duckdb [following]\n",
            "--2024-02-11 09:58:57--  https://arizona.app.box.com/public/static/uozg0z86rtdjupwpc7i971xwzuzhp42o.duckdb\n",
            "Resolving arizona.app.box.com (arizona.app.box.com)... 74.112.186.144\n",
            "Connecting to arizona.app.box.com (arizona.app.box.com)|74.112.186.144|:443... connected.\n",
            "HTTP request sent, awaiting response... 302 Found\n",
            "Location: https://public.boxcloud.com/d/1/b1!ocnrN6EnKylubGYh1gxiQF36PpWbyjKfrbdmArmtfn_RvWFjwvYirPx_XKayC0TgJQAXSjPdRUBdcIYlPyFtwKIy3rWClJvCkwO6ZXjdSZctNAkP1EtLDy6GRTadzmY3rfrcSyPAy8wLWP4CO8TD34qV_4SFL6ZdOiAXPyU48QxPTk25XswIFDBiFnQMqBKB0kttZSb-CKYNLmfavt0kxtE333za4MiJeXQcA-lAafx-zRrdqHh2XBpeNegtP8WPtQckHGM7JKZtIIjGSO3Oepf6hNoXL3AXescbs_rmXo6qaKwnDNXeBphjX5__JAyoXECOC3PPI_fEQQi22r5C6tczTWrx7I9XkQ1DrVIzUtD5uwagKlGxBCjSjiqxNaWk780NtkojUK5gNJlQcWn8Wziz9cu9L9HLcpjVimvVUdFYK-JyYIn7OVix_03nffhFRfdHKEQAemBsinaHtOnTfiFKQJynBhysBkBEwv1HnbzdtGiO_N-qkZklB9y4NqVuwJ49DzLopm4y-WkeoZkoRqgNJ8Vs3z1Yb46crKzSNBteAS56ThoGFkK2Y9Z9yAy7kcoRdMOmOtEc47pksQ2ElhJntEV6opnZQ1snj_nPuZhsItLHG2RYo05mrQXibXyFnN0ZujgynSGI9XT4yTpFdQkTfG5sO3AEZF9pfcGcaRMheJrV1pBEqYiKtN0z1zQVvZwcc21As1aw6wppKsrtE3usxHFXnQpU35sWmaob1iy14BCUtljzHiGorDev6js7iUq2-BNSJEOV_NJhrfgi8rN-oZaEHJJl_KWHqnAtPpHPSzZTNfKs8YqKT-orN0B4EWPPek64NlQYr0P-RVDOyo_7mfup9rl993SECqCigpY1iBnlfqYqRbvC6xjwlaRdpNas0AwQ77N8fVkpngHvssWu3GDb2eAO086CyVEyg_KR6yfAvELw8fZdNMB9F0FEV7CvW0pEF8-pYFLSBe4ORjTf1I--oYaCBk8oXiBx8UYKRdWV4xJtKWRhZvLg2ZoDGwteI4X8v2uHQs1HmpmzYWhTT-F9V26NAsVV9UHntl56eUvP8H0D7ZsyuQ7FRLQaJagPUmClSL7YJNGlOMNC3SwMFBIRBzDbqXMe44tEsSO0_zvJ0pnJHsukS1drGSfGdGZz7lS_J5kMKVdPJF0pY9H0Oe9AxyAzBuIm0M1GXFX2AZF93Yq0oaPUEn2oATm4Xb2gJubuABL8z-JqoNMn1Dp8WEP2qibF6pfEjLfZRGtavwOEPHLbyrs6rj6x1XWhIlUUgHvuRZh3jo1kYAaNdZFiX4by9-6JFB5BkC4zzEjKaFOZMuW1-MogJgHsHKPr0EE-v5z_Il2PudVR7dQv-0mFhMjN7EqHHNVktLBmSAw9bWX5ZSGKFw0SZUc-BGQ./download [following]\n",
            "--2024-02-11 09:58:58--  https://public.boxcloud.com/d/1/b1!ocnrN6EnKylubGYh1gxiQF36PpWbyjKfrbdmArmtfn_RvWFjwvYirPx_XKayC0TgJQAXSjPdRUBdcIYlPyFtwKIy3rWClJvCkwO6ZXjdSZctNAkP1EtLDy6GRTadzmY3rfrcSyPAy8wLWP4CO8TD34qV_4SFL6ZdOiAXPyU48QxPTk25XswIFDBiFnQMqBKB0kttZSb-CKYNLmfavt0kxtE333za4MiJeXQcA-lAafx-zRrdqHh2XBpeNegtP8WPtQckHGM7JKZtIIjGSO3Oepf6hNoXL3AXescbs_rmXo6qaKwnDNXeBphjX5__JAyoXECOC3PPI_fEQQi22r5C6tczTWrx7I9XkQ1DrVIzUtD5uwagKlGxBCjSjiqxNaWk780NtkojUK5gNJlQcWn8Wziz9cu9L9HLcpjVimvVUdFYK-JyYIn7OVix_03nffhFRfdHKEQAemBsinaHtOnTfiFKQJynBhysBkBEwv1HnbzdtGiO_N-qkZklB9y4NqVuwJ49DzLopm4y-WkeoZkoRqgNJ8Vs3z1Yb46crKzSNBteAS56ThoGFkK2Y9Z9yAy7kcoRdMOmOtEc47pksQ2ElhJntEV6opnZQ1snj_nPuZhsItLHG2RYo05mrQXibXyFnN0ZujgynSGI9XT4yTpFdQkTfG5sO3AEZF9pfcGcaRMheJrV1pBEqYiKtN0z1zQVvZwcc21As1aw6wppKsrtE3usxHFXnQpU35sWmaob1iy14BCUtljzHiGorDev6js7iUq2-BNSJEOV_NJhrfgi8rN-oZaEHJJl_KWHqnAtPpHPSzZTNfKs8YqKT-orN0B4EWPPek64NlQYr0P-RVDOyo_7mfup9rl993SECqCigpY1iBnlfqYqRbvC6xjwlaRdpNas0AwQ77N8fVkpngHvssWu3GDb2eAO086CyVEyg_KR6yfAvELw8fZdNMB9F0FEV7CvW0pEF8-pYFLSBe4ORjTf1I--oYaCBk8oXiBx8UYKRdWV4xJtKWRhZvLg2ZoDGwteI4X8v2uHQs1HmpmzYWhTT-F9V26NAsVV9UHntl56eUvP8H0D7ZsyuQ7FRLQaJagPUmClSL7YJNGlOMNC3SwMFBIRBzDbqXMe44tEsSO0_zvJ0pnJHsukS1drGSfGdGZz7lS_J5kMKVdPJF0pY9H0Oe9AxyAzBuIm0M1GXFX2AZF93Yq0oaPUEn2oATm4Xb2gJubuABL8z-JqoNMn1Dp8WEP2qibF6pfEjLfZRGtavwOEPHLbyrs6rj6x1XWhIlUUgHvuRZh3jo1kYAaNdZFiX4by9-6JFB5BkC4zzEjKaFOZMuW1-MogJgHsHKPr0EE-v5z_Il2PudVR7dQv-0mFhMjN7EqHHNVktLBmSAw9bWX5ZSGKFw0SZUc-BGQ./download\n",
            "Resolving public.boxcloud.com (public.boxcloud.com)... 74.112.186.128\n",
            "Connecting to public.boxcloud.com (public.boxcloud.com)|74.112.186.128|:443... connected.\n",
            "HTTP request sent, awaiting response... 200 OK\n",
            "Length: 770453504 (735M) [application/octet-stream]\n",
            "Saving to: ‘my_database.duckdb’\n",
            "\n",
            "my_database.duckdb  100%[===================>] 734.76M  33.7MB/s    in 22s     \n",
            "\n",
            "2024-02-11 09:59:20 (33.6 MB/s) - ‘my_database.duckdb’ saved [770453504/770453504]\n",
            "\n"
          ]
        }
      ]
    },
    {
      "cell_type": "code",
      "execution_count": null,
      "id": "ea032f0d-53a1-4885-875d-b8b2ca73a86a",
      "metadata": {
        "tags": [],
        "id": "ea032f0d-53a1-4885-875d-b8b2ca73a86a"
      },
      "outputs": [],
      "source": [
        "conn = duckdb.connect(database='/content/my_database.duckdb', read_only=True)"
      ]
    },
    {
      "cell_type": "markdown",
      "id": "24ee20a7-bf91-452c-aa4a-e0010d83cbf2",
      "metadata": {
        "id": "24ee20a7-bf91-452c-aa4a-e0010d83cbf2"
      },
      "source": [
        "## Viewing what tables are available inside the database"
      ]
    },
    {
      "cell_type": "code",
      "execution_count": null,
      "id": "ddcaffbd-d845-43a8-8572-12d24c4685e4",
      "metadata": {
        "tags": [],
        "colab": {
          "base_uri": "https://localhost:8080/"
        },
        "id": "ddcaffbd-d845-43a8-8572-12d24c4685e4",
        "outputId": "50b57911-fde3-4c59-d7ce-daebef4e3232"
      },
      "outputs": [
        {
          "output_type": "execute_result",
          "data": {
            "text/plain": [
              "┌───────────────────┐\n",
              "│       name        │\n",
              "│      varchar      │\n",
              "├───────────────────┤\n",
              "│ allergies         │\n",
              "│ careplans         │\n",
              "│ conditions        │\n",
              "│ devices           │\n",
              "│ encounters        │\n",
              "│ imaging_studies   │\n",
              "│ immunizations     │\n",
              "│ medications       │\n",
              "│ observations      │\n",
              "│ organizations     │\n",
              "│ patients          │\n",
              "│ payer_transitions │\n",
              "│ payers            │\n",
              "│ procedures        │\n",
              "│ providers         │\n",
              "│ supplies          │\n",
              "├───────────────────┤\n",
              "│      16 rows      │\n",
              "└───────────────────┘"
            ]
          },
          "metadata": {},
          "execution_count": 5
        }
      ],
      "source": [
        "conn.sql(\"SHOW TABLES;\")"
      ]
    },
    {
      "cell_type": "markdown",
      "id": "f65ef4d0-5988-42c6-b903-3b00c0f9ef0c",
      "metadata": {
        "tags": [],
        "id": "f65ef4d0-5988-42c6-b903-3b00c0f9ef0c"
      },
      "source": [
        "## Before running any query we need to know the column names of particular tables"
      ]
    },
    {
      "cell_type": "code",
      "execution_count": null,
      "id": "1afbbe30-050a-4999-be5a-14ee29f57cca",
      "metadata": {
        "tags": [],
        "id": "1afbbe30-050a-4999-be5a-14ee29f57cca",
        "outputId": "03b15181-b542-4d57-b2d6-4b9144f9754a"
      },
      "outputs": [
        {
          "data": {
            "text/plain": [
              "┌─────────────────────┬─────────────┬─────────┬─────────┬─────────┬───────┐\n",
              "│     column_name     │ column_type │  null   │   key   │ default │ extra │\n",
              "│       varchar       │   varchar   │ varchar │ varchar │ varchar │ int32 │\n",
              "├─────────────────────┼─────────────┼─────────┼─────────┼─────────┼───────┤\n",
              "│ Id                  │ VARCHAR     │ YES     │ NULL    │ NULL    │  NULL │\n",
              "│ BIRTHDATE           │ VARCHAR     │ YES     │ NULL    │ NULL    │  NULL │\n",
              "│ DEATHDATE           │ VARCHAR     │ YES     │ NULL    │ NULL    │  NULL │\n",
              "│ SSN                 │ VARCHAR     │ YES     │ NULL    │ NULL    │  NULL │\n",
              "│ DRIVERS             │ VARCHAR     │ YES     │ NULL    │ NULL    │  NULL │\n",
              "│ PASSPORT            │ VARCHAR     │ YES     │ NULL    │ NULL    │  NULL │\n",
              "│ PREFIX              │ VARCHAR     │ YES     │ NULL    │ NULL    │  NULL │\n",
              "│ FIRST               │ VARCHAR     │ YES     │ NULL    │ NULL    │  NULL │\n",
              "│ LAST                │ VARCHAR     │ YES     │ NULL    │ NULL    │  NULL │\n",
              "│ SUFFIX              │ VARCHAR     │ YES     │ NULL    │ NULL    │  NULL │\n",
              "│   ·                 │    ·        │  ·      │  ·      │  ·      │    ·  │\n",
              "│   ·                 │    ·        │  ·      │  ·      │  ·      │    ·  │\n",
              "│   ·                 │    ·        │  ·      │  ·      │  ·      │    ·  │\n",
              "│ BIRTHPLACE          │ VARCHAR     │ YES     │ NULL    │ NULL    │  NULL │\n",
              "│ ADDRESS             │ VARCHAR     │ YES     │ NULL    │ NULL    │  NULL │\n",
              "│ CITY                │ VARCHAR     │ YES     │ NULL    │ NULL    │  NULL │\n",
              "│ STATE               │ VARCHAR     │ YES     │ NULL    │ NULL    │  NULL │\n",
              "│ COUNTY              │ VARCHAR     │ YES     │ NULL    │ NULL    │  NULL │\n",
              "│ ZIP                 │ DOUBLE      │ YES     │ NULL    │ NULL    │  NULL │\n",
              "│ LAT                 │ DOUBLE      │ YES     │ NULL    │ NULL    │  NULL │\n",
              "│ LON                 │ DOUBLE      │ YES     │ NULL    │ NULL    │  NULL │\n",
              "│ HEALTHCARE_EXPENSES │ DOUBLE      │ YES     │ NULL    │ NULL    │  NULL │\n",
              "│ HEALTHCARE_COVERAGE │ DOUBLE      │ YES     │ NULL    │ NULL    │  NULL │\n",
              "├─────────────────────┴─────────────┴─────────┴─────────┴─────────┴───────┤\n",
              "│ 25 rows (20 shown)                                            6 columns │\n",
              "└─────────────────────────────────────────────────────────────────────────┘"
            ]
          },
          "execution_count": 68,
          "metadata": {},
          "output_type": "execute_result"
        }
      ],
      "source": [
        "conn.sql(\"DESCRIBE patients;\")"
      ]
    },
    {
      "cell_type": "code",
      "execution_count": null,
      "id": "750d7686-931a-4ede-9e5a-33ec814182fa",
      "metadata": {
        "tags": [],
        "id": "750d7686-931a-4ede-9e5a-33ec814182fa",
        "outputId": "d10af39e-072d-4791-d7b5-0747bea53365"
      },
      "outputs": [
        {
          "data": {
            "text/plain": [
              "┌───────────────────┬─────────────┬─────────┬─────────┬─────────┬───────┐\n",
              "│    column_name    │ column_type │  null   │   key   │ default │ extra │\n",
              "│      varchar      │   varchar   │ varchar │ varchar │ varchar │ int32 │\n",
              "├───────────────────┼─────────────┼─────────┼─────────┼─────────┼───────┤\n",
              "│ START             │ VARCHAR     │ YES     │ NULL    │ NULL    │  NULL │\n",
              "│ STOP              │ VARCHAR     │ YES     │ NULL    │ NULL    │  NULL │\n",
              "│ PATIENT           │ VARCHAR     │ YES     │ NULL    │ NULL    │  NULL │\n",
              "│ PAYER             │ VARCHAR     │ YES     │ NULL    │ NULL    │  NULL │\n",
              "│ ENCOUNTER         │ VARCHAR     │ YES     │ NULL    │ NULL    │  NULL │\n",
              "│ CODE              │ BIGINT      │ YES     │ NULL    │ NULL    │  NULL │\n",
              "│ DESCRIPTION       │ VARCHAR     │ YES     │ NULL    │ NULL    │  NULL │\n",
              "│ BASE_COST         │ DOUBLE      │ YES     │ NULL    │ NULL    │  NULL │\n",
              "│ PAYER_COVERAGE    │ DOUBLE      │ YES     │ NULL    │ NULL    │  NULL │\n",
              "│ DISPENSES         │ BIGINT      │ YES     │ NULL    │ NULL    │  NULL │\n",
              "│ TOTALCOST         │ DOUBLE      │ YES     │ NULL    │ NULL    │  NULL │\n",
              "│ REASONCODE        │ DOUBLE      │ YES     │ NULL    │ NULL    │  NULL │\n",
              "│ REASONDESCRIPTION │ VARCHAR     │ YES     │ NULL    │ NULL    │  NULL │\n",
              "├───────────────────┴─────────────┴─────────┴─────────┴─────────┴───────┤\n",
              "│ 13 rows                                                     6 columns │\n",
              "└───────────────────────────────────────────────────────────────────────┘"
            ]
          },
          "execution_count": 5,
          "metadata": {},
          "output_type": "execute_result"
        }
      ],
      "source": [
        "conn.sql(\"DESCRIBE medications;\")"
      ]
    },
    {
      "cell_type": "markdown",
      "id": "4426ccdd-4246-47fe-8c6e-d7e69d0d7de6",
      "metadata": {
        "id": "4426ccdd-4246-47fe-8c6e-d7e69d0d7de6"
      },
      "source": [
        "## Querying Data\n",
        "## **SELECT**\n",
        "The SELECT statement is used to select data from a database."
      ]
    },
    {
      "cell_type": "markdown",
      "id": "a02a9bf5-33c1-498c-bc57-fe3a09f0a835",
      "metadata": {
        "id": "a02a9bf5-33c1-498c-bc57-fe3a09f0a835"
      },
      "source": [
        "### E.g.: Query the patients table and display patient first name, last name, gender, and the city they live in."
      ]
    },
    {
      "cell_type": "code",
      "execution_count": null,
      "id": "e9473437-993a-47c3-8d4f-bb35d6d5177a",
      "metadata": {
        "tags": [],
        "id": "e9473437-993a-47c3-8d4f-bb35d6d5177a",
        "outputId": "4cf7f2df-60fc-4593-933a-5bb90fa3ca5b"
      },
      "outputs": [
        {
          "data": {
            "text/plain": [
              "┌─────────────────┬────────────────┬─────────┬─────────────┐\n",
              "│      FIRST      │      LAST      │ GENDER  │    CITY     │\n",
              "│     varchar     │    varchar     │ varchar │   varchar   │\n",
              "├─────────────────┼────────────────┼─────────┼─────────────┤\n",
              "│ Jacinto644      │ Kris249        │ M       │ Springfield │\n",
              "│ Alva958         │ Krajcik437     │ F       │ Walpole     │\n",
              "│ Jimmie93        │ Harris789      │ F       │ Pembroke    │\n",
              "│ Gregorio366     │ Auer97         │ M       │ Boston      │\n",
              "│ Karyn217        │ Mueller846     │ F       │ Colrain     │\n",
              "│ Jayson808       │ Fadel536       │ M       │ Chicopee    │\n",
              "│ José Eduardo181 │ Gómez206       │ M       │ Chicopee    │\n",
              "│ Milo271         │ Feil794        │ M       │ Somerville  │\n",
              "│ Karyn217        │ Metz686        │ F       │ Medfield    │\n",
              "│ Jeffrey461      │ Greenfelder433 │ M       │ Springfield │\n",
              "│     ·           │     ·          │ ·       │    ·        │\n",
              "│     ·           │     ·          │ ·       │    ·        │\n",
              "│     ·           │     ·          │ ·       │    ·        │\n",
              "│ Raymond398      │ Kuvalis369     │ M       │ Hingham     │\n",
              "│ Gearldine455    │ Boyer713       │ F       │ Boston      │\n",
              "│ Nichol11        │ Gleichner915   │ F       │ Lynn        │\n",
              "│ Louvenia131     │ Marks830       │ F       │ Springfield │\n",
              "│ Raymon366       │ Beer512        │ M       │ Springfield │\n",
              "│ Camelia346      │ Stamm704       │ F       │ Dedham      │\n",
              "│ William805      │ Pacocha935     │ M       │ Brockton    │\n",
              "│ Guillermo498    │ Téllez750      │ M       │ Somerville  │\n",
              "│ Milton509       │ Bailey598      │ M       │ Hull        │\n",
              "│ Cecilia788      │ Wisozk929      │ F       │ Worcester   │\n",
              "├─────────────────┴────────────────┴─────────┴─────────────┤\n",
              "│ ? rows (>9999 rows, 20 shown)                  4 columns │\n",
              "└──────────────────────────────────────────────────────────┘"
            ]
          },
          "execution_count": 15,
          "metadata": {},
          "output_type": "execute_result"
        }
      ],
      "source": [
        "conn.sql(\"SELECT FIRST, LAST, GENDER, CITY FROM patients;\")"
      ]
    },
    {
      "cell_type": "markdown",
      "id": "4301bfba-6e0c-4685-8f68-a617f0eaab37",
      "metadata": {
        "id": "4301bfba-6e0c-4685-8f68-a617f0eaab37"
      },
      "source": [
        "## Count the number of rows in patients table\n",
        "### This query will count the total number of rows in the patients table, effectively giving you the total number of patients."
      ]
    },
    {
      "cell_type": "code",
      "execution_count": null,
      "id": "71bdbb0d-3b98-4380-a165-9053b27907d5",
      "metadata": {
        "tags": [],
        "id": "71bdbb0d-3b98-4380-a165-9053b27907d5",
        "outputId": "efd2db5d-b9e7-4fcf-83fd-bf11183062a5"
      },
      "outputs": [
        {
          "data": {
            "text/plain": [
              "┌──────────────┐\n",
              "│ count_star() │\n",
              "│    int64     │\n",
              "├──────────────┤\n",
              "│       124150 │\n",
              "└──────────────┘"
            ]
          },
          "execution_count": 28,
          "metadata": {},
          "output_type": "execute_result"
        }
      ],
      "source": [
        "conn.sql(\"SELECT COUNT(*) FROM patients;\")"
      ]
    },
    {
      "cell_type": "markdown",
      "id": "72c8938d-7157-4f84-93b4-1e184eaa7215",
      "metadata": {
        "id": "72c8938d-7157-4f84-93b4-1e184eaa7215"
      },
      "source": [
        "## **COUNT** and **DISTINCT**\n",
        "### If you want to count distinct values of a specific column, for example, distinct cities, you can modify the query as follows:"
      ]
    },
    {
      "cell_type": "code",
      "execution_count": null,
      "id": "e7c2342b-da61-42c6-9a58-c9d4d5908286",
      "metadata": {
        "tags": [],
        "id": "e7c2342b-da61-42c6-9a58-c9d4d5908286",
        "outputId": "e7a27e58-6bb1-4886-bcc6-cc9d9c92b6b1"
      },
      "outputs": [
        {
          "data": {
            "text/plain": [
              "┌──────────────────────┐\n",
              "│ count(DISTINCT CITY) │\n",
              "│        int64         │\n",
              "├──────────────────────┤\n",
              "│                  351 │\n",
              "└──────────────────────┘"
            ]
          },
          "execution_count": 29,
          "metadata": {},
          "output_type": "execute_result"
        }
      ],
      "source": [
        "conn.sql(\"SELECT COUNT(DISTINCT CITY) FROM patients;\")"
      ]
    },
    {
      "cell_type": "markdown",
      "id": "aa53b255-c1b3-49f0-b8a5-03e5db1c355d",
      "metadata": {
        "id": "aa53b255-c1b3-49f0-b8a5-03e5db1c355d"
      },
      "source": [
        "### The following query returns unique combinations of cities and genders from the patients table. If there are male and female patients from the same city, each city-gender pair will appear only once."
      ]
    },
    {
      "cell_type": "code",
      "execution_count": null,
      "id": "72752205-97a6-480f-ba60-131c14bc5766",
      "metadata": {
        "tags": [],
        "id": "72752205-97a6-480f-ba60-131c14bc5766",
        "outputId": "e2137c9b-bfe9-471e-dbc8-9e8183c5968f"
      },
      "outputs": [
        {
          "data": {
            "text/plain": [
              "┌──────────────────┬─────────┐\n",
              "│       CITY       │ GENDER  │\n",
              "│     varchar      │ varchar │\n",
              "├──────────────────┼─────────┤\n",
              "│ Freetown         │ M       │\n",
              "│ Rochester        │ F       │\n",
              "│ Warwick          │ M       │\n",
              "│ Westport         │ M       │\n",
              "│ Needham          │ M       │\n",
              "│ Leicester        │ F       │\n",
              "│ Ipswich          │ F       │\n",
              "│ Concord          │ M       │\n",
              "│ Danvers          │ F       │\n",
              "│ Winthrop         │ M       │\n",
              "│    ·             │ ·       │\n",
              "│    ·             │ ·       │\n",
              "│    ·             │ ·       │\n",
              "│ Wendell          │ F       │\n",
              "│ Becket           │ M       │\n",
              "│ Blandford        │ M       │\n",
              "│ Hawley           │ F       │\n",
              "│ West Stockbridge │ M       │\n",
              "│ Rowe             │ F       │\n",
              "│ Westhampton      │ M       │\n",
              "│ Gosnold          │ F       │\n",
              "│ Monroe           │ M       │\n",
              "│ Tolland          │ F       │\n",
              "├──────────────────┴─────────┤\n",
              "│    700 rows (20 shown)     │\n",
              "└────────────────────────────┘"
            ]
          },
          "execution_count": 30,
          "metadata": {},
          "output_type": "execute_result"
        }
      ],
      "source": [
        "conn.sql(\"SELECT DISTINCT CITY, GENDER FROM patients;\")"
      ]
    },
    {
      "cell_type": "markdown",
      "id": "e3313df1-b056-4158-99d8-8c13e8a4eff2",
      "metadata": {
        "id": "e3313df1-b056-4158-99d8-8c13e8a4eff2"
      },
      "source": [
        "### Filtering data based on a condition\n",
        "## The **WHERE** clause filters records that fulfill a specified condition.\n",
        "\n",
        "### e.g: Patients in City = 'Springfield';"
      ]
    },
    {
      "cell_type": "code",
      "execution_count": null,
      "id": "02f22926-f6bb-4ab7-9d22-56636523cd84",
      "metadata": {
        "tags": [],
        "id": "02f22926-f6bb-4ab7-9d22-56636523cd84",
        "outputId": "48548bdb-00e3-4395-db76-7590de109261"
      },
      "outputs": [
        {
          "data": {
            "text/plain": [
              "┌──────────────┬────────────────┬─────────┬─────────────┬────────────┐\n",
              "│    FIRST     │      LAST      │ GENDER  │    CITY     │  PASSPORT  │\n",
              "│   varchar    │    varchar     │ varchar │   varchar   │  varchar   │\n",
              "├──────────────┼────────────────┼─────────┼─────────────┼────────────┤\n",
              "│ Jacinto644   │ Kris249        │ M       │ Springfield │ NULL       │\n",
              "│ Jeffrey461   │ Greenfelder433 │ M       │ Springfield │ NULL       │\n",
              "│ Sabina296    │ Flatley871     │ F       │ Springfield │ X85058581X │\n",
              "│ Theodora872  │ Johnson679     │ F       │ Springfield │ X21164602X │\n",
              "│ Lavera253    │ Anderson154    │ F       │ Springfield │ X83686992X │\n",
              "│ Golden321    │ Pollich983     │ F       │ Springfield │ NULL       │\n",
              "│ Georgiann138 │ Greenfelder433 │ F       │ Springfield │ X58134116X │\n",
              "│ Fausto876    │ Bechtelar572   │ M       │ Springfield │ NULL       │\n",
              "│ Talisha682   │ Brakus656      │ F       │ Springfield │ X53645004X │\n",
              "│ Golden321    │ Durgan499      │ F       │ Springfield │ X49016634X │\n",
              "│    ·         │    ·           │ ·       │      ·      │     ·      │\n",
              "│    ·         │    ·           │ ·       │      ·      │     ·      │\n",
              "│    ·         │    ·           │ ·       │      ·      │     ·      │\n",
              "│ Carla633     │ Terán294       │ F       │ Springfield │ X50212869X │\n",
              "│ Ángela136    │ Muñiz642       │ F       │ Springfield │ NULL       │\n",
              "│ Marceline716 │ Kuhlman484     │ F       │ Springfield │ X70432308X │\n",
              "│ Ana María762 │ Cotto891       │ F       │ Springfield │ X4604857X  │\n",
              "│ Josefina523  │ Vanegas191     │ F       │ Springfield │ X85396222X │\n",
              "│ Ester635     │ Sevilla788     │ F       │ Springfield │ X50601786X │\n",
              "│ Tomás404     │ Galarza986     │ M       │ Springfield │ X76790663X │\n",
              "│ Arturo47     │ Delafuente833  │ M       │ Springfield │ X45087804X │\n",
              "│ Gilberto712  │ Martínez540    │ M       │ Springfield │ X89729075X │\n",
              "│ Juanita470   │ Connelly992    │ F       │ Springfield │ X71156217X │\n",
              "├──────────────┴────────────────┴─────────┴─────────────┴────────────┤\n",
              "│ 2814 rows (20 shown)                                     5 columns │\n",
              "└────────────────────────────────────────────────────────────────────┘"
            ]
          },
          "execution_count": 58,
          "metadata": {},
          "output_type": "execute_result"
        }
      ],
      "source": [
        "conn.sql(\"SELECT FIRST, LAST, GENDER, CITY, PASSPORT FROM patients WHERE city = 'Springfield';\")"
      ]
    },
    {
      "cell_type": "markdown",
      "id": "e375750c-9ac4-433f-8115-577a1bbd52aa",
      "metadata": {
        "id": "e375750c-9ac4-433f-8115-577a1bbd52aa"
      },
      "source": [
        "## Multiple conditions in Selection\n",
        "### e.g 1: Female Patients in City = 'Springfield';"
      ]
    },
    {
      "cell_type": "code",
      "execution_count": null,
      "id": "db74eacc-43c9-4d64-8d7e-b91e48202446",
      "metadata": {
        "tags": [],
        "id": "db74eacc-43c9-4d64-8d7e-b91e48202446",
        "outputId": "39385a15-2de1-41f2-ebf2-8d54c065595b"
      },
      "outputs": [
        {
          "data": {
            "text/plain": [
              "┌──────────────┬────────────────┬─────────┬─────────────┐\n",
              "│    FIRST     │      LAST      │ GENDER  │    CITY     │\n",
              "│   varchar    │    varchar     │ varchar │   varchar   │\n",
              "├──────────────┼────────────────┼─────────┼─────────────┤\n",
              "│ Sabina296    │ Flatley871     │ F       │ Springfield │\n",
              "│ Theodora872  │ Johnson679     │ F       │ Springfield │\n",
              "│ Lavera253    │ Anderson154    │ F       │ Springfield │\n",
              "│ Golden321    │ Pollich983     │ F       │ Springfield │\n",
              "│ Georgiann138 │ Greenfelder433 │ F       │ Springfield │\n",
              "│ Talisha682   │ Brakus656      │ F       │ Springfield │\n",
              "│ Golden321    │ Durgan499      │ F       │ Springfield │\n",
              "│ Jerrie417    │ Gislason620    │ F       │ Springfield │\n",
              "│ Venus149     │ Hodkiewicz467  │ F       │ Springfield │\n",
              "│ Refugia211   │ Wintheiser220  │ F       │ Springfield │\n",
              "│    ·         │     ·          │ ·       │      ·      │\n",
              "│    ·         │     ·          │ ·       │      ·      │\n",
              "│    ·         │     ·          │ ·       │      ·      │\n",
              "│ Tisha655     │ Renner328      │ F       │ Springfield │\n",
              "│ Mona85       │ Senger904      │ F       │ Springfield │\n",
              "│ Isabel214    │ Camacho176     │ F       │ Springfield │\n",
              "│ Carla633     │ Terán294       │ F       │ Springfield │\n",
              "│ Ángela136    │ Muñiz642       │ F       │ Springfield │\n",
              "│ Marceline716 │ Kuhlman484     │ F       │ Springfield │\n",
              "│ Ana María762 │ Cotto891       │ F       │ Springfield │\n",
              "│ Josefina523  │ Vanegas191     │ F       │ Springfield │\n",
              "│ Ester635     │ Sevilla788     │ F       │ Springfield │\n",
              "│ Juanita470   │ Connelly992    │ F       │ Springfield │\n",
              "├──────────────┴────────────────┴─────────┴─────────────┤\n",
              "│ 1351 rows (20 shown)                        4 columns │\n",
              "└───────────────────────────────────────────────────────┘"
            ]
          },
          "execution_count": 7,
          "metadata": {},
          "output_type": "execute_result"
        }
      ],
      "source": [
        "conn.sql(\"SELECT FIRST, LAST, GENDER, CITY FROM patients WHERE city = 'Springfield' AND gender = 'F';\")"
      ]
    },
    {
      "cell_type": "markdown",
      "id": "1520b1cf-773f-4fd7-8003-0c957d9ac151",
      "metadata": {
        "id": "1520b1cf-773f-4fd7-8003-0c957d9ac151"
      },
      "source": [
        "### e.g. Nested selection; Female patients from City Springfield or Boston"
      ]
    },
    {
      "cell_type": "code",
      "execution_count": null,
      "id": "d4263107-7cb8-4a06-adaa-6cf8e0fa0a8b",
      "metadata": {
        "tags": [],
        "id": "d4263107-7cb8-4a06-adaa-6cf8e0fa0a8b",
        "outputId": "c9ea293f-ab6e-43bb-a386-dc8754c54883"
      },
      "outputs": [
        {
          "data": {
            "text/plain": [
              "┌──────────────┬────────────────┬─────────┬─────────────┐\n",
              "│    FIRST     │      LAST      │ GENDER  │    CITY     │\n",
              "│   varchar    │    varchar     │ varchar │   varchar   │\n",
              "├──────────────┼────────────────┼─────────┼─────────────┤\n",
              "│ Sabina296    │ Flatley871     │ F       │ Springfield │\n",
              "│ Theodora872  │ Johnson679     │ F       │ Springfield │\n",
              "│ Lavera253    │ Anderson154    │ F       │ Springfield │\n",
              "│ Golden321    │ Pollich983     │ F       │ Springfield │\n",
              "│ Georgiann138 │ Greenfelder433 │ F       │ Springfield │\n",
              "│ Talisha682   │ Brakus656      │ F       │ Springfield │\n",
              "│ Golden321    │ Durgan499      │ F       │ Springfield │\n",
              "│ Jerrie417    │ Gislason620    │ F       │ Springfield │\n",
              "│ Venus149     │ Hodkiewicz467  │ F       │ Springfield │\n",
              "│ Refugia211   │ Wintheiser220  │ F       │ Springfield │\n",
              "│     ·        │    ·           │ ·       │   ·         │\n",
              "│     ·        │    ·           │ ·       │   ·         │\n",
              "│     ·        │    ·           │ ·       │   ·         │\n",
              "│ Freida957    │ Hand679        │ F       │ Boston      │\n",
              "│ Clora637     │ Rempel203      │ F       │ Boston      │\n",
              "│ Bonny428     │ Turner526      │ F       │ Boston      │\n",
              "│ Tien590      │ Gaylord332     │ F       │ Boston      │\n",
              "│ Arlyne429    │ Deckow585      │ F       │ Boston      │\n",
              "│ Doreen575    │ Johnson679     │ F       │ Boston      │\n",
              "│ Kym935       │ Hayes766       │ F       │ Boston      │\n",
              "│ Julia241     │ Nevárez403     │ F       │ Boston      │\n",
              "│ Ja391        │ Murray856      │ F       │ Boston      │\n",
              "│ Creola518    │ Spinka232      │ F       │ Boston      │\n",
              "├──────────────┴────────────────┴─────────┴─────────────┤\n",
              "│ 7191 rows (20 shown)                        4 columns │\n",
              "└───────────────────────────────────────────────────────┘"
            ]
          },
          "execution_count": 9,
          "metadata": {},
          "output_type": "execute_result"
        }
      ],
      "source": [
        "conn.sql(\"SELECT FIRST, LAST, GENDER, CITY FROM patients WHERE gender = 'F' AND (city = 'Springfield' OR city = 'Boston');\")"
      ]
    },
    {
      "cell_type": "markdown",
      "id": "a2592909-678e-40be-881d-e422768e992a",
      "metadata": {
        "tags": [],
        "id": "a2592909-678e-40be-881d-e422768e992a"
      },
      "source": [
        "### another way"
      ]
    },
    {
      "cell_type": "code",
      "execution_count": null,
      "id": "2c659b65-998e-4e4b-b16b-b1725aca0e86",
      "metadata": {
        "tags": [],
        "id": "2c659b65-998e-4e4b-b16b-b1725aca0e86",
        "outputId": "1722088a-7b02-46b0-8ccd-46a8087f87cf"
      },
      "outputs": [
        {
          "data": {
            "text/plain": [
              "┌──────────────┬────────────────┬─────────┬─────────────┐\n",
              "│    FIRST     │      LAST      │ GENDER  │    CITY     │\n",
              "│   varchar    │    varchar     │ varchar │   varchar   │\n",
              "├──────────────┼────────────────┼─────────┼─────────────┤\n",
              "│ Sabina296    │ Flatley871     │ F       │ Springfield │\n",
              "│ Theodora872  │ Johnson679     │ F       │ Springfield │\n",
              "│ Lavera253    │ Anderson154    │ F       │ Springfield │\n",
              "│ Golden321    │ Pollich983     │ F       │ Springfield │\n",
              "│ Georgiann138 │ Greenfelder433 │ F       │ Springfield │\n",
              "│ Talisha682   │ Brakus656      │ F       │ Springfield │\n",
              "│ Golden321    │ Durgan499      │ F       │ Springfield │\n",
              "│ Jerrie417    │ Gislason620    │ F       │ Springfield │\n",
              "│ Venus149     │ Hodkiewicz467  │ F       │ Springfield │\n",
              "│ Refugia211   │ Wintheiser220  │ F       │ Springfield │\n",
              "│     ·        │    ·           │ ·       │   ·         │\n",
              "│     ·        │    ·           │ ·       │   ·         │\n",
              "│     ·        │    ·           │ ·       │   ·         │\n",
              "│ Freida957    │ Hand679        │ F       │ Boston      │\n",
              "│ Clora637     │ Rempel203      │ F       │ Boston      │\n",
              "│ Bonny428     │ Turner526      │ F       │ Boston      │\n",
              "│ Tien590      │ Gaylord332     │ F       │ Boston      │\n",
              "│ Arlyne429    │ Deckow585      │ F       │ Boston      │\n",
              "│ Doreen575    │ Johnson679     │ F       │ Boston      │\n",
              "│ Kym935       │ Hayes766       │ F       │ Boston      │\n",
              "│ Julia241     │ Nevárez403     │ F       │ Boston      │\n",
              "│ Ja391        │ Murray856      │ F       │ Boston      │\n",
              "│ Creola518    │ Spinka232      │ F       │ Boston      │\n",
              "├──────────────┴────────────────┴─────────┴─────────────┤\n",
              "│ 7191 rows (20 shown)                        4 columns │\n",
              "└───────────────────────────────────────────────────────┘"
            ]
          },
          "execution_count": 55,
          "metadata": {},
          "output_type": "execute_result"
        }
      ],
      "source": [
        "conn.sql(\"SELECT FIRST, LAST, GENDER, CITY FROM patients WHERE gender = 'F' AND (city IN ('Springfield','Boston'));\")"
      ]
    },
    {
      "cell_type": "markdown",
      "id": "c29e0b14-17d3-4dfb-93a2-b647eff3326f",
      "metadata": {
        "id": "c29e0b14-17d3-4dfb-93a2-b647eff3326f"
      },
      "source": [
        "## Filter on missing data\n",
        "### Filtering on missing data is crucial for maintaining data integrity and ensuring accurate analysis by identifying and handling incomplete records effectively."
      ]
    },
    {
      "cell_type": "markdown",
      "id": "e20854b8-2908-431a-a42b-75184e808783",
      "metadata": {
        "tags": [],
        "id": "e20854b8-2908-431a-a42b-75184e808783"
      },
      "source": [
        "### Retrieve the first name, last name, gender, and city for all patients who are from Springfield and have a passport number recorded (i.e., the passport field is not empty)."
      ]
    },
    {
      "cell_type": "code",
      "execution_count": null,
      "id": "d22e6944-37c8-4000-bdf8-2020fcc48752",
      "metadata": {
        "tags": [],
        "id": "d22e6944-37c8-4000-bdf8-2020fcc48752",
        "outputId": "9307f4fa-5e51-47ae-a219-23461d9d29af"
      },
      "outputs": [
        {
          "data": {
            "text/plain": [
              "┌──────────────┬────────────────┬─────────┬─────────────┬────────────┐\n",
              "│    FIRST     │      LAST      │ GENDER  │    CITY     │  PASSPORT  │\n",
              "│   varchar    │    varchar     │ varchar │   varchar   │  varchar   │\n",
              "├──────────────┼────────────────┼─────────┼─────────────┼────────────┤\n",
              "│ Sabina296    │ Flatley871     │ F       │ Springfield │ X85058581X │\n",
              "│ Theodora872  │ Johnson679     │ F       │ Springfield │ X21164602X │\n",
              "│ Lavera253    │ Anderson154    │ F       │ Springfield │ X83686992X │\n",
              "│ Georgiann138 │ Greenfelder433 │ F       │ Springfield │ X58134116X │\n",
              "│ Talisha682   │ Brakus656      │ F       │ Springfield │ X53645004X │\n",
              "│ Golden321    │ Durgan499      │ F       │ Springfield │ X49016634X │\n",
              "│ Ty725        │ Schmeler639    │ M       │ Springfield │ X22960735X │\n",
              "│ Pilar644     │ Pouros728      │ F       │ Springfield │ X21434326X │\n",
              "│ Georgette866 │ Stark857       │ F       │ Springfield │ X84034866X │\n",
              "│ Annika454    │ Gutmann970     │ F       │ Springfield │ X3275916X  │\n",
              "│     ·        │     ·          │ ·       │      ·      │     ·      │\n",
              "│     ·        │     ·          │ ·       │      ·      │     ·      │\n",
              "│     ·        │     ·          │ ·       │      ·      │     ·      │\n",
              "│ Isabel214    │ Camacho176     │ F       │ Springfield │ X52173808X │\n",
              "│ Carla633     │ Terán294       │ F       │ Springfield │ X50212869X │\n",
              "│ Marceline716 │ Kuhlman484     │ F       │ Springfield │ X70432308X │\n",
              "│ Ana María762 │ Cotto891       │ F       │ Springfield │ X4604857X  │\n",
              "│ Josefina523  │ Vanegas191     │ F       │ Springfield │ X85396222X │\n",
              "│ Ester635     │ Sevilla788     │ F       │ Springfield │ X50601786X │\n",
              "│ Tomás404     │ Galarza986     │ M       │ Springfield │ X76790663X │\n",
              "│ Arturo47     │ Delafuente833  │ M       │ Springfield │ X45087804X │\n",
              "│ Gilberto712  │ Martínez540    │ M       │ Springfield │ X89729075X │\n",
              "│ Juanita470   │ Connelly992    │ F       │ Springfield │ X71156217X │\n",
              "├──────────────┴────────────────┴─────────┴─────────────┴────────────┤\n",
              "│ 2221 rows (20 shown)                                     5 columns │\n",
              "└────────────────────────────────────────────────────────────────────┘"
            ]
          },
          "execution_count": 60,
          "metadata": {},
          "output_type": "execute_result"
        }
      ],
      "source": [
        "conn.sql(\"SELECT FIRST, LAST, GENDER, CITY, PASSPORT FROM patients WHERE city = 'Springfield' AND PASSPORT IS NOT NULL;\")"
      ]
    },
    {
      "cell_type": "markdown",
      "id": "db29d0a1-8884-4ca6-818c-cfc62faaf5a3",
      "metadata": {
        "id": "db29d0a1-8884-4ca6-818c-cfc62faaf5a3"
      },
      "source": [
        "## Retrieve the first name, last name, gender, and city for all patients who are from Springfield and have a passport number NOT recorded (i.e., the passport field is empty)."
      ]
    },
    {
      "cell_type": "code",
      "execution_count": null,
      "id": "47243890-d7c4-4af9-a528-699424cccbfa",
      "metadata": {
        "tags": [],
        "id": "47243890-d7c4-4af9-a528-699424cccbfa",
        "outputId": "505ca0a0-d33e-4f6e-ebce-870031914b26"
      },
      "outputs": [
        {
          "data": {
            "text/plain": [
              "┌───────────────┬────────────────┬─────────┬─────────────┬──────────┐\n",
              "│     FIRST     │      LAST      │ GENDER  │    CITY     │ PASSPORT │\n",
              "│    varchar    │    varchar     │ varchar │   varchar   │ varchar  │\n",
              "├───────────────┼────────────────┼─────────┼─────────────┼──────────┤\n",
              "│ Jacinto644    │ Kris249        │ M       │ Springfield │ NULL     │\n",
              "│ Jeffrey461    │ Greenfelder433 │ M       │ Springfield │ NULL     │\n",
              "│ Golden321     │ Pollich983     │ F       │ Springfield │ NULL     │\n",
              "│ Fausto876     │ Bechtelar572   │ M       │ Springfield │ NULL     │\n",
              "│ Jerrie417     │ Gislason620    │ F       │ Springfield │ NULL     │\n",
              "│ Venus149      │ Hodkiewicz467  │ F       │ Springfield │ NULL     │\n",
              "│ Tyler508      │ Hammes673      │ M       │ Springfield │ NULL     │\n",
              "│ Refugia211    │ Wintheiser220  │ F       │ Springfield │ NULL     │\n",
              "│ Julissa825    │ MacGyver246    │ F       │ Springfield │ NULL     │\n",
              "│ Hans694       │ Sporer811      │ M       │ Springfield │ NULL     │\n",
              "│   ·           │    ·           │ ·       │      ·      │  ·       │\n",
              "│   ·           │    ·           │ ·       │      ·      │  ·       │\n",
              "│   ·           │    ·           │ ·       │      ·      │  ·       │\n",
              "│ Max124        │ O'Kon634       │ M       │ Springfield │ NULL     │\n",
              "│ Orval846      │ Abernathy524   │ M       │ Springfield │ NULL     │\n",
              "│ Alishia395    │ Bahringer146   │ F       │ Springfield │ NULL     │\n",
              "│ Avril120      │ Casper496      │ F       │ Springfield │ NULL     │\n",
              "│ Quincy153     │ Considine820   │ M       │ Springfield │ NULL     │\n",
              "│ Irmgard696    │ Fahey393       │ F       │ Springfield │ NULL     │\n",
              "│ María José279 │ Ramón841       │ F       │ Springfield │ NULL     │\n",
              "│ Johnathan55   │ Predovic534    │ M       │ Springfield │ NULL     │\n",
              "│ Mona85        │ Senger904      │ F       │ Springfield │ NULL     │\n",
              "│ Ángela136     │ Muñiz642       │ F       │ Springfield │ NULL     │\n",
              "├───────────────┴────────────────┴─────────┴─────────────┴──────────┤\n",
              "│ 593 rows (20 shown)                                     5 columns │\n",
              "└───────────────────────────────────────────────────────────────────┘"
            ]
          },
          "execution_count": 62,
          "metadata": {},
          "output_type": "execute_result"
        }
      ],
      "source": [
        "conn.sql(\"SELECT FIRST, LAST, GENDER, CITY,PASSPORT FROM patients WHERE city = 'Springfield' AND PASSPORT IS NULL;;\")"
      ]
    },
    {
      "cell_type": "code",
      "execution_count": null,
      "id": "dee6155e-cc93-46b3-87b4-c64401eed090",
      "metadata": {
        "tags": [],
        "id": "dee6155e-cc93-46b3-87b4-c64401eed090",
        "outputId": "76ac05ba-edcc-464f-fad6-e2f588ae284a"
      },
      "outputs": [
        {
          "data": {
            "text/plain": [
              "2814"
            ]
          },
          "execution_count": 63,
          "metadata": {},
          "output_type": "execute_result"
        }
      ],
      "source": [
        "2221+593"
      ]
    },
    {
      "cell_type": "markdown",
      "id": "91f3a4e3-0929-4f53-a472-562c2eee32bd",
      "metadata": {
        "id": "91f3a4e3-0929-4f53-a472-562c2eee32bd"
      },
      "source": [
        "## Filter and select in numeric range"
      ]
    },
    {
      "cell_type": "markdown",
      "id": "3d40a7f9-54a8-45d1-9fed-8d256abe2f91",
      "metadata": {
        "id": "3d40a7f9-54a8-45d1-9fed-8d256abe2f91"
      },
      "source": [
        "### Patients in City = 'Springfield' where the HEALTHCARE_EXPENSES between 1.5M and 2M"
      ]
    },
    {
      "cell_type": "code",
      "execution_count": null,
      "id": "f373a38c-296b-4ce5-98b3-d91b75118a56",
      "metadata": {
        "tags": [],
        "id": "f373a38c-296b-4ce5-98b3-d91b75118a56",
        "outputId": "f93fa65f-26e3-47ad-9db8-f64456eb338d"
      },
      "outputs": [
        {
          "data": {
            "text/plain": [
              "┌──────────────┬────────────────┬─────────┬─────────────┐\n",
              "│    FIRST     │      LAST      │ GENDER  │    CITY     │\n",
              "│   varchar    │    varchar     │ varchar │   varchar   │\n",
              "├──────────────┼────────────────┼─────────┼─────────────┤\n",
              "│ Talisha682   │ Brakus656      │ F       │ Springfield │\n",
              "│ Jerold208    │ Harber290      │ M       │ Springfield │\n",
              "│ Dean966      │ Tillman293     │ M       │ Springfield │\n",
              "│ Orval846     │ Cartwright189  │ M       │ Springfield │\n",
              "│ Jacinto644   │ Abernathy524   │ M       │ Springfield │\n",
              "│ Bethel526    │ Satterfield305 │ F       │ Springfield │\n",
              "│ Dorene845    │ Botsford977    │ F       │ Springfield │\n",
              "│ Lula998      │ Langosh790     │ F       │ Springfield │\n",
              "│ Deeanna316   │ Koss676        │ F       │ Springfield │\n",
              "│ Loriann967   │ Torp761        │ F       │ Springfield │\n",
              "│    ·         │    ·           │ ·       │      ·      │\n",
              "│    ·         │    ·           │ ·       │      ·      │\n",
              "│    ·         │    ·           │ ·       │      ·      │\n",
              "│ Ashley34     │ Murazik203     │ M       │ Springfield │\n",
              "│ Ulysses632   │ Donnelly343    │ M       │ Springfield │\n",
              "│ Horace32     │ Hammes673      │ M       │ Springfield │\n",
              "│ Roman389     │ Lubowitz58     │ M       │ Springfield │\n",
              "│ Jerald662    │ Grady603       │ M       │ Springfield │\n",
              "│ Damien170    │ Hoppe518       │ M       │ Springfield │\n",
              "│ Charley358   │ Vandervort697  │ M       │ Springfield │\n",
              "│ Carla633     │ Terán294       │ F       │ Springfield │\n",
              "│ Ana María762 │ Cotto891       │ F       │ Springfield │\n",
              "│ Juanita470   │ Connelly992    │ F       │ Springfield │\n",
              "├──────────────┴────────────────┴─────────┴─────────────┤\n",
              "│ 241 rows (20 shown)                         4 columns │\n",
              "└───────────────────────────────────────────────────────┘"
            ]
          },
          "execution_count": 50,
          "metadata": {},
          "output_type": "execute_result"
        }
      ],
      "source": [
        "conn.sql(\"SELECT FIRST, LAST, GENDER, CITY FROM patients WHERE city = 'Springfield' AND HEALTHCARE_EXPENSES BETWEEN 1500000 AND 2000000;\")"
      ]
    },
    {
      "cell_type": "markdown",
      "id": "a82dc954-451d-4328-b8cc-a719f1f1dbba",
      "metadata": {
        "tags": [],
        "id": "a82dc954-451d-4328-b8cc-a719f1f1dbba"
      },
      "source": [
        "## LIMIT\n",
        "### **LIMIT** specifies the maximum number of records the query will return.\n"
      ]
    },
    {
      "cell_type": "code",
      "execution_count": null,
      "id": "20de8501-580c-4598-a45f-057b1b86870e",
      "metadata": {
        "tags": [],
        "id": "20de8501-580c-4598-a45f-057b1b86870e",
        "outputId": "4c5b4129-4825-46ff-c82d-82d9d2781f35"
      },
      "outputs": [
        {
          "data": {
            "text/plain": [
              "┌─────────────────┬────────────────┬─────────┬─────────────┐\n",
              "│      FIRST      │      LAST      │ GENDER  │    CITY     │\n",
              "│     varchar     │    varchar     │ varchar │   varchar   │\n",
              "├─────────────────┼────────────────┼─────────┼─────────────┤\n",
              "│ Jacinto644      │ Kris249        │ M       │ Springfield │\n",
              "│ Alva958         │ Krajcik437     │ F       │ Walpole     │\n",
              "│ Jimmie93        │ Harris789      │ F       │ Pembroke    │\n",
              "│ Gregorio366     │ Auer97         │ M       │ Boston      │\n",
              "│ Karyn217        │ Mueller846     │ F       │ Colrain     │\n",
              "│ Jayson808       │ Fadel536       │ M       │ Chicopee    │\n",
              "│ José Eduardo181 │ Gómez206       │ M       │ Chicopee    │\n",
              "│ Milo271         │ Feil794        │ M       │ Somerville  │\n",
              "│ Karyn217        │ Metz686        │ F       │ Medfield    │\n",
              "│ Jeffrey461      │ Greenfelder433 │ M       │ Springfield │\n",
              "│ Mariana775      │ Gulgowski816   │ F       │ Lowell      │\n",
              "│ Leann224        │ Deckow585      │ F       │ Needham     │\n",
              "│ Isabel214       │ Hinojosa147    │ F       │ Fall River  │\n",
              "│ Christal240     │ Brown30        │ F       │ Boston      │\n",
              "│ Carmelia328     │ Konopelski743  │ F       │ Ashland     │\n",
              "│ Raye931         │ Wyman904       │ F       │ Quincy      │\n",
              "│ Lisbeth69       │ Rowe323        │ F       │ Malden      │\n",
              "│ Amada498        │ Spinka232      │ F       │ Foxborough  │\n",
              "│ Cythia210       │ Reichel38      │ F       │ Peabody     │\n",
              "│ María Soledad68 │ Aparicio848    │ F       │ Boston      │\n",
              "├─────────────────┴────────────────┴─────────┴─────────────┤\n",
              "│ 20 rows                                        4 columns │\n",
              "└──────────────────────────────────────────────────────────┘"
            ]
          },
          "execution_count": 24,
          "metadata": {},
          "output_type": "execute_result"
        }
      ],
      "source": [
        "conn.sql(\"SELECT FIRST, LAST, GENDER, CITY FROM patients LIMIT 20;\")"
      ]
    },
    {
      "cell_type": "markdown",
      "id": "a3da0336-6658-440e-b316-bd81cad190a9",
      "metadata": {
        "id": "a3da0336-6658-440e-b316-bd81cad190a9"
      },
      "source": [
        "### **ORDER BY** and **ASC**\n",
        "### This query returns the first 20 patients from the patients table, ordered alphabetically by their last name."
      ]
    },
    {
      "cell_type": "code",
      "execution_count": null,
      "id": "4dd30545-cb6f-4360-84ad-f0c8e3c60439",
      "metadata": {
        "tags": [],
        "id": "4dd30545-cb6f-4360-84ad-f0c8e3c60439",
        "outputId": "0c2d254c-c757-4468-800e-a83c3bfbc4cc"
      },
      "outputs": [
        {
          "data": {
            "text/plain": [
              "┌────────────────┬───────────┬─────────┬──────────────┐\n",
              "│     FIRST      │   LAST    │ GENDER  │     CITY     │\n",
              "│    varchar     │  varchar  │ varchar │   varchar    │\n",
              "├────────────────┼───────────┼─────────┼──────────────┤\n",
              "│ Jc393          │ Abbott774 │ M       │ Westfield    │\n",
              "│ Lloyd546       │ Abbott774 │ M       │ Northampton  │\n",
              "│ Charles364     │ Abbott774 │ M       │ Brockton     │\n",
              "│ Lelia627       │ Abbott774 │ F       │ Gloucester   │\n",
              "│ Devorah937     │ Abbott774 │ F       │ Cambridge    │\n",
              "│ Warren653      │ Abbott774 │ M       │ Tyngsborough │\n",
              "│ Rhona164       │ Abbott774 │ F       │ Stoneham     │\n",
              "│ Jackqueline794 │ Abbott774 │ F       │ Randolph     │\n",
              "│ Willa615       │ Abbott774 │ F       │ Dartmouth    │\n",
              "│ Cyril535       │ Abbott774 │ M       │ Millis       │\n",
              "│ Lorette239     │ Abbott774 │ F       │ Dennis       │\n",
              "│ Jimmy858       │ Abbott774 │ M       │ Lowell       │\n",
              "│ Laine739       │ Abbott774 │ F       │ Agawam       │\n",
              "│ Bernetta267    │ Abbott774 │ F       │ Ware         │\n",
              "│ Lauri399       │ Abbott774 │ F       │ Springfield  │\n",
              "│ Miesha237      │ Abbott774 │ F       │ Stoneham     │\n",
              "│ Darrin898      │ Abbott774 │ M       │ Newton       │\n",
              "│ Grant908       │ Abbott774 │ M       │ Arlington    │\n",
              "│ Arden380       │ Abbott774 │ M       │ Worcester    │\n",
              "│ German382      │ Abbott774 │ M       │ Taunton      │\n",
              "├────────────────┴───────────┴─────────┴──────────────┤\n",
              "│ 20 rows                                   4 columns │\n",
              "└─────────────────────────────────────────────────────┘"
            ]
          },
          "execution_count": 25,
          "metadata": {},
          "output_type": "execute_result"
        }
      ],
      "source": [
        "conn.sql(\"SELECT FIRST, LAST, GENDER, CITY FROM patients ORDER BY LAST ASC LIMIT 20;\")"
      ]
    },
    {
      "cell_type": "markdown",
      "id": "7d34f88d-2a0d-44e7-bf4e-cdd4c6611024",
      "metadata": {
        "tags": [],
        "id": "7d34f88d-2a0d-44e7-bf4e-cdd4c6611024"
      },
      "source": [
        "### **ORDER BY** and **DESC**\n",
        "### This query returns the first 20 patients from the patients table, ordered reverse alphabetically by their first name."
      ]
    },
    {
      "cell_type": "code",
      "execution_count": null,
      "id": "e420714c-9852-4ca6-9729-b47cd5f0bfb9",
      "metadata": {
        "tags": [],
        "id": "e420714c-9852-4ca6-9729-b47cd5f0bfb9",
        "outputId": "79785c58-a610-4a9f-9286-dbdd6d56e1cb"
      },
      "outputs": [
        {
          "data": {
            "text/plain": [
              "┌──────────┬────────────────┬─────────┬────────────┐\n",
              "│  FIRST   │      LAST      │ GENDER  │    CITY    │\n",
              "│ varchar  │    varchar     │ varchar │  varchar   │\n",
              "├──────────┼────────────────┼─────────┼────────────┤\n",
              "│ Óscar156 │ Ballesteros368 │ M       │ Taunton    │\n",
              "│ Óscar156 │ Curiel392      │ M       │ Swampscott │\n",
              "│ Óscar156 │ Zelaya592      │ M       │ Lynn       │\n",
              "│ Óscar156 │ Puente961      │ M       │ Greenfield │\n",
              "│ Óscar156 │ Olivas524      │ M       │ Norwell    │\n",
              "│ Óscar156 │ Rivero165      │ M       │ Lancaster  │\n",
              "│ Óscar156 │ Canales95      │ M       │ Hamilton   │\n",
              "│ Óscar156 │ Romero158      │ M       │ Boston     │\n",
              "│ Óscar156 │ Garza151       │ M       │ Longmeadow │\n",
              "│ Óscar156 │ Delgado712     │ M       │ Haverhill  │\n",
              "│ Óscar156 │ Ureña88        │ M       │ Bedford    │\n",
              "│ Óscar156 │ Henríquez109   │ M       │ Boxborough │\n",
              "│ Óscar156 │ Guerrero997    │ M       │ Boston     │\n",
              "│ Óscar156 │ Ojeda263       │ M       │ Boston     │\n",
              "│ Óscar156 │ Meléndez48     │ M       │ Newton     │\n",
              "│ Óscar156 │ Muro989        │ M       │ Boston     │\n",
              "│ Óscar156 │ Rendón540      │ M       │ Wilbraham  │\n",
              "│ Óscar156 │ Santacruz647   │ M       │ Winthrop   │\n",
              "│ Óscar156 │ Santacruz647   │ M       │ Boston     │\n",
              "│ Óscar156 │ Otero621       │ M       │ Boston     │\n",
              "├──────────┴────────────────┴─────────┴────────────┤\n",
              "│ 20 rows                                4 columns │\n",
              "└──────────────────────────────────────────────────┘"
            ]
          },
          "execution_count": 31,
          "metadata": {},
          "output_type": "execute_result"
        }
      ],
      "source": [
        "conn.sql(\"SELECT FIRST, LAST, GENDER, CITY FROM patients ORDER BY FIRST DESC LIMIT 20;\")"
      ]
    },
    {
      "cell_type": "markdown",
      "id": "93fa6905-f2cb-41eb-a3ab-926ede31fb6e",
      "metadata": {
        "tags": [],
        "id": "93fa6905-f2cb-41eb-a3ab-926ede31fb6e"
      },
      "source": [
        "# Aggregating Data using **GROUP BY**"
      ]
    },
    {
      "cell_type": "markdown",
      "id": "5bdacb92-3cad-456d-a684-e99f8855ceda",
      "metadata": {
        "tags": [],
        "id": "5bdacb92-3cad-456d-a684-e99f8855ceda"
      },
      "source": [
        "## Counting Patients by City"
      ]
    },
    {
      "cell_type": "code",
      "execution_count": null,
      "id": "dd11c310-bf83-4abc-9d0b-fd330130186a",
      "metadata": {
        "tags": [],
        "id": "dd11c310-bf83-4abc-9d0b-fd330130186a",
        "outputId": "d0136226-6055-4923-baed-6adb28150381"
      },
      "outputs": [
        {
          "data": {
            "text/plain": [
              "┌─────────────┬───────────────┐\n",
              "│    CITY     │ patient_count │\n",
              "│   varchar   │     int64     │\n",
              "├─────────────┼───────────────┤\n",
              "│ Dartmouth   │           656 │\n",
              "│ Fitchburg   │           743 │\n",
              "│ Plymouth    │           972 │\n",
              "│ Worcester   │          3263 │\n",
              "│ Beverly     │           778 │\n",
              "│ Westfield   │           781 │\n",
              "│ Hingham     │           431 │\n",
              "│ Rochester   │           103 │\n",
              "│ Sandwich    │           387 │\n",
              "│ Watertown   │           534 │\n",
              "│    ·        │             · │\n",
              "│    ·        │             · │\n",
              "│    ·        │             · │\n",
              "│ Ashfield    │            29 │\n",
              "│ Pelham      │            26 │\n",
              "│ Hancock     │            22 │\n",
              "│ Monterey    │            13 │\n",
              "│ Richmond    │            23 │\n",
              "│ Hinsdale    │            30 │\n",
              "│ Middlefield │            11 │\n",
              "│ Westhampton │            14 │\n",
              "│ Sandisfield │            12 │\n",
              "│ Monroe      │             2 │\n",
              "├─────────────┴───────────────┤\n",
              "│     351 rows (20 shown)     │\n",
              "└─────────────────────────────┘"
            ]
          },
          "execution_count": 74,
          "metadata": {},
          "output_type": "execute_result"
        }
      ],
      "source": [
        "conn.sql(\"SELECT CITY, COUNT(*) AS patient_count FROM patients GROUP BY CITY;\") ## each run gives random order"
      ]
    },
    {
      "cell_type": "markdown",
      "id": "0cc4737b-a226-483c-8565-c542c865d5aa",
      "metadata": {
        "id": "0cc4737b-a226-483c-8565-c542c865d5aa"
      },
      "source": [
        "## Counting Patients by City and sorting them highest to lowest"
      ]
    },
    {
      "cell_type": "code",
      "execution_count": null,
      "id": "aa235b02-0ed4-4fab-8901-3ca56fbd414d",
      "metadata": {
        "tags": [],
        "id": "aa235b02-0ed4-4fab-8901-3ca56fbd414d",
        "outputId": "b788eb59-d29b-463c-f647-79afd69bd0b4"
      },
      "outputs": [
        {
          "data": {
            "text/plain": [
              "┌─────────────┬───────────────┐\n",
              "│    CITY     │ patient_count │\n",
              "│   varchar   │     int64     │\n",
              "├─────────────┼───────────────┤\n",
              "│ Boston      │         11496 │\n",
              "│ Worcester   │          3263 │\n",
              "│ Springfield │          2814 │\n",
              "│ Cambridge   │          2044 │\n",
              "│ Lowell      │          2027 │\n",
              "│ Brockton    │          1833 │\n",
              "│ Lynn        │          1714 │\n",
              "│ New Bedford │          1706 │\n",
              "│ Quincy      │          1698 │\n",
              "│ Newton      │          1695 │\n",
              "│   ·         │             · │\n",
              "│   ·         │             · │\n",
              "│   ·         │             · │\n",
              "│ Blandford   │            10 │\n",
              "│ Heath       │             8 │\n",
              "│ Tolland     │             7 │\n",
              "│ Hawley      │             6 │\n",
              "│ Alford      │             5 │\n",
              "│ New Ashford │             4 │\n",
              "│ Aquinnah    │             4 │\n",
              "│ Tyringham   │             3 │\n",
              "│ Monroe      │             2 │\n",
              "│ Gosnold     │             1 │\n",
              "├─────────────┴───────────────┤\n",
              "│     351 rows (20 shown)     │\n",
              "└─────────────────────────────┘"
            ]
          },
          "execution_count": 75,
          "metadata": {},
          "output_type": "execute_result"
        }
      ],
      "source": [
        "conn.sql(\"SELECT CITY, COUNT(*) AS patient_count FROM patients GROUP BY CITY ORDER BY patient_count DESC;\")"
      ]
    },
    {
      "cell_type": "markdown",
      "id": "28c11e0f-a741-4bd0-b3fb-957e2379a571",
      "metadata": {
        "id": "28c11e0f-a741-4bd0-b3fb-957e2379a571"
      },
      "source": [
        "## Total Number of Patients by Gender in Each City"
      ]
    },
    {
      "cell_type": "code",
      "execution_count": null,
      "id": "0c88ca97-9541-463e-b746-155c5ef3251f",
      "metadata": {
        "tags": [],
        "id": "0c88ca97-9541-463e-b746-155c5ef3251f",
        "outputId": "b2538906-0c50-49be-f63a-13be71936007"
      },
      "outputs": [
        {
          "data": {
            "text/plain": [
              "┌─────────────┬─────────┬────────────────┐\n",
              "│    CITY     │ GENDER  │ total_patients │\n",
              "│   varchar   │ varchar │     int64      │\n",
              "├─────────────┼─────────┼────────────────┤\n",
              "│ Boston      │ F       │           5840 │\n",
              "│ Boston      │ M       │           5656 │\n",
              "│ Worcester   │ M       │           1694 │\n",
              "│ Worcester   │ F       │           1569 │\n",
              "│ Springfield │ M       │           1463 │\n",
              "│ Springfield │ F       │           1351 │\n",
              "│ Cambridge   │ M       │           1023 │\n",
              "│ Cambridge   │ F       │           1021 │\n",
              "│ Lowell      │ F       │           1015 │\n",
              "│ Lowell      │ M       │           1012 │\n",
              "├─────────────┴─────────┴────────────────┤\n",
              "│ 10 rows                      3 columns │\n",
              "└────────────────────────────────────────┘"
            ]
          },
          "execution_count": 78,
          "metadata": {},
          "output_type": "execute_result"
        }
      ],
      "source": [
        "conn.sql(\"SELECT CITY, GENDER, COUNT(*) AS total_patients FROM patients GROUP BY CITY, GENDER ORDER BY total_patients DESC LIMIT 10;\")"
      ]
    },
    {
      "cell_type": "markdown",
      "id": "76423fbe-74e9-456c-a921-26cdb9715ad4",
      "metadata": {
        "tags": [],
        "id": "76423fbe-74e9-456c-a921-26cdb9715ad4"
      },
      "source": [
        "## Lets look at another Table"
      ]
    },
    {
      "cell_type": "code",
      "execution_count": null,
      "id": "17ae6ac9-d1cc-488b-8cdb-8448f235448d",
      "metadata": {
        "id": "17ae6ac9-d1cc-488b-8cdb-8448f235448d",
        "outputId": "f7780c1c-c17d-4d52-8d2a-433addc88b21"
      },
      "outputs": [
        {
          "data": {
            "text/plain": [
              "┌─────────────┬─────────────┬─────────┬─────────┬─────────┬───────┐\n",
              "│ column_name │ column_type │  null   │   key   │ default │ extra │\n",
              "│   varchar   │   varchar   │ varchar │ varchar │ varchar │ int32 │\n",
              "├─────────────┼─────────────┼─────────┼─────────┼─────────┼───────┤\n",
              "│ DATE        │ VARCHAR     │ YES     │ NULL    │ NULL    │  NULL │\n",
              "│ PATIENT     │ VARCHAR     │ YES     │ NULL    │ NULL    │  NULL │\n",
              "│ ENCOUNTER   │ VARCHAR     │ YES     │ NULL    │ NULL    │  NULL │\n",
              "│ CODE        │ VARCHAR     │ YES     │ NULL    │ NULL    │  NULL │\n",
              "│ DESCRIPTION │ VARCHAR     │ YES     │ NULL    │ NULL    │  NULL │\n",
              "│ VALUE       │ VARCHAR     │ YES     │ NULL    │ NULL    │  NULL │\n",
              "│ UNITS       │ VARCHAR     │ YES     │ NULL    │ NULL    │  NULL │\n",
              "│ TYPE        │ VARCHAR     │ YES     │ NULL    │ NULL    │  NULL │\n",
              "└─────────────┴─────────────┴─────────┴─────────┴─────────┴───────┘"
            ]
          },
          "execution_count": 81,
          "metadata": {},
          "output_type": "execute_result"
        }
      ],
      "source": [
        "conn.sql(\"DESCRIBE observations;\")"
      ]
    },
    {
      "cell_type": "code",
      "execution_count": null,
      "id": "5cbb9f1e-8775-4f60-b8cf-8e22a2530f3c",
      "metadata": {
        "id": "5cbb9f1e-8775-4f60-b8cf-8e22a2530f3c",
        "outputId": "19222902-c44b-47ab-f855-454d69cac213"
      },
      "outputs": [
        {
          "data": {
            "text/plain": [
              "┌──────────────────────┬──────────────────────┬─────────┬───────────────────────────────────────────────┬──────────────┐\n",
              "│       PATIENT        │      ENCOUNTER       │  CODE   │                  DESCRIPTION                  │    VALUE     │\n",
              "│       varchar        │       varchar        │ varchar │                    varchar                    │   varchar    │\n",
              "├──────────────────────┼──────────────────────┼─────────┼───────────────────────────────────────────────┼──────────────┤\n",
              "│ 1ff7f10f-a204-4bb1…  │ 52051c30-c6c3-45fe…  │ 8302-2  │ Body Height                                   │ 82.7         │\n",
              "│ 1ff7f10f-a204-4bb1…  │ 52051c30-c6c3-45fe…  │ 72514-3 │ Pain severity - 0-10 verbal numeric rating …  │ 2.0          │\n",
              "│ 1ff7f10f-a204-4bb1…  │ 52051c30-c6c3-45fe…  │ 29463-7 │ Body Weight                                   │ 11.5         │\n",
              "│ 1ff7f10f-a204-4bb1…  │ 52051c30-c6c3-45fe…  │ 77606-2 │ Weight-for-length Per age and sex             │ 47.0         │\n",
              "│ 1ff7f10f-a204-4bb1…  │ 52051c30-c6c3-45fe…  │ 9843-4  │ Head Occipital-frontal circumference          │ 46.9         │\n",
              "│ 1ff7f10f-a204-4bb1…  │ 52051c30-c6c3-45fe…  │ 8462-4  │ Diastolic Blood Pressure                      │ 76.0         │\n",
              "│ 1ff7f10f-a204-4bb1…  │ 52051c30-c6c3-45fe…  │ 8480-6  │ Systolic Blood Pressure                       │ 107.0        │\n",
              "│ 1ff7f10f-a204-4bb1…  │ 52051c30-c6c3-45fe…  │ 8867-4  │ Heart rate                                    │ 68.0         │\n",
              "│ 1ff7f10f-a204-4bb1…  │ 52051c30-c6c3-45fe…  │ 9279-1  │ Respiratory rate                              │ 13.0         │\n",
              "│ 1ff7f10f-a204-4bb1…  │ 52051c30-c6c3-45fe…  │ 72166-2 │ Tobacco smoking status NHIS                   │ Never smoker │\n",
              "│          ·           │          ·           │   ·     │              ·                                │  ·           │\n",
              "│          ·           │          ·           │   ·     │              ·                                │  ·           │\n",
              "│          ·           │          ·           │   ·     │              ·                                │  ·           │\n",
              "│ 87537cb1-92e1-4a11…  │ 69e8eaf0-7714-4c20…  │ 2160-0  │ Creatinine [Mass/volume] in Serum or Plasma   │ 2.9          │\n",
              "│ 87537cb1-92e1-4a11…  │ 69e8eaf0-7714-4c20…  │ 17861-6 │ Calcium [Mass/volume] in Serum or Plasma      │ 9.2          │\n",
              "│ 87537cb1-92e1-4a11…  │ 69e8eaf0-7714-4c20…  │ 2951-2  │ Sodium [Moles/volume] in Serum or Plasma      │ 143.8        │\n",
              "│ 87537cb1-92e1-4a11…  │ 69e8eaf0-7714-4c20…  │ 2823-3  │ Potassium [Moles/volume] in Serum or Plasma   │ 4.3          │\n",
              "│ 87537cb1-92e1-4a11…  │ 69e8eaf0-7714-4c20…  │ 2075-0  │ Chloride [Moles/volume] in Serum or Plasma    │ 106.4        │\n",
              "│ 87537cb1-92e1-4a11…  │ 69e8eaf0-7714-4c20…  │ 2028-9  │ Carbon dioxide  total [Moles/volume] in Ser…  │ 22.9         │\n",
              "│ 87537cb1-92e1-4a11…  │ 69e8eaf0-7714-4c20…  │ 33914-3 │ Glomerular filtration rate/1.73 sq M.predic…  │ 9.9          │\n",
              "│ 87537cb1-92e1-4a11…  │ 69e8eaf0-7714-4c20…  │ 2885-2  │ Protein [Mass/volume] in Serum or Plasma      │ 5.7          │\n",
              "│ 87537cb1-92e1-4a11…  │ 69e8eaf0-7714-4c20…  │ 1751-7  │ Albumin [Mass/volume] in Serum or Plasma      │ 5.2          │\n",
              "│ 87537cb1-92e1-4a11…  │ 69e8eaf0-7714-4c20…  │ 1975-2  │ Bilirubin.total [Mass/volume] in Serum or P…  │ 14.2         │\n",
              "├──────────────────────┴──────────────────────┴─────────┴───────────────────────────────────────────────┴──────────────┤\n",
              "│ ? rows (>9999 rows, 20 shown)                                                                              5 columns │\n",
              "└──────────────────────────────────────────────────────────────────────────────────────────────────────────────────────┘"
            ]
          },
          "execution_count": 86,
          "metadata": {},
          "output_type": "execute_result"
        }
      ],
      "source": [
        "conn.sql(\"SELECT PATIENT,ENCOUNTER,CODE, DESCRIPTION, VALUE  from observations;\")"
      ]
    },
    {
      "cell_type": "markdown",
      "id": "04fa82f2-0f9a-4bcb-abf1-4b0ce9970faa",
      "metadata": {
        "id": "04fa82f2-0f9a-4bcb-abf1-4b0ce9970faa"
      },
      "source": [
        "## Average Heart Rate by Patient"
      ]
    },
    {
      "cell_type": "code",
      "execution_count": null,
      "id": "6d45d552-84a0-48bf-b773-8465b01a57fc",
      "metadata": {
        "id": "6d45d552-84a0-48bf-b773-8465b01a57fc",
        "outputId": "07d4f68c-00e3-49cf-8c9b-fce1b4f960e9"
      },
      "outputs": [
        {
          "data": {
            "text/plain": [
              "┌──────────────────────────────────────┬────────────────────┐\n",
              "│               PATIENT                │ average_heart_rate │\n",
              "│               varchar                │       double       │\n",
              "├──────────────────────────────────────┼────────────────────┤\n",
              "│ ff2209f2-a4c9-4737-9aa7-adc8d71b6961 │              200.0 │\n",
              "│ 8cea2d7e-6227-4924-a340-18eafb8564ac │              200.0 │\n",
              "│ 6ec823e7-839e-4491-8b6f-6b275951b456 │              200.0 │\n",
              "│ 0191f8aa-96dc-41e6-b718-312686a7a867 │              200.0 │\n",
              "│ c10db4e1-de51-495f-98ab-8322c6d9550a │              200.0 │\n",
              "│ 46ea7226-63f6-404f-bbed-904ea39f706d │              199.9 │\n",
              "│ ec1ce32c-57a3-44c4-8f64-e050f2f94e03 │              199.9 │\n",
              "│ a05e3bd1-1c51-453a-9969-646cb0168d23 │              199.9 │\n",
              "│ 9cc52681-4446-4e4a-80be-63418dd06e66 │              199.9 │\n",
              "│ b0112890-a24a-4564-b2b3-9b77879e5e79 │              199.9 │\n",
              "│ 18f53179-2449-47af-b4da-a9e51095076f │              199.9 │\n",
              "│ c3d165d2-597e-45a8-8331-f3338ce19fdf │              199.9 │\n",
              "│ 04dd3439-2116-4f9a-b40e-a84395cf6f21 │              199.9 │\n",
              "│ 371e14a1-31bd-4407-bdbb-4078781fde05 │              199.8 │\n",
              "│ 3e5c63bf-65fe-48bb-8361-6b21a909888a │              199.8 │\n",
              "│ 423f79cf-f7b8-41cd-bb3c-8459084f88eb │              199.8 │\n",
              "│ 2d4f57ee-4001-44f8-9a94-c1885f26b408 │              199.8 │\n",
              "│ bd6784c0-3529-4a12-87bd-746affb17739 │              199.8 │\n",
              "│ ef43848b-a4f1-4c45-a106-5928e29b72f2 │              199.7 │\n",
              "│ 1d050245-097c-44a5-b29b-6a18a22731e9 │              199.7 │\n",
              "├──────────────────────────────────────┴────────────────────┤\n",
              "│ 20 rows                                         2 columns │\n",
              "└───────────────────────────────────────────────────────────┘"
            ]
          },
          "execution_count": 107,
          "metadata": {},
          "output_type": "execute_result"
        }
      ],
      "source": [
        "conn.sql(\"SELECT PATIENT, ROUND(AVG(CAST(VALUE AS DECIMAL(10,6))), 2) AS average_heart_rate FROM observations WHERE DESCRIPTION LIKE '%Heart rate%' GROUP BY PATIENT ORDER BY average_heart_rate DESC LIMIT 20;\")"
      ]
    },
    {
      "cell_type": "markdown",
      "id": "60b7bbd6-398d-44f9-a1c0-815d2003d53e",
      "metadata": {
        "id": "60b7bbd6-398d-44f9-a1c0-815d2003d53e"
      },
      "source": [
        "## Count of Heart Rate Records by Patient"
      ]
    },
    {
      "cell_type": "code",
      "execution_count": null,
      "id": "19eb7250-f06c-42fc-a183-b4db2ce1fa38",
      "metadata": {
        "id": "19eb7250-f06c-42fc-a183-b4db2ce1fa38",
        "outputId": "e6285d4a-595d-409e-868a-69ea2f6b9103"
      },
      "outputs": [
        {
          "data": {
            "text/plain": [
              "┌──────────────────────────────────────┬────────────────────┐\n",
              "│               PATIENT                │ heart_rate_records │\n",
              "│               varchar                │       int64        │\n",
              "├──────────────────────────────────────┼────────────────────┤\n",
              "│ 3e21a156-da54-4fb7-815e-550fdf4afbbd │                 33 │\n",
              "│ ffbf0392-1643-4b05-819f-489072c8c4d4 │                 30 │\n",
              "│ b9ef6005-438e-4b47-afaf-9dba32184adf │                 30 │\n",
              "│ f8080701-2b5c-4128-9a7f-9a098b737b27 │                 30 │\n",
              "│ a2172279-3d63-4d14-867d-1a39d9280690 │                 30 │\n",
              "│ 01a5a5a6-ef7b-42ba-899c-de66e1b1e27e │                 30 │\n",
              "│ 62572c44-a802-40d1-8d60-d02bc287d548 │                 30 │\n",
              "│ 445953fd-15fa-424e-9926-f93ebf1bca7a │                 30 │\n",
              "│ c3ea3c46-f8d1-4abe-8fb2-8fc8f86b4ef4 │                 29 │\n",
              "│ bd18ba0d-2e65-4427-98f1-cbfc09dbaa33 │                 29 │\n",
              "│ 5736b489-0e15-4693-b9d6-05192a702a2d │                 29 │\n",
              "│ b5a0b060-96ae-44d5-bd10-f532a445009b │                 29 │\n",
              "│ ee9b44a1-36c6-456e-b77c-cd200611ca0f │                 29 │\n",
              "│ 0d5290dd-a3e3-4a81-91d5-6e722e58ec3e │                 29 │\n",
              "│ 54ec8b8e-fe2a-4cf5-a087-1a65df1ab1b8 │                 29 │\n",
              "│ e658626d-0f72-4570-8071-2dd63827a24c │                 29 │\n",
              "│ ec3f3da2-09a1-43c7-8cae-ed34847d2534 │                 28 │\n",
              "│ c7bd54b1-e036-4702-9062-acfa3677a6e8 │                 28 │\n",
              "│ 8b6ee161-eb5f-413a-8e86-f5b3adb3f5ff │                 28 │\n",
              "│ 03c1210e-d145-4aed-9522-14cff41b3c28 │                 28 │\n",
              "├──────────────────────────────────────┴────────────────────┤\n",
              "│ 20 rows                                         2 columns │\n",
              "└───────────────────────────────────────────────────────────┘"
            ]
          },
          "execution_count": 112,
          "metadata": {},
          "output_type": "execute_result"
        }
      ],
      "source": [
        "conn.sql(\"SELECT PATIENT, COUNT(*) AS heart_rate_records FROM observations WHERE DESCRIPTION LIKE '%Heart rate%' GROUP BY PATIENT ORDER BY heart_rate_records DESC LIMIT 20;\")"
      ]
    },
    {
      "cell_type": "markdown",
      "id": "6815aa8c-3362-413f-9ff8-60b4eece464d",
      "metadata": {
        "id": "6815aa8c-3362-413f-9ff8-60b4eece464d"
      },
      "source": [
        "## Lets look at another table"
      ]
    },
    {
      "cell_type": "code",
      "execution_count": null,
      "id": "78952735-4081-4dcb-9236-f728e2771997",
      "metadata": {
        "tags": [],
        "id": "78952735-4081-4dcb-9236-f728e2771997",
        "outputId": "d613af57-e84d-4fd6-d828-e66069404b8a"
      },
      "outputs": [
        {
          "data": {
            "text/plain": [
              "┌─────────────┬─────────────┬─────────┬─────────┬─────────┬───────┐\n",
              "│ column_name │ column_type │  null   │   key   │ default │ extra │\n",
              "│   varchar   │   varchar   │ varchar │ varchar │ varchar │ int32 │\n",
              "├─────────────┼─────────────┼─────────┼─────────┼─────────┼───────┤\n",
              "│ DATE        │ VARCHAR     │ YES     │ NULL    │ NULL    │  NULL │\n",
              "│ PATIENT     │ VARCHAR     │ YES     │ NULL    │ NULL    │  NULL │\n",
              "│ ENCOUNTER   │ VARCHAR     │ YES     │ NULL    │ NULL    │  NULL │\n",
              "│ CODE        │ BIGINT      │ YES     │ NULL    │ NULL    │  NULL │\n",
              "│ DESCRIPTION │ VARCHAR     │ YES     │ NULL    │ NULL    │  NULL │\n",
              "│ BASE_COST   │ DOUBLE      │ YES     │ NULL    │ NULL    │  NULL │\n",
              "└─────────────┴─────────────┴─────────┴─────────┴─────────┴───────┘"
            ]
          },
          "execution_count": 113,
          "metadata": {},
          "output_type": "execute_result"
        }
      ],
      "source": [
        "conn.sql(\"DESCRIBE immunizations;\")"
      ]
    },
    {
      "cell_type": "code",
      "execution_count": null,
      "id": "02de641a-ff29-4945-84ab-881071d15696",
      "metadata": {
        "tags": [],
        "id": "02de641a-ff29-4945-84ab-881071d15696",
        "outputId": "afa69df1-7c3d-4ab0-876e-7575c76171f6"
      },
      "outputs": [
        {
          "data": {
            "text/plain": [
              "┌──────────────────────┬──────────────────────┬───────┬────────────────────────────────────────────────────┬───────────┐\n",
              "│       PATIENT        │      ENCOUNTER       │ CODE  │                    DESCRIPTION                     │ BASE_COST │\n",
              "│       varchar        │       varchar        │ int64 │                      varchar                       │  double   │\n",
              "├──────────────────────┼──────────────────────┼───────┼────────────────────────────────────────────────────┼───────────┤\n",
              "│ 1ff7f10f-a204-4bb1…  │ 52051c30-c6c3-45fe…  │   140 │ Influenza  seasonal  injectable  preservative free │    140.52 │\n",
              "│ 1ff7f10f-a204-4bb1…  │ 20032279-0deb-41f9…  │    83 │ Hep A  ped/adol  2 dose                            │    140.52 │\n",
              "│ 9bcf6ed5-d808-44af…  │ 26f579ef-1dc8-4899…  │   140 │ Influenza  seasonal  injectable  preservative free │    140.52 │\n",
              "│ 5163c501-353c-4a82…  │ 929c6964-3c16-4813…  │   140 │ Influenza  seasonal  injectable  preservative free │    140.52 │\n",
              "│ 5163c501-353c-4a82…  │ 929c6964-3c16-4813…  │   114 │ meningococcal MCV4P                                │    140.52 │\n",
              "│ bd1c4ffc-7f1d-4590…  │ 4a01f35b-6eef-4847…  │     8 │ Hep B  adolescent or pediatric                     │    140.52 │\n",
              "│ bd1c4ffc-7f1d-4590…  │ 54b37dfa-8848-4eec…  │     8 │ Hep B  adolescent or pediatric                     │    140.52 │\n",
              "│ bd1c4ffc-7f1d-4590…  │ bce52dd4-5d94-4b11…  │    49 │ Hib (PRP-OMP)                                      │    140.52 │\n",
              "│ bd1c4ffc-7f1d-4590…  │ bce52dd4-5d94-4b11…  │   119 │ rotavirus  monovalent                              │    140.52 │\n",
              "│ bd1c4ffc-7f1d-4590…  │ bce52dd4-5d94-4b11…  │    10 │ IPV                                                │    140.52 │\n",
              "│          ·           │          ·           │     · │  ·                                                 │       ·   │\n",
              "│          ·           │          ·           │     · │  ·                                                 │       ·   │\n",
              "│          ·           │          ·           │     · │  ·                                                 │       ·   │\n",
              "│ cfe32bfc-ece7-4eaa…  │ bb4f8dd1-8332-4cb8…  │   140 │ Influenza  seasonal  injectable  preservative free │    140.52 │\n",
              "│ d39bb4b1-ccdd-43c1…  │ fb5646a8-2287-4c43…  │   140 │ Influenza  seasonal  injectable  preservative free │    140.52 │\n",
              "│ 02ffc065-f3e6-40e0…  │ 64e6c360-e155-4a54…  │   140 │ Influenza  seasonal  injectable  preservative free │    140.52 │\n",
              "│ ccee8353-3472-4fb7…  │ e5c73927-da46-4cf1…  │   140 │ Influenza  seasonal  injectable  preservative free │    140.52 │\n",
              "│ 3f495129-1322-430a…  │ 429278d9-8dd6-48da…  │   140 │ Influenza  seasonal  injectable  preservative free │    140.52 │\n",
              "│ 3f495129-1322-430a…  │ 92e85004-5ace-49bc…  │   140 │ Influenza  seasonal  injectable  preservative free │    140.52 │\n",
              "│ 3f495129-1322-430a…  │ 16cf2099-4351-4481…  │   140 │ Influenza  seasonal  injectable  preservative free │    140.52 │\n",
              "│ e3514554-8068-4f1c…  │ 94782392-8189-4ad8…  │   140 │ Influenza  seasonal  injectable  preservative free │    140.52 │\n",
              "│ 88f666d5-9f8b-4130…  │ c7ce890d-c924-4cfc…  │   140 │ Influenza  seasonal  injectable  preservative free │    140.52 │\n",
              "│ 48060f1e-9805-4b51…  │ 493df760-d9b5-41de…  │   140 │ Influenza  seasonal  injectable  preservative free │    140.52 │\n",
              "├──────────────────────┴──────────────────────┴───────┴────────────────────────────────────────────────────┴───────────┤\n",
              "│ ? rows (>9999 rows, 20 shown)                                                                              5 columns │\n",
              "└──────────────────────────────────────────────────────────────────────────────────────────────────────────────────────┘"
            ]
          },
          "execution_count": 116,
          "metadata": {},
          "output_type": "execute_result"
        }
      ],
      "source": [
        "conn.sql(\"SELECT PATIENT,ENCOUNTER,CODE, DESCRIPTION, BASE_COST  from immunizations;\")"
      ]
    },
    {
      "cell_type": "markdown",
      "id": "c3f18b4f-188e-44c0-b8ee-03630a78abe0",
      "metadata": {
        "id": "c3f18b4f-188e-44c0-b8ee-03630a78abe0"
      },
      "source": [
        "## Total Cost of Vaccinations per Patient\n"
      ]
    },
    {
      "cell_type": "code",
      "execution_count": null,
      "id": "83270f95-c80f-495c-9039-92e2d81e04e5",
      "metadata": {
        "tags": [],
        "id": "83270f95-c80f-495c-9039-92e2d81e04e5",
        "outputId": "9334f5e9-20e6-476f-942a-aee6c391b923"
      },
      "outputs": [
        {
          "data": {
            "text/plain": [
              "┌──────────────────────────────────────┬────────────┐\n",
              "│               PATIENT                │ total_cost │\n",
              "│               varchar                │   double   │\n",
              "├──────────────────────────────────────┼────────────┤\n",
              "│ 8eacdc17-de2f-4024-88bd-976401b30979 │     2810.4 │\n",
              "│ bb14de6a-c77d-44bb-a3a8-338a6a246520 │     2810.4 │\n",
              "│ a5b60d43-9776-4811-badf-67d49edbc175 │     2810.4 │\n",
              "│ 1c8a4026-5dbe-478a-b647-ecb605775977 │     2810.4 │\n",
              "│ 3e38e20b-6dd8-44fe-9ed3-81e1e3d8e2ab │     2810.4 │\n",
              "│ e23c7c68-0319-41f5-90d9-1db160321a94 │     2810.4 │\n",
              "│ 49e7d878-93a6-4e71-971b-213abacf2235 │     2810.4 │\n",
              "│ 7ded4116-1783-4a93-9bb2-7a65370f55f5 │     2810.4 │\n",
              "│ 594660e4-6a02-4e3c-a8b9-2c61d4d4af60 │     2810.4 │\n",
              "│ fee1edbd-277d-4b12-901e-60b6135cf877 │     2810.4 │\n",
              "│                  ·                   │        ·   │\n",
              "│                  ·                   │        ·   │\n",
              "│                  ·                   │        ·   │\n",
              "│ 594d1ecb-b1a4-4bad-9ccd-5cebceebd6f5 │     281.04 │\n",
              "│ 456fa9f9-7eb7-4316-a74b-5a9ff87f8fc5 │     281.04 │\n",
              "│ 52568520-7163-429d-bc90-fc245debb697 │     281.04 │\n",
              "│ 30a16a19-ee93-4bfd-b1ed-bba90de36266 │     281.04 │\n",
              "│ 0ef633b0-2996-44c5-936c-600820310223 │     281.04 │\n",
              "│ 613319c8-2b76-494b-86b8-e776a2ee5e0b │     281.04 │\n",
              "│ 4dceeb57-4fe3-4c32-a748-621df5ce3c30 │     281.04 │\n",
              "│ 93d590e8-9f3e-4741-bee2-9b8e9e8b21e7 │     281.04 │\n",
              "│ bad20ffc-48f9-4a7d-a2be-39a50fa4e0ac │     281.04 │\n",
              "│ 3cf75ec3-5e1c-4783-bb20-282a8cf66f30 │     281.04 │\n",
              "├──────────────────────────────────────┴────────────┤\n",
              "│ ? rows (>9999 rows, 20 shown)           2 columns │\n",
              "└───────────────────────────────────────────────────┘"
            ]
          },
          "execution_count": 121,
          "metadata": {},
          "output_type": "execute_result"
        }
      ],
      "source": [
        "conn.sql(\"SELECT PATIENT, SUM(BASE_COST) AS total_cost FROM immunizations GROUP BY PATIENT ORDER BY total_cost DESC;\")"
      ]
    },
    {
      "cell_type": "markdown",
      "id": "1525615d-d0b4-4dd8-8ace-37ef2fc15835",
      "metadata": {
        "id": "1525615d-d0b4-4dd8-8ace-37ef2fc15835"
      },
      "source": [
        "## Top 10 Most Common Vaccine Administered"
      ]
    },
    {
      "cell_type": "code",
      "execution_count": null,
      "id": "5213410b-af5c-4a19-bca5-920aadf6e93b",
      "metadata": {
        "tags": [],
        "id": "5213410b-af5c-4a19-bca5-920aadf6e93b",
        "outputId": "f02c1928-31d3-4d28-e28d-dbdc9ae4d7c2"
      },
      "outputs": [
        {
          "data": {
            "text/plain": [
              "┌────────────────────────────────────────────────────┬────────┐\n",
              "│                    DESCRIPTION                     │ count  │\n",
              "│                      varchar                       │ int64  │\n",
              "├────────────────────────────────────────────────────┼────────┤\n",
              "│ Influenza  seasonal  injectable  preservative free │ 106564 │\n",
              "│ Td (adult) preservative free                       │   9815 │\n",
              "│ Pneumococcal conjugate PCV 13                      │   5747 │\n",
              "│ DTaP                                               │   5735 │\n",
              "│ IPV                                                │   4962 │\n",
              "│ meningococcal MCV4P                                │   4010 │\n",
              "│ Hib (PRP-OMP)                                      │   3615 │\n",
              "│ HPV  quadrivalent                                  │   3494 │\n",
              "│ Hep B  adolescent or pediatric                     │   3490 │\n",
              "│ zoster                                             │   3469 │\n",
              "├────────────────────────────────────────────────────┴────────┤\n",
              "│ 10 rows                                           2 columns │\n",
              "└─────────────────────────────────────────────────────────────┘"
            ]
          },
          "execution_count": 123,
          "metadata": {},
          "output_type": "execute_result"
        }
      ],
      "source": [
        "conn.sql(\"SELECT DESCRIPTION, COUNT(*) AS count FROM immunizations GROUP BY DESCRIPTION ORDER BY count DESC LIMIT 10;\")"
      ]
    },
    {
      "cell_type": "markdown",
      "id": "4096d3ff-6f1b-48ac-804a-70e7586680cf",
      "metadata": {
        "tags": [],
        "id": "4096d3ff-6f1b-48ac-804a-70e7586680cf"
      },
      "source": [
        "# JOINS\n",
        "\n",
        "## SQL joins are used to combine rows from two or more tables, based on a related column between them. There are several types of joins in SQL, each serving different purposes depending on how you want to combine your data.\n"
      ]
    },
    {
      "cell_type": "markdown",
      "source": [
        "![1694829827850.jpeg](data:image/jpeg;base64,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)"
      ],
      "metadata": {
        "id": "V203uzAoaF6I"
      },
      "id": "V203uzAoaF6I"
    },
    {
      "cell_type": "markdown",
      "source": [
        "## **For the following examples: Left table:  Patients and Right Table: Immunizations**"
      ],
      "metadata": {
        "id": "i8_NlREibENp"
      },
      "id": "i8_NlREibENp"
    },
    {
      "cell_type": "markdown",
      "id": "bc4109d2-c06a-4d38-9377-bc2ad689e2d1",
      "metadata": {
        "id": "bc4109d2-c06a-4d38-9377-bc2ad689e2d1"
      },
      "source": [
        "###  **INNER JOIN** -This join returns rows when there is at least one match in both tables. If there is no match, the rows are not returned. It's the most common type of join.\n",
        "### Find Matching Records\n",
        "### Question: Which medical treatments have been administered to patients, including the patient's name and the cost of each treatment?"
      ]
    },
    {
      "cell_type": "code",
      "execution_count": null,
      "id": "e6c6f3c6-739f-470e-b073-029ba3066f01",
      "metadata": {
        "tags": [],
        "id": "e6c6f3c6-739f-470e-b073-029ba3066f01",
        "outputId": "c65793a9-5f5c-44ef-fba9-c108fe876450"
      },
      "outputs": [
        {
          "data": {
            "text/plain": [
              "┌──────────┬───────────────┬────────────────────────────────────────────────────┬───────────┐\n",
              "│  FIRST   │     LAST      │                    DESCRIPTION                     │ BASE_COST │\n",
              "│ varchar  │    varchar    │                      varchar                       │  double   │\n",
              "├──────────┼───────────────┼────────────────────────────────────────────────────┼───────────┤\n",
              "│ Aaron697 │ Cummings51    │ Influenza  seasonal  injectable  preservative free │    140.52 │\n",
              "│ Aaron697 │ Crooks415     │ Influenza  seasonal  injectable  preservative free │    140.52 │\n",
              "│ Aaron697 │ Anderson154   │ Pneumococcal conjugate PCV 13                      │    140.52 │\n",
              "│ Aaron697 │ Hartmann983   │ Hep B  adolescent or pediatric                     │    140.52 │\n",
              "│ Aaron697 │ Thompson596   │ Influenza  seasonal  injectable  preservative free │    140.52 │\n",
              "│ Aaron697 │ Rodriguez71   │ Influenza  seasonal  injectable  preservative free │    140.52 │\n",
              "│ Aaron697 │ Deckow585     │ Influenza  seasonal  injectable  preservative free │    140.52 │\n",
              "│ Aaron697 │ Swaniawski813 │ Influenza  seasonal  injectable  preservative free │    140.52 │\n",
              "│ Aaron697 │ Beer512       │ Influenza  seasonal  injectable  preservative free │    140.52 │\n",
              "│ Aaron697 │ Ullrich385    │ Influenza  seasonal  injectable  preservative free │    140.52 │\n",
              "│    ·     │     ·         │                         ·                          │       ·   │\n",
              "│    ·     │     ·         │                         ·                          │       ·   │\n",
              "│    ·     │     ·         │                         ·                          │       ·   │\n",
              "│ Ariel183 │ Schuster709   │ Influenza  seasonal  injectable  preservative free │    140.52 │\n",
              "│ Ariel183 │ Mohr916       │ Influenza  seasonal  injectable  preservative free │    140.52 │\n",
              "│ Ariel183 │ Waters156     │ Influenza  seasonal  injectable  preservative free │    140.52 │\n",
              "│ Ariel183 │ Will178       │ Influenza  seasonal  injectable  preservative free │    140.52 │\n",
              "│ Ariel183 │ Leffler128    │ Influenza  seasonal  injectable  preservative free │    140.52 │\n",
              "│ Ariel183 │ Bode78        │ Influenza  seasonal  injectable  preservative free │    140.52 │\n",
              "│ Ariel183 │ Grady603      │ Influenza  seasonal  injectable  preservative free │    140.52 │\n",
              "│ Ariel183 │ Funk324       │ Influenza  seasonal  injectable  preservative free │    140.52 │\n",
              "│ Ariel183 │ McGlynn426    │ Td (adult) preservative free                       │    140.52 │\n",
              "│ Ariel183 │ Boehm581      │ Influenza  seasonal  injectable  preservative free │    140.52 │\n",
              "├──────────┴───────────────┴────────────────────────────────────────────────────┴───────────┤\n",
              "│ ? rows (>9999 rows, 20 shown)                                                   4 columns │\n",
              "└───────────────────────────────────────────────────────────────────────────────────────────┘"
            ]
          },
          "execution_count": 134,
          "metadata": {},
          "output_type": "execute_result"
        }
      ],
      "source": [
        "conn.sql(\"SELECT patients.FIRST, patients.LAST, immunizations.DESCRIPTION, immunizations.BASE_COST FROM immunizations INNER JOIN patients ON immunizations.PATIENT = patients.Id ORDER BY patients.FIRST ASC;\")"
      ]
    },
    {
      "cell_type": "markdown",
      "id": "add1b9a1-6a6c-4dfd-8a8c-597a4aa8cd25",
      "metadata": {
        "id": "add1b9a1-6a6c-4dfd-8a8c-597a4aa8cd25"
      },
      "source": [
        "### **LEFT JOIN** - (or LEFT OUTER JOIN): This returns all rows from the left table, and the matched rows from the right table. The result is NULL from the right side, if there is no match.\n",
        "\n",
        "\n",
        "### Match and Show All Patients\n",
        "### Question: For all patients, what treatments have they received, if any?"
      ]
    },
    {
      "cell_type": "code",
      "execution_count": null,
      "id": "3b2a344d-7aa0-4917-893b-f38e56d2b176",
      "metadata": {
        "tags": [],
        "id": "3b2a344d-7aa0-4917-893b-f38e56d2b176",
        "outputId": "84bb5bd2-7e4e-44bf-83d3-c1c70569b197"
      },
      "outputs": [
        {
          "data": {
            "text/plain": [
              "┌───────────┬─────────────┬────────────────────────────────────────────────────┬───────────┐\n",
              "│   FIRST   │    LAST     │                    DESCRIPTION                     │ BASE_COST │\n",
              "│  varchar  │   varchar   │                      varchar                       │  double   │\n",
              "├───────────┼─────────────┼────────────────────────────────────────────────────┼───────────┤\n",
              "│ Aaron697  │ Legros616   │ Influenza  seasonal  injectable  preservative free │    140.52 │\n",
              "│ Aaron697  │ Deckow585   │ Influenza  seasonal  injectable  preservative free │    140.52 │\n",
              "│ Aaron697  │ Thompson596 │ Influenza  seasonal  injectable  preservative free │    140.52 │\n",
              "│ Aaron697  │ Auer97      │ Influenza  seasonal  injectable  preservative free │    140.52 │\n",
              "│ Aaron697  │ Crooks415   │ Influenza  seasonal  injectable  preservative free │    140.52 │\n",
              "│ Aaron697  │ Crooks415   │ Td (adult) preservative free                       │    140.52 │\n",
              "│ Aaron697  │ Volkman526  │ Influenza  seasonal  injectable  preservative free │    140.52 │\n",
              "│ Aaron697  │ Hartmann983 │ Influenza  seasonal  injectable  preservative free │    140.52 │\n",
              "│ Aaron697  │ Orn563      │ NULL                                               │      NULL │\n",
              "│ Aaron697  │ Hartmann983 │ IPV                                                │    140.52 │\n",
              "│    ·      │     ·       │  ·                                                 │       ·   │\n",
              "│    ·      │     ·       │  ·                                                 │       ·   │\n",
              "│    ·      │     ·       │  ·                                                 │       ·   │\n",
              "│ Antonia30 │ Goodwin327  │ HPV  quadrivalent                                  │    140.52 │\n",
              "│ Antonia30 │ Funk324     │ Influenza  seasonal  injectable  preservative free │    140.52 │\n",
              "│ Antonia30 │ West559     │ Influenza  seasonal  injectable  preservative free │    140.52 │\n",
              "│ Antonia30 │ Lowe577     │ NULL                                               │      NULL │\n",
              "│ Antonia30 │ D'Amore443  │ Pneumococcal conjugate PCV 13                      │    140.52 │\n",
              "│ Antonia30 │ Montes106   │ meningococcal MCV4P                                │    140.52 │\n",
              "│ Antonia30 │ González124 │ Influenza  seasonal  injectable  preservative free │    140.52 │\n",
              "│ Antonia30 │ Franecki195 │ zoster                                             │    140.52 │\n",
              "│ Antonia30 │ Rojo930     │ Pneumococcal conjugate PCV 13                      │    140.52 │\n",
              "│ Antonia30 │ Puente961   │ HPV  quadrivalent                                  │    140.52 │\n",
              "├───────────┴─────────────┴────────────────────────────────────────────────────┴───────────┤\n",
              "│ ? rows (>9999 rows, 20 shown)                                                  4 columns │\n",
              "└──────────────────────────────────────────────────────────────────────────────────────────┘"
            ]
          },
          "execution_count": 135,
          "metadata": {},
          "output_type": "execute_result"
        }
      ],
      "source": [
        "conn.sql(\"SELECT patients.FIRST, patients.LAST, immunizations.DESCRIPTION, immunizations.BASE_COST FROM patients LEFT JOIN immunizations ON patients.Id = immunizations.PATIENT ORDER BY patients.FIRST ASC;\")"
      ]
    },
    {
      "cell_type": "markdown",
      "id": "e09800d8-f1c1-4023-810d-0e10d98bdc2d",
      "metadata": {
        "id": "e09800d8-f1c1-4023-810d-0e10d98bdc2d"
      },
      "source": [
        "### **RIGHT JOIN** - (or RIGHT OUTER JOIN): This returns all rows from the right table, and the matched rows from the left table. The result is NULL from the left side, if there is no match.\n",
        "\n",
        "\n",
        "### - Match and Show All Immunizations\n",
        "### Question: For all Immunizations recorded, which patients received them, if identifiable?"
      ]
    },
    {
      "cell_type": "code",
      "execution_count": null,
      "id": "fb045526-fef9-4613-992e-eb880bc6cd42",
      "metadata": {
        "tags": [],
        "id": "fb045526-fef9-4613-992e-eb880bc6cd42",
        "outputId": "27f75684-4a38-4cfa-e325-bf56a766316a"
      },
      "outputs": [
        {
          "data": {
            "text/plain": [
              "┌────────────────┬──────────────┬──────────────┬───────────┐\n",
              "│     FIRST      │     LAST     │ DESCRIPTION  │ BASE_COST │\n",
              "│    varchar     │   varchar    │   varchar    │  double   │\n",
              "├────────────────┼──────────────┼──────────────┼───────────┤\n",
              "│ Shantay950     │ Quitzon246   │ DTaP         │    140.52 │\n",
              "│ Cleveland582   │ VonRueden376 │ DTaP         │    140.52 │\n",
              "│ Flo729         │ Quigley282   │ DTaP         │    140.52 │\n",
              "│ Flo729         │ Quigley282   │ DTaP         │    140.52 │\n",
              "│ Werner409      │ Schaden604   │ DTaP         │    140.52 │\n",
              "│ Pasty639       │ Ortiz186     │ DTaP         │    140.52 │\n",
              "│ Pasty639       │ Ortiz186     │ DTaP         │    140.52 │\n",
              "│ Angelica442    │ Kovacek682   │ DTaP         │    140.52 │\n",
              "│ Cathie710      │ Hegmann834   │ DTaP         │    140.52 │\n",
              "│ Pasty639       │ Ortiz186     │ DTaP         │    140.52 │\n",
              "│   ·            │    ·         │  ·           │       ·   │\n",
              "│   ·            │    ·         │  ·           │       ·   │\n",
              "│   ·            │    ·         │  ·           │       ·   │\n",
              "│ Art115         │ Roberts511   │ Hep A  adult │    140.52 │\n",
              "│ Christopher407 │ Davis923     │ Hep A  adult │    140.52 │\n",
              "│ Michiko564     │ Dooley940    │ Hep A  adult │    140.52 │\n",
              "│ Celine582      │ Sipes176     │ Hep A  adult │    140.52 │\n",
              "│ Darci883       │ Miller503    │ Hep A  adult │    140.52 │\n",
              "│ Ethan766       │ Morar593     │ Hep A  adult │    140.52 │\n",
              "│ Georgiann138   │ Heathcote539 │ Hep A  adult │    140.52 │\n",
              "│ Herbert830     │ Wolff180     │ Hep A  adult │    140.52 │\n",
              "│ Ismael683      │ King743      │ Hep A  adult │    140.52 │\n",
              "│ Ellsworth48    │ Mertz280     │ Hep A  adult │    140.52 │\n",
              "├────────────────┴──────────────┴──────────────┴───────────┤\n",
              "│ ? rows (>9999 rows, 20 shown)                  4 columns │\n",
              "└──────────────────────────────────────────────────────────┘"
            ]
          },
          "execution_count": 136,
          "metadata": {},
          "output_type": "execute_result"
        }
      ],
      "source": [
        "conn.sql(\"SELECT patients.FIRST, patients.LAST, immunizations.DESCRIPTION, immunizations.BASE_COST FROM patients RIGHT JOIN immunizations ON patients.Id = immunizations.PATIENT ORDER BY immunizations.DESCRIPTION;\")"
      ]
    },
    {
      "cell_type": "markdown",
      "id": "455f1405-3c2b-4153-b2f5-1863b4d0c05c",
      "metadata": {
        "id": "455f1405-3c2b-4153-b2f5-1863b4d0c05c"
      },
      "source": [
        "### **FULL OUTER JOIN** (FULL JOIN ): This returns rows when there is a match in one of the tables. It effectively combines the results of both LEFT JOIN and RIGHT JOIN.\n",
        "\n",
        "### - Comprehensive Match\n",
        "### Question: What is the complete list of patients and their Immunizations, including those without recorded treatments or identifiable patients?"
      ]
    },
    {
      "cell_type": "code",
      "execution_count": null,
      "id": "69ad20e7-0265-44b4-b9fa-a616359b5ca3",
      "metadata": {
        "tags": [],
        "id": "69ad20e7-0265-44b4-b9fa-a616359b5ca3",
        "outputId": "fac056f3-3978-44ee-b719-0b2e4c431992"
      },
      "outputs": [
        {
          "data": {
            "text/plain": [
              "┌───────────┬─────────────┬────────────────────────────────────────────────────┬───────────┐\n",
              "│   FIRST   │    LAST     │                    DESCRIPTION                     │ BASE_COST │\n",
              "│  varchar  │   varchar   │                      varchar                       │  double   │\n",
              "├───────────┼─────────────┼────────────────────────────────────────────────────┼───────────┤\n",
              "│ Aaron697  │ Legros616   │ Influenza  seasonal  injectable  preservative free │    140.52 │\n",
              "│ Aaron697  │ Deckow585   │ Influenza  seasonal  injectable  preservative free │    140.52 │\n",
              "│ Aaron697  │ Thompson596 │ Influenza  seasonal  injectable  preservative free │    140.52 │\n",
              "│ Aaron697  │ Auer97      │ Influenza  seasonal  injectable  preservative free │    140.52 │\n",
              "│ Aaron697  │ Crooks415   │ Influenza  seasonal  injectable  preservative free │    140.52 │\n",
              "│ Aaron697  │ Crooks415   │ Td (adult) preservative free                       │    140.52 │\n",
              "│ Aaron697  │ Volkman526  │ Influenza  seasonal  injectable  preservative free │    140.52 │\n",
              "│ Aaron697  │ Hartmann983 │ Influenza  seasonal  injectable  preservative free │    140.52 │\n",
              "│ Aaron697  │ Orn563      │ NULL                                               │      NULL │\n",
              "│ Aaron697  │ Hartmann983 │ IPV                                                │    140.52 │\n",
              "│    ·      │     ·       │  ·                                                 │       ·   │\n",
              "│    ·      │     ·       │  ·                                                 │       ·   │\n",
              "│    ·      │     ·       │  ·                                                 │       ·   │\n",
              "│ Antonia30 │ Goodwin327  │ HPV  quadrivalent                                  │    140.52 │\n",
              "│ Antonia30 │ Funk324     │ Influenza  seasonal  injectable  preservative free │    140.52 │\n",
              "│ Antonia30 │ West559     │ Influenza  seasonal  injectable  preservative free │    140.52 │\n",
              "│ Antonia30 │ Lowe577     │ NULL                                               │      NULL │\n",
              "│ Antonia30 │ D'Amore443  │ Pneumococcal conjugate PCV 13                      │    140.52 │\n",
              "│ Antonia30 │ Montes106   │ meningococcal MCV4P                                │    140.52 │\n",
              "│ Antonia30 │ González124 │ Influenza  seasonal  injectable  preservative free │    140.52 │\n",
              "│ Antonia30 │ Franecki195 │ zoster                                             │    140.52 │\n",
              "│ Antonia30 │ Rojo930     │ Pneumococcal conjugate PCV 13                      │    140.52 │\n",
              "│ Antonia30 │ Puente961   │ HPV  quadrivalent                                  │    140.52 │\n",
              "├───────────┴─────────────┴────────────────────────────────────────────────────┴───────────┤\n",
              "│ ? rows (>9999 rows, 20 shown)                                                  4 columns │\n",
              "└──────────────────────────────────────────────────────────────────────────────────────────┘"
            ]
          },
          "execution_count": 137,
          "metadata": {},
          "output_type": "execute_result"
        }
      ],
      "source": [
        "conn.sql(\"SELECT patients.FIRST, patients.LAST, immunizations.DESCRIPTION, immunizations.BASE_COST FROM patients FULL OUTER JOIN immunizations ON patients.Id = immunizations.PATIENT ORDER BY patients.FIRST ASC;\")"
      ]
    },
    {
      "cell_type": "markdown",
      "id": "7d9aeeb1-c43e-47d8-85a4-f3e8b111803a",
      "metadata": {
        "id": "7d9aeeb1-c43e-47d8-85a4-f3e8b111803a"
      },
      "source": [
        "### **CROSS JOIN** : This join returns a Cartesian product of the two tables, i.e., it returns rows combining each row from the first table with each row from the second table.\n",
        "\n",
        "## - All Possible Combinations\n",
        "### Question: What are all possible combinations of patients and immunizations? (sometimes it may not make sense; this is just for demonstration purpose)"
      ]
    },
    {
      "cell_type": "code",
      "execution_count": null,
      "id": "199abc51-dd7c-4cea-a527-ba794376c790",
      "metadata": {
        "tags": [],
        "id": "199abc51-dd7c-4cea-a527-ba794376c790",
        "outputId": "efdff436-ba4c-45f6-8ac9-5feb4c0a589d"
      },
      "outputs": [
        {
          "data": {
            "text/plain": [
              "┌───────────┬─────────────┬────────────────────────────────────────────────────┐\n",
              "│   FIRST   │    LAST     │                    DESCRIPTION                     │\n",
              "│  varchar  │   varchar   │                      varchar                       │\n",
              "├───────────┼─────────────┼────────────────────────────────────────────────────┤\n",
              "│ Tammy740  │ Ernser583   │ Influenza  seasonal  injectable  preservative free │\n",
              "│ Tammy740  │ Ernser583   │ Hep A  ped/adol  2 dose                            │\n",
              "│ Tammy740  │ Ernser583   │ Influenza  seasonal  injectable  preservative free │\n",
              "│ Tammy740  │ Ernser583   │ Influenza  seasonal  injectable  preservative free │\n",
              "│ Tammy740  │ Ernser583   │ meningococcal MCV4P                                │\n",
              "│ Tammy740  │ Ernser583   │ Hep B  adolescent or pediatric                     │\n",
              "│ Tammy740  │ Ernser583   │ Hep B  adolescent or pediatric                     │\n",
              "│ Tammy740  │ Ernser583   │ Hib (PRP-OMP)                                      │\n",
              "│ Tammy740  │ Ernser583   │ rotavirus  monovalent                              │\n",
              "│ Tammy740  │ Ernser583   │ IPV                                                │\n",
              "│    ·      │     ·       │  ·                                                 │\n",
              "│    ·      │     ·       │  ·                                                 │\n",
              "│    ·      │     ·       │  ·                                                 │\n",
              "│ Iliana226 │ Schmeler639 │ Influenza  seasonal  injectable  preservative free │\n",
              "│ Iliana226 │ Schmeler639 │ zoster                                             │\n",
              "│ Iliana226 │ Schmeler639 │ Influenza  seasonal  injectable  preservative free │\n",
              "│ Iliana226 │ Schmeler639 │ Influenza  seasonal  injectable  preservative free │\n",
              "│ Iliana226 │ Schmeler639 │ Influenza  seasonal  injectable  preservative free │\n",
              "│ Iliana226 │ Schmeler639 │ Influenza  seasonal  injectable  preservative free │\n",
              "│ Iliana226 │ Schmeler639 │ Influenza  seasonal  injectable  preservative free │\n",
              "│ Iliana226 │ Schmeler639 │ Influenza  seasonal  injectable  preservative free │\n",
              "│ Iliana226 │ Schmeler639 │ Influenza  seasonal  injectable  preservative free │\n",
              "│ Iliana226 │ Schmeler639 │ Influenza  seasonal  injectable  preservative free │\n",
              "├───────────┴─────────────┴────────────────────────────────────────────────────┤\n",
              "│ ? rows (>9999 rows, 20 shown)                                      3 columns │\n",
              "└──────────────────────────────────────────────────────────────────────────────┘"
            ]
          },
          "execution_count": 139,
          "metadata": {},
          "output_type": "execute_result"
        }
      ],
      "source": [
        "conn.sql(\"SELECT patients.FIRST, patients.LAST, immunizations.DESCRIPTION FROM patients CROSS JOIN immunizations;\")"
      ]
    },
    {
      "cell_type": "markdown",
      "id": "b9844c0b-b71b-4bbb-a1da-6deb55323c5a",
      "metadata": {
        "tags": [],
        "id": "b9844c0b-b71b-4bbb-a1da-6deb55323c5a"
      },
      "source": [
        "## **SELF JOIN** - This is not a different type of join, but it's a regular join used to join a table to itself. It's useful for queries where you need to compare rows within the same table.\n",
        "\n",
        "\n",
        "### Patients in the Same City\n",
        "## Question: Which pair of patients are from the same city?"
      ]
    },
    {
      "cell_type": "code",
      "execution_count": null,
      "id": "fa2be0f3-7cd0-4ebd-99b6-319fc555099a",
      "metadata": {
        "tags": [],
        "colab": {
          "referenced_widgets": [
            "0b04e21722724ff8b022a7b45b08b5e0"
          ]
        },
        "id": "fa2be0f3-7cd0-4ebd-99b6-319fc555099a",
        "outputId": "75177855-ef40-4197-b038-7124fe3a0ea7"
      },
      "outputs": [
        {
          "data": {
            "application/vnd.jupyter.widget-view+json": {
              "model_id": "0b04e21722724ff8b022a7b45b08b5e0",
              "version_major": 2,
              "version_minor": 0
            },
            "text/plain": [
              "FloatProgress(value=0.0, layout=Layout(width='auto'), style=ProgressStyle(bar_color='black'))"
            ]
          },
          "metadata": {},
          "output_type": "display_data"
        },
        {
          "data": {
            "text/plain": [
              "┌──────────────┬───────────────┬──────────┐\n",
              "│ FirstPatient │ SecondPatient │   CITY   │\n",
              "│   varchar    │    varchar    │ varchar  │\n",
              "├──────────────┼───────────────┼──────────┤\n",
              "│ Susan422     │ Stefani254    │ Abington │\n",
              "│ Jennell254   │ Lionel365     │ Abington │\n",
              "│ Robbie31     │ Antonio44     │ Abington │\n",
              "│ Joe656       │ Antonio44     │ Abington │\n",
              "│ Susan422     │ Stevie682     │ Abington │\n",
              "│ Shaun461     │ Stevie682     │ Abington │\n",
              "│ Shaun461     │ Weston546     │ Abington │\n",
              "│ Susan422     │ Elwood28      │ Abington │\n",
              "│ Susan422     │ Daria61       │ Abington │\n",
              "│ Shaun461     │ Lita714       │ Abington │\n",
              "│    ·         │    ·          │    ·     │\n",
              "│    ·         │    ·          │    ·     │\n",
              "│    ·         │    ·          │    ·     │\n",
              "│ Elane105     │ Conrad619     │ Abington │\n",
              "│ Logan497     │ Conrad619     │ Abington │\n",
              "│ Sherlene302  │ Conrad619     │ Abington │\n",
              "│ Milan77      │ Conrad619     │ Abington │\n",
              "│ Frankie174   │ Seema671      │ Abington │\n",
              "│ Elane105     │ Josefina523   │ Abington │\n",
              "│ Lisha487     │ Shawanna357   │ Abington │\n",
              "│ Marleen824   │ Marcelino726  │ Abington │\n",
              "│ Sandi885     │ Lionel365     │ Abington │\n",
              "│ Morton637    │ Viva686       │ Abington │\n",
              "├──────────────┴───────────────┴──────────┤\n",
              "│      ? rows (>9999 rows, 20 shown)      │\n",
              "└─────────────────────────────────────────┘"
            ]
          },
          "execution_count": 145,
          "metadata": {},
          "output_type": "execute_result"
        }
      ],
      "source": [
        "conn.sql(\"SELECT A.FIRST AS FirstPatient, B.FIRST AS SecondPatient, A.CITY FROM patients A, patients B WHERE A.CITY = B.CITY AND A.Id != B.Id ORDER BY A.CITY ASC;\")"
      ]
    },
    {
      "cell_type": "markdown",
      "id": "e7e1a025-0b77-4b86-b05d-3ea2f2920ecb",
      "metadata": {
        "id": "e7e1a025-0b77-4b86-b05d-3ea2f2920ecb"
      },
      "source": [
        "## Tip: Such aggregate operations are slower; we will look at functions in the next tutorial;"
      ]
    },
    {
      "cell_type": "markdown",
      "id": "45c308cf-3335-49f9-8d0e-ffc0d015eb44",
      "metadata": {
        "id": "45c308cf-3335-49f9-8d0e-ffc0d015eb44"
      },
      "source": [
        "## ***Some More examples of JOINS***"
      ]
    },
    {
      "cell_type": "markdown",
      "id": "453ee936-a8d0-4e25-a721-fc70c4c0f91a",
      "metadata": {
        "id": "453ee936-a8d0-4e25-a721-fc70c4c0f91a"
      },
      "source": [
        "### ***INNER JOIN*** with Aggregate Function - Total Cost Per Patient\n",
        "### Question: What is the total cost of immunizationd per patient?"
      ]
    },
    {
      "cell_type": "code",
      "execution_count": null,
      "id": "55082df3-ca92-4846-86c0-a0621041918f",
      "metadata": {
        "tags": [],
        "id": "55082df3-ca92-4846-86c0-a0621041918f",
        "outputId": "5e8f7799-f2e4-4740-e2f7-03b11c2583d6"
      },
      "outputs": [
        {
          "data": {
            "text/plain": [
              "┌───────────┬─────────────┬────────────────────┐\n",
              "│   FIRST   │    LAST     │     TotalCost      │\n",
              "│  varchar  │   varchar   │       double       │\n",
              "├───────────┼─────────────┼────────────────────┤\n",
              "│ Aaron697  │ Heaney114   │             140.52 │\n",
              "│ Aaron697  │ Anderson154 │             281.04 │\n",
              "│ Aaron697  │ Parisian75  │             140.52 │\n",
              "│ Aaron697  │ Collins926  │             140.52 │\n",
              "│ Aaron697  │ Dooley940   │             140.52 │\n",
              "│ Aaron697  │ Frami345    │             140.52 │\n",
              "│ Aaron697  │ Beer512     │             140.52 │\n",
              "│ Aaron697  │ Wisoky380   │             281.04 │\n",
              "│ Aaron697  │ Volkman526  │             140.52 │\n",
              "│ Aaron697  │ Roberts511  │             140.52 │\n",
              "│    ·      │     ·       │                ·   │\n",
              "│    ·      │     ·       │                ·   │\n",
              "│    ·      │     ·       │                ·   │\n",
              "│ Blythe746 │ Walter473   │             140.52 │\n",
              "│ Blythe746 │ Hand679     │             281.04 │\n",
              "│ Blythe746 │ Murray856   │             140.52 │\n",
              "│ Blythe746 │ Cummings51  │             140.52 │\n",
              "│ Blythe746 │ Klocko335   │ 421.56000000000006 │\n",
              "│ Bo157     │ Veum823     │             281.04 │\n",
              "│ Bo157     │ Botsford977 │             140.52 │\n",
              "│ Bo157     │ Toy286      │             140.52 │\n",
              "│ Bo157     │ Berge125    │             281.04 │\n",
              "│ Bo157     │ Dare640     │             281.04 │\n",
              "├───────────┴─────────────┴────────────────────┤\n",
              "│ ? rows (>9999 rows, 20 shown)      3 columns │\n",
              "└──────────────────────────────────────────────┘"
            ]
          },
          "execution_count": 147,
          "metadata": {},
          "output_type": "execute_result"
        }
      ],
      "source": [
        "conn.sql(\"SELECT patients.FIRST, patients.LAST, SUM(immunizations.BASE_COST) AS TotalCost FROM immunizations INNER JOIN patients ON immunizations.PATIENT = patients.Id GROUP BY patients.FIRST, patients.LAST ORDER BY patients.FIRST ASC;\")"
      ]
    },
    {
      "cell_type": "markdown",
      "id": "348cc755-4bb2-43ee-b6f9-981555fcfcea",
      "metadata": {
        "id": "348cc755-4bb2-43ee-b6f9-981555fcfcea"
      },
      "source": [
        "### ***RIGHT JOIN*** with Multiple Conditions - Treatments in a Specific Year\n",
        "### Question: In the year 2020, what treatments were administered, and to which patients?\n"
      ]
    },
    {
      "cell_type": "code",
      "execution_count": null,
      "id": "34963016-68d0-4027-9342-4e25d01f8abf",
      "metadata": {
        "tags": [],
        "id": "34963016-68d0-4027-9342-4e25d01f8abf",
        "outputId": "74902fd4-90c7-4901-a20b-969439a62753"
      },
      "outputs": [
        {
          "data": {
            "text/plain": [
              "┌──────────────┬─────────────┬────────────────────────────────────────────────────┬────────────┐\n",
              "│    FIRST     │    LAST     │                    DESCRIPTION                     │    DATE    │\n",
              "│   varchar    │   varchar   │                      varchar                       │  varchar   │\n",
              "├──────────────┼─────────────┼────────────────────────────────────────────────────┼────────────┤\n",
              "│ Jeramy610    │ Wehner319   │ Pneumococcal conjugate PCV 13                      │ 2020-01-01 │\n",
              "│ Britt177     │ Hermann103  │ Hib (PRP-OMP)                                      │ 2020-01-01 │\n",
              "│ Jeramy610    │ Wehner319   │ IPV                                                │ 2020-01-01 │\n",
              "│ Anthony633   │ Lindgren255 │ Influenza  seasonal  injectable  preservative free │ 2020-01-01 │\n",
              "│ Refugio197   │ Leuschke194 │ MMR                                                │ 2020-01-01 │\n",
              "│ Refugio197   │ Leuschke194 │ DTaP                                               │ 2020-01-01 │\n",
              "│ Refugio197   │ Leuschke194 │ Influenza  seasonal  injectable  preservative free │ 2020-01-01 │\n",
              "│ Britt177     │ Hermann103  │ rotavirus  monovalent                              │ 2020-01-01 │\n",
              "│ Britt177     │ Hermann103  │ IPV                                                │ 2020-01-01 │\n",
              "│ Britt177     │ Hermann103  │ DTaP                                               │ 2020-01-01 │\n",
              "│   ·          │    ·        │  ·                                                 │     ·      │\n",
              "│   ·          │    ·        │  ·                                                 │     ·      │\n",
              "│   ·          │    ·        │  ·                                                 │     ·      │\n",
              "│ Chad48       │ Hayes766    │ Td (adult) preservative free                       │ 2020-01-26 │\n",
              "│ Colin861     │ Marvin195   │ HPV  quadrivalent                                  │ 2020-01-26 │\n",
              "│ Idalia306    │ Robel940    │ Influenza  seasonal  injectable  preservative free │ 2020-01-26 │\n",
              "│ Roosevelt595 │ Welch179    │ Influenza  seasonal  injectable  preservative free │ 2020-01-26 │\n",
              "│ Cherryl901   │ Mohr916     │ Influenza  seasonal  injectable  preservative free │ 2020-01-26 │\n",
              "│ Harold594    │ Frami345    │ Influenza  seasonal  injectable  preservative free │ 2020-01-26 │\n",
              "│ Claude750    │ Russel238   │ Pneumococcal conjugate PCV 13                      │ 2020-01-26 │\n",
              "│ Theron432    │ Schuppe920  │ Influenza  seasonal  injectable  preservative free │ 2020-01-26 │\n",
              "│ Frederick289 │ Price929    │ Influenza  seasonal  injectable  preservative free │ 2020-01-26 │\n",
              "│ Rudy520      │ Hoeger474   │ IPV                                                │ 2020-01-26 │\n",
              "├──────────────┴─────────────┴────────────────────────────────────────────────────┴────────────┤\n",
              "│ ? rows (>9999 rows, 20 shown)                                                      4 columns │\n",
              "└──────────────────────────────────────────────────────────────────────────────────────────────┘"
            ]
          },
          "execution_count": 149,
          "metadata": {},
          "output_type": "execute_result"
        }
      ],
      "source": [
        "conn.sql(\"SELECT patients.FIRST, patients.LAST, immunizations.DESCRIPTION, immunizations.DATE FROM patients RIGHT JOIN immunizations ON patients.Id = immunizations.PATIENT WHERE immunizations.DATE BETWEEN '2020-01-01' AND '2020-12-31' ORDER BY immunizations.DATE ASC;\")"
      ]
    },
    {
      "cell_type": "markdown",
      "id": "c07cb545-c741-4525-a429-92a9a4e9db40",
      "metadata": {
        "id": "c07cb545-c741-4525-a429-92a9a4e9db40"
      },
      "source": [
        "### ***FULL OUTER JOIN*** with Sorting - Highest Cost Treatments\n",
        "### Question: List all patients and their treatments, ordered by the cost of treatments from highest to lowest."
      ]
    },
    {
      "cell_type": "code",
      "execution_count": null,
      "id": "21a37bb1-29ad-44c0-b252-1c8e0aa59bb5",
      "metadata": {
        "id": "21a37bb1-29ad-44c0-b252-1c8e0aa59bb5",
        "outputId": "02b13461-3391-4e9a-ec60-028edc524238"
      },
      "outputs": [
        {
          "data": {
            "text/plain": [
              "┌────────────┬─────────────────┬────────────────────────────────────────────────────┬───────────┐\n",
              "│   FIRST    │      LAST       │                    DESCRIPTION                     │ BASE_COST │\n",
              "│  varchar   │     varchar     │                      varchar                       │  double   │\n",
              "├────────────┼─────────────────┼────────────────────────────────────────────────────┼───────────┤\n",
              "│ Tammy740   │ Ernser583       │ pneumococcal polysaccharide vaccine  23 valent     │    140.52 │\n",
              "│ Dallas143  │ Klocko335       │ Influenza  seasonal  injectable  preservative free │    140.52 │\n",
              "│ Toshiko149 │ Swaniawski813   │ Influenza  seasonal  injectable  preservative free │    140.52 │\n",
              "│ Anthony633 │ Yundt842        │ Influenza  seasonal  injectable  preservative free │    140.52 │\n",
              "│ Ross213    │ Mayert710       │ DTaP                                               │    140.52 │\n",
              "│ Roscoe437  │ Pfannerstill264 │ Influenza  seasonal  injectable  preservative free │    140.52 │\n",
              "│ Sina65     │ Howell947       │ Influenza  seasonal  injectable  preservative free │    140.52 │\n",
              "│ Maria750   │ Schimmel440     │ Influenza  seasonal  injectable  preservative free │    140.52 │\n",
              "│ Rana586    │ Langworth352    │ Influenza  seasonal  injectable  preservative free │    140.52 │\n",
              "│ Ignacio928 │ Gorczany269     │ Influenza  seasonal  injectable  preservative free │    140.52 │\n",
              "│     ·      │     ·           │                         ·                          │       ·   │\n",
              "│     ·      │     ·           │                         ·                          │       ·   │\n",
              "│     ·      │     ·           │                         ·                          │       ·   │\n",
              "│ Isabell86  │ Treutel973      │ Influenza  seasonal  injectable  preservative free │    140.52 │\n",
              "│ Dante562   │ Walsh511        │ Influenza  seasonal  injectable  preservative free │    140.52 │\n",
              "│ Cory323    │ Harber290       │ Influenza  seasonal  injectable  preservative free │    140.52 │\n",
              "│ Kathe603   │ Herzog843       │ Influenza  seasonal  injectable  preservative free │    140.52 │\n",
              "│ Earl438    │ Beatty507       │ Influenza  seasonal  injectable  preservative free │    140.52 │\n",
              "│ Graig740   │ Batz141         │ Influenza  seasonal  injectable  preservative free │    140.52 │\n",
              "│ Jordan900  │ Kozey370        │ Hep A  adult                                       │    140.52 │\n",
              "│ Sharita792 │ Hermiston71     │ Influenza  seasonal  injectable  preservative free │    140.52 │\n",
              "│ Brent147   │ Wisozk929       │ Pneumococcal conjugate PCV 13                      │    140.52 │\n",
              "│ Lori426    │ Doyle959        │ Influenza  seasonal  injectable  preservative free │    140.52 │\n",
              "├────────────┴─────────────────┴────────────────────────────────────────────────────┴───────────┤\n",
              "│ ? rows (>9999 rows, 20 shown)                                                       4 columns │\n",
              "└───────────────────────────────────────────────────────────────────────────────────────────────┘"
            ]
          },
          "execution_count": 150,
          "metadata": {},
          "output_type": "execute_result"
        }
      ],
      "source": [
        "conn.sql(\"SELECT patients.FIRST, patients.LAST, immunizations.DESCRIPTION, immunizations.BASE_COST FROM patients FULL OUTER JOIN immunizations ON patients.Id = immunizations.PATIENT ORDER BY immunizations.BASE_COST DESC;\")"
      ]
    },
    {
      "cell_type": "markdown",
      "source": [
        "## **Example Involving 3 Tables: Patients, Immunizations, Lab Results.**"
      ],
      "metadata": {
        "id": "ubVDkAtvbYk3"
      },
      "id": "ubVDkAtvbYk3"
    },
    {
      "cell_type": "markdown",
      "id": "273358b9-b3f0-4479-8b9e-80a216291468",
      "metadata": {
        "id": "273358b9-b3f0-4479-8b9e-80a216291468"
      },
      "source": [
        "## For patients who have received an influenza vaccine, what are their lab results for cholesterol tests?"
      ]
    },
    {
      "cell_type": "code",
      "execution_count": null,
      "id": "93951cb4-bee3-4743-bbe6-f75324caa9d4",
      "metadata": {
        "tags": [],
        "id": "93951cb4-bee3-4743-bbe6-f75324caa9d4",
        "outputId": "ad4589da-a6f7-49c3-8d63-03e1c5dad4e4"
      },
      "outputs": [
        {
          "data": {
            "text/plain": [
              "┌───────────────┬─────────────┬────────────────────────┬──────────────────────────────────────┬───────────┬────────────┐\n",
              "│     FIRST     │    LAST     │   VaccineDescription   │               LabTest                │ LabResult │  TestDate  │\n",
              "│    varchar    │   varchar   │        varchar         │               varchar                │  varchar  │  varchar   │\n",
              "├───────────────┼─────────────┼────────────────────────┼──────────────────────────────────────┼───────────┼────────────┤\n",
              "│ Aldo414       │ Abbott774   │ Influenza  seasonal …  │ High Density Lipoprotein Cholesterol │ 62.2      │ 2018-02-18 │\n",
              "│ Aldo414       │ Abbott774   │ Influenza  seasonal …  │ Low Density Lipoprotein Cholesterol  │ 108.0     │ 2018-02-18 │\n",
              "│ Aldo414       │ Abbott774   │ Influenza  seasonal …  │ Total Cholesterol                    │ 198.3     │ 2018-02-18 │\n",
              "│ Alexandria361 │ Abbott774   │ Influenza  seasonal …  │ Low Density Lipoprotein Cholesterol  │ 64.7      │ 2020-01-03 │\n",
              "│ Alexandria361 │ Abbott774   │ Influenza  seasonal …  │ High Density Lipoprotein Cholesterol │ 79.3      │ 2020-01-03 │\n",
              "│ Alexandria361 │ Abbott774   │ Influenza  seasonal …  │ Total Cholesterol                    │ 164.0     │ 2020-01-03 │\n",
              "│ Alfredo17     │ Abbott774   │ Influenza  seasonal …  │ Total Cholesterol                    │ 184.4     │ 2019-09-08 │\n",
              "│ Alfredo17     │ Abbott774   │ Influenza  seasonal …  │ High Density Lipoprotein Cholesterol │ 73.8      │ 2019-09-08 │\n",
              "│ Alfredo17     │ Abbott774   │ Influenza  seasonal …  │ Low Density Lipoprotein Cholesterol  │ 84.1      │ 2019-09-08 │\n",
              "│ Alvaro283     │ Abbott774   │ Influenza  seasonal …  │ High Density Lipoprotein Cholesterol │ 59.6      │ 2014-05-27 │\n",
              "│     ·         │     ·       │           ·            │         ·                            │  ·        │     ·      │\n",
              "│     ·         │     ·       │           ·            │         ·                            │  ·        │     ·      │\n",
              "│     ·         │     ·       │           ·            │         ·                            │  ·        │     ·      │\n",
              "│ Novella551    │ Baumbach677 │ Influenza  seasonal …  │ Total Cholesterol                    │ 199.0     │ 2019-06-07 │\n",
              "│ Novella551    │ Baumbach677 │ Influenza  seasonal …  │ Total Cholesterol                    │ 199.0     │ 2019-06-07 │\n",
              "│ Novella551    │ Baumbach677 │ Influenza  seasonal …  │ High Density Lipoprotein Cholesterol │ 55.8      │ 2019-06-07 │\n",
              "│ Novella551    │ Baumbach677 │ Influenza  seasonal …  │ Low Density Lipoprotein Cholesterol  │ 123.7     │ 2019-06-07 │\n",
              "│ Novella551    │ Baumbach677 │ Influenza  seasonal …  │ Low Density Lipoprotein Cholesterol  │ 123.7     │ 2019-06-07 │\n",
              "│ Novella551    │ Baumbach677 │ Influenza  seasonal …  │ High Density Lipoprotein Cholesterol │ 55.8      │ 2019-06-07 │\n",
              "│ Novella551    │ Baumbach677 │ Influenza  seasonal …  │ High Density Lipoprotein Cholesterol │ 68.6      │ 2019-10-08 │\n",
              "│ Novella551    │ Baumbach677 │ Influenza  seasonal …  │ Low Density Lipoprotein Cholesterol  │ 82.6      │ 2019-10-08 │\n",
              "│ Novella551    │ Baumbach677 │ Influenza  seasonal …  │ Low Density Lipoprotein Cholesterol  │ 82.6      │ 2019-10-08 │\n",
              "│ Novella551    │ Baumbach677 │ Influenza  seasonal …  │ High Density Lipoprotein Cholesterol │ 68.6      │ 2019-10-08 │\n",
              "├───────────────┴─────────────┴────────────────────────┴──────────────────────────────────────┴───────────┴────────────┤\n",
              "│ ? rows (>9999 rows, 20 shown)                                                                              6 columns │\n",
              "└──────────────────────────────────────────────────────────────────────────────────────────────────────────────────────┘"
            ]
          },
          "execution_count": 151,
          "metadata": {},
          "output_type": "execute_result"
        }
      ],
      "source": [
        "conn.sql(\"\"\"SELECT\n",
        "    p.FIRST, p.LAST,\n",
        "    mr.DESCRIPTION AS VaccineDescription,\n",
        "    lr.DESCRIPTION AS LabTest, lr.VALUE AS LabResult, lr.DATE AS TestDate\n",
        "FROM\n",
        "    patients p\n",
        "JOIN\n",
        "    immunizations mr ON p.Id = mr.PATIENT\n",
        "JOIN\n",
        "    observations lr ON p.Id = lr.PATIENT\n",
        "WHERE\n",
        "    mr.DESCRIPTION LIKE '%Influenza%' AND lr.DESCRIPTION LIKE '%Cholesterol%'\n",
        "ORDER BY\n",
        "    p.LAST, p.FIRST, lr.DATE;\n",
        "\"\"\"\n",
        "        )"
      ]
    },
    {
      "cell_type": "markdown",
      "id": "72f7ed0b-b6c4-40e0-aac5-cd026bc28a87",
      "metadata": {
        "id": "72f7ed0b-b6c4-40e0-aac5-cd026bc28a87"
      },
      "source": [
        "# Thank you!"
      ]
    }
  ],
  "metadata": {
    "kernelspec": {
      "display_name": "Python 3 (ipykernel)",
      "language": "python",
      "name": "python3"
    },
    "language_info": {
      "codemirror_mode": {
        "name": "ipython",
        "version": 3
      },
      "file_extension": ".py",
      "mimetype": "text/x-python",
      "name": "python",
      "nbconvert_exporter": "python",
      "pygments_lexer": "ipython3",
      "version": "3.11.5"
    },
    "colab": {
      "provenance": []
    }
  },
  "nbformat": 4,
  "nbformat_minor": 5
}
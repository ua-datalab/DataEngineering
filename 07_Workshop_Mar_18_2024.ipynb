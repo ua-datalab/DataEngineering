{
  "cells": [
    {
      "cell_type": "markdown",
      "metadata": {
        "id": "view-in-github",
        "colab_type": "text"
      },
      "source": [
        "<a href=\"https://colab.research.google.com/github/ua-datalab/DataEngineering/blob/main/07_Workshop_Mar_17_2024.ipynb\" target=\"_parent\"><img src=\"https://colab.research.google.com/assets/colab-badge.svg\" alt=\"Open In Colab\"/></a>"
      ]
    },
    {
      "cell_type": "code",
      "execution_count": 1,
      "id": "8098628d-cfbc-490b-bd1e-192496d802bf",
      "metadata": {
        "colab": {
          "base_uri": "https://localhost:8080/"
        },
        "id": "8098628d-cfbc-490b-bd1e-192496d802bf",
        "outputId": "755cfb21-73fa-4f06-f390-be6fea861987"
      },
      "outputs": [
        {
          "output_type": "stream",
          "name": "stdout",
          "text": [
            "Collecting PyHive\n",
            "  Downloading PyHive-0.7.0.tar.gz (46 kB)\n",
            "\u001b[2K     \u001b[90m━━━━━━━━━━━━━━━━━━━━━━━━━━━━━━━━━━━━━━━━\u001b[0m \u001b[32m46.5/46.5 kB\u001b[0m \u001b[31m1.6 MB/s\u001b[0m eta \u001b[36m0:00:00\u001b[0m\n",
            "\u001b[?25h  Preparing metadata (setup.py) ... \u001b[?25l\u001b[?25hdone\n",
            "Collecting findspark\n",
            "  Downloading findspark-2.0.1-py2.py3-none-any.whl (4.4 kB)\n",
            "Collecting thrift\n",
            "  Downloading thrift-0.16.0.tar.gz (59 kB)\n",
            "\u001b[2K     \u001b[90m━━━━━━━━━━━━━━━━━━━━━━━━━━━━━━━━━━━━━━━━\u001b[0m \u001b[32m59.6/59.6 kB\u001b[0m \u001b[31m5.0 MB/s\u001b[0m eta \u001b[36m0:00:00\u001b[0m\n",
            "\u001b[?25h  Preparing metadata (setup.py) ... \u001b[?25l\u001b[?25hdone\n",
            "Collecting thrift-sasl\n",
            "  Downloading thrift_sasl-0.4.3-py2.py3-none-any.whl (8.3 kB)\n",
            "Requirement already satisfied: future in /usr/local/lib/python3.10/dist-packages (from PyHive) (0.18.3)\n",
            "Requirement already satisfied: python-dateutil in /usr/local/lib/python3.10/dist-packages (from PyHive) (2.8.2)\n",
            "Requirement already satisfied: six>=1.7.2 in /usr/local/lib/python3.10/dist-packages (from thrift) (1.16.0)\n",
            "Collecting pure-sasl>=0.6.2 (from thrift-sasl)\n",
            "  Downloading pure-sasl-0.6.2.tar.gz (11 kB)\n",
            "  Preparing metadata (setup.py) ... \u001b[?25l\u001b[?25hdone\n",
            "Building wheels for collected packages: PyHive, thrift, pure-sasl\n",
            "  Building wheel for PyHive (setup.py) ... \u001b[?25l\u001b[?25hdone\n",
            "  Created wheel for PyHive: filename=PyHive-0.7.0-py3-none-any.whl size=53872 sha256=53932ced59f87522fa7ba1c2a3bef7d4a1833e72c71ed64453b096c9fc39b267\n",
            "  Stored in directory: /root/.cache/pip/wheels/d3/fc/31/6974270c69ccc5bf8f848e2e41b527d0e8f5b9b973696a29a9\n",
            "  Building wheel for thrift (setup.py) ... \u001b[?25l\u001b[?25hdone\n",
            "  Created wheel for thrift: filename=thrift-0.16.0-cp310-cp310-linux_x86_64.whl size=373870 sha256=e25e1cae4e2a730bb132240d25ae5c64f2d100d1e52c04cfd1d659392ddc4829\n",
            "  Stored in directory: /root/.cache/pip/wheels/52/f8/d2/acfd995e8247eb0cad372fa6a640a5fcf279ab2ed7c5c4490e\n",
            "  Building wheel for pure-sasl (setup.py) ... \u001b[?25l\u001b[?25hdone\n",
            "  Created wheel for pure-sasl: filename=pure_sasl-0.6.2-py3-none-any.whl size=11422 sha256=b33ac24ecb3a655452cc75fcb4160eed289806dffd15c5f6f3e90330982a1cb9\n",
            "  Stored in directory: /root/.cache/pip/wheels/57/7c/93/062238b0a68efe214024ca178233f248971045db1033c96a52\n",
            "Successfully built PyHive thrift pure-sasl\n",
            "Installing collected packages: pure-sasl, findspark, thrift, thrift-sasl, PyHive\n",
            "Successfully installed PyHive-0.7.0 findspark-2.0.1 pure-sasl-0.6.2 thrift-0.16.0 thrift-sasl-0.4.3\n"
          ]
        }
      ],
      "source": [
        "!pip install PyHive findspark thrift thrift-sasl"
      ]
    },
    {
      "cell_type": "code",
      "execution_count": 2,
      "id": "52a85cd8-a5b9-4c5c-ac20-7e003e2d6d9c",
      "metadata": {
        "tags": [],
        "id": "52a85cd8-a5b9-4c5c-ac20-7e003e2d6d9c"
      },
      "outputs": [],
      "source": [
        "from pyhive import hive\n",
        "import pandas as pd"
      ]
    },
    {
      "cell_type": "code",
      "execution_count": 3,
      "id": "8c5a9ea3-ba4d-4f55-beed-bf7f5e880bd3",
      "metadata": {
        "tags": [],
        "id": "8c5a9ea3-ba4d-4f55-beed-bf7f5e880bd3"
      },
      "outputs": [],
      "source": [
        "conn = hive.Connection(host='35.209.55.43', port=10000)    # main node which runs hadoop which will connect\n",
        "# conn = hive.Connection(host='35.209.163.173', port=10000) #- worker node 1 - this will not connect\n",
        "# conn = hive.Connection(host='35.202.166.81', port=10000) #- worker node 2 - this will not connect"
      ]
    },
    {
      "cell_type": "code",
      "execution_count": 4,
      "id": "7735b535-aaeb-4098-accb-2ddf865ce5a1",
      "metadata": {
        "tags": [],
        "id": "7735b535-aaeb-4098-accb-2ddf865ce5a1"
      },
      "outputs": [],
      "source": [
        "cursor = conn.cursor()"
      ]
    },
    {
      "cell_type": "code",
      "execution_count": 5,
      "id": "da0a7e04-538c-4d36-b836-b6680e40867d",
      "metadata": {
        "tags": [],
        "colab": {
          "base_uri": "https://localhost:8080/"
        },
        "id": "da0a7e04-538c-4d36-b836-b6680e40867d",
        "outputId": "6e570fcc-8040-4bd6-b501-7744f18bac87"
      },
      "outputs": [
        {
          "output_type": "stream",
          "name": "stdout",
          "text": [
            "Connected successfully. Available databases:\n",
            "default\n",
            "health_data\n"
          ]
        }
      ],
      "source": [
        "# Execute a simple query to test the connection\n",
        "try:\n",
        "    cursor.execute(\"SHOW DATABASES\")\n",
        "\n",
        "    # Fetch the results\n",
        "    databases = cursor.fetchall()\n",
        "\n",
        "    # Print the results to confirm the connection\n",
        "    print(\"Connected successfully. Available databases:\")\n",
        "    for db in databases:\n",
        "        print(db[0])\n",
        "\n",
        "except Exception as e:\n",
        "    print(f\"Failed to connect to Hive: {e}\")"
      ]
    },
    {
      "cell_type": "code",
      "execution_count": 6,
      "id": "7e0efca9-25cd-48a6-bd20-042b01611626",
      "metadata": {
        "tags": [],
        "id": "7e0efca9-25cd-48a6-bd20-042b01611626"
      },
      "outputs": [],
      "source": [
        "cursor = conn.cursor()\n",
        "\n",
        "cursor.execute(\"USE health_data\")"
      ]
    },
    {
      "cell_type": "code",
      "execution_count": 7,
      "id": "5e9523fb-ecc0-4262-8192-aa6f788014ba",
      "metadata": {
        "tags": [],
        "colab": {
          "base_uri": "https://localhost:8080/"
        },
        "id": "5e9523fb-ecc0-4262-8192-aa6f788014ba",
        "outputId": "491defbb-9964-4022-d70b-e6116f9664ed"
      },
      "outputs": [
        {
          "output_type": "stream",
          "name": "stdout",
          "text": [
            "Tables in the 'health_data' database:\n",
            "medications\n",
            "observations\n",
            "patients\n"
          ]
        }
      ],
      "source": [
        "# Show tables in the health_data database\n",
        "cursor.execute(\"SHOW TABLES\")\n",
        "tables = cursor.fetchall()\n",
        "\n",
        "if tables:\n",
        "    print(\"Tables in the 'health_data' database:\")\n",
        "    for table in tables:\n",
        "        print(table[0])\n",
        "else:\n",
        "    print(\"No tables found in the 'health_data' database.\")"
      ]
    },
    {
      "cell_type": "code",
      "execution_count": 8,
      "id": "723695e1-0e5d-45f6-b204-37f6b5d6485b",
      "metadata": {
        "tags": [],
        "colab": {
          "base_uri": "https://localhost:8080/"
        },
        "id": "723695e1-0e5d-45f6-b204-37f6b5d6485b",
        "outputId": "7f4326bf-cd98-45cd-dd91-14e4b000cf34"
      },
      "outputs": [
        {
          "output_type": "execute_result",
          "data": {
            "text/plain": [
              "[('id', 'string', ''),\n",
              " ('birthdate', 'string', ''),\n",
              " ('deathdate', 'string', ''),\n",
              " ('ssn', 'string', ''),\n",
              " ('drivers', 'string', ''),\n",
              " ('passport', 'string', ''),\n",
              " ('prefix', 'string', ''),\n",
              " ('first', 'string', ''),\n",
              " ('last', 'string', ''),\n",
              " ('suffix', 'string', ''),\n",
              " ('maiden', 'string', ''),\n",
              " ('marital', 'string', ''),\n",
              " ('race', 'string', ''),\n",
              " ('ethnicity', 'string', ''),\n",
              " ('gender', 'string', ''),\n",
              " ('birthplace', 'string', ''),\n",
              " ('address', 'string', ''),\n",
              " ('city', 'string', ''),\n",
              " ('state', 'string', ''),\n",
              " ('county', 'string', ''),\n",
              " ('zip', 'string', ''),\n",
              " ('lat', 'double', ''),\n",
              " ('lon', 'double', ''),\n",
              " ('healthcare_expenses', 'double', ''),\n",
              " ('healthcare_coverage', 'double', '')]"
            ]
          },
          "metadata": {},
          "execution_count": 8
        }
      ],
      "source": [
        "cursor.execute(\"DESCRIBE patients\")\n",
        "res = cursor.fetchall()\n",
        "res"
      ]
    },
    {
      "cell_type": "code",
      "execution_count": 9,
      "id": "caadda15-48d8-442b-91b4-182a7552e45b",
      "metadata": {
        "tags": [],
        "colab": {
          "base_uri": "https://localhost:8080/"
        },
        "id": "caadda15-48d8-442b-91b4-182a7552e45b",
        "outputId": "0b24f6fe-4be9-4190-d965-a12a9c6a79a8"
      },
      "outputs": [
        {
          "output_type": "execute_result",
          "data": {
            "text/plain": [
              "[('start', 'string', ''),\n",
              " ('stop', 'string', ''),\n",
              " ('patient', 'string', ''),\n",
              " ('payer', 'string', ''),\n",
              " ('encounter', 'string', ''),\n",
              " ('code', 'string', ''),\n",
              " ('description', 'string', ''),\n",
              " ('base_cost', 'double', ''),\n",
              " ('payer_coverage', 'double', ''),\n",
              " ('dispenses', 'int', ''),\n",
              " ('totalcost', 'double', ''),\n",
              " ('reasoncode', 'string', ''),\n",
              " ('reasondescription', 'string', '')]"
            ]
          },
          "metadata": {},
          "execution_count": 9
        }
      ],
      "source": [
        "cursor.execute(\"DESCRIBE medications\")\n",
        "res = cursor.fetchall()\n",
        "res"
      ]
    },
    {
      "cell_type": "code",
      "execution_count": 10,
      "id": "ab89963b-2df1-4362-8258-56244aeb2a3d",
      "metadata": {
        "tags": [],
        "colab": {
          "base_uri": "https://localhost:8080/"
        },
        "id": "ab89963b-2df1-4362-8258-56244aeb2a3d",
        "outputId": "84dc0486-92f9-4d49-bd94-dc5cc4be37fd"
      },
      "outputs": [
        {
          "output_type": "execute_result",
          "data": {
            "text/plain": [
              "[('date', 'string', ''),\n",
              " ('patient', 'string', ''),\n",
              " ('encounter', 'string', ''),\n",
              " ('code', 'string', ''),\n",
              " ('description', 'string', ''),\n",
              " ('value', 'string', ''),\n",
              " ('units', 'string', ''),\n",
              " ('type', 'string', '')]"
            ]
          },
          "metadata": {},
          "execution_count": 10
        }
      ],
      "source": [
        "cursor.execute(\"DESCRIBE observations\")\n",
        "res = cursor.fetchall()\n",
        "res"
      ]
    },
    {
      "cell_type": "code",
      "execution_count": 11,
      "id": "fe0d411a-fb02-4827-bea0-ab52ec820861",
      "metadata": {
        "tags": [],
        "colab": {
          "base_uri": "https://localhost:8080/"
        },
        "id": "fe0d411a-fb02-4827-bea0-ab52ec820861",
        "outputId": "c36bcd72-bd8b-480a-977e-bd49d8e16591"
      },
      "outputs": [
        {
          "output_type": "execute_result",
          "data": {
            "text/plain": [
              "[('FIRST', 'LAST', 'GENDER', 'CITY'),\n",
              " ('Jacinto644', 'Kris249', 'M', 'Springfield'),\n",
              " ('Alva958', 'Krajcik437', 'F', 'Walpole'),\n",
              " ('Jimmie93', 'Harris789', 'F', 'Pembroke'),\n",
              " ('Gregorio366', 'Auer97', 'M', 'Boston'),\n",
              " ('Karyn217', 'Mueller846', 'F', 'Colrain'),\n",
              " ('Jayson808', 'Fadel536', 'M', 'Chicopee'),\n",
              " ('José Eduardo181', 'Gómez206', 'M', 'Chicopee'),\n",
              " ('Milo271', 'Feil794', 'M', 'Somerville'),\n",
              " ('Karyn217', 'Metz686', 'F', 'Medfield'),\n",
              " ('Jeffrey461', 'Greenfelder433', 'M', 'Springfield'),\n",
              " ('Mariana775', 'Gulgowski816', 'F', 'Lowell'),\n",
              " ('Leann224', 'Deckow585', 'F', 'Needham'),\n",
              " ('Isabel214', 'Hinojosa147', 'F', 'Fall River'),\n",
              " ('Christal240', 'Brown30', 'F', 'Boston'),\n",
              " ('Carmelia328', 'Konopelski743', 'F', 'Ashland'),\n",
              " ('Raye931', 'Wyman904', 'F', 'Quincy'),\n",
              " ('Lisbeth69', 'Rowe323', 'F', 'Malden'),\n",
              " ('Amada498', 'Spinka232', 'F', 'Foxborough'),\n",
              " ('Cythia210', 'Reichel38', 'F', 'Peabody')]"
            ]
          },
          "metadata": {},
          "execution_count": 11
        }
      ],
      "source": [
        "cursor.execute(\"SELECT FIRST, LAST, GENDER, CITY FROM patients LIMIT 20\")\n",
        "res = cursor.fetchall()\n",
        "res"
      ]
    },
    {
      "cell_type": "code",
      "source": [
        "## lets look at what happens at the backend"
      ],
      "metadata": {
        "id": "fbtqggPBBGZP"
      },
      "id": "fbtqggPBBGZP",
      "execution_count": 12,
      "outputs": []
    },
    {
      "cell_type": "code",
      "execution_count": null,
      "id": "857de32d-fc99-4489-ae4d-5b012c648855",
      "metadata": {
        "tags": [],
        "id": "857de32d-fc99-4489-ae4d-5b012c648855",
        "outputId": "85431fdd-dfeb-4ee7-8ad8-c67974c624c2"
      },
      "outputs": [
        {
          "data": {
            "text/plain": [
              "[(124151,)]"
            ]
          },
          "execution_count": 15,
          "metadata": {},
          "output_type": "execute_result"
        }
      ],
      "source": [
        "cursor.execute(\"SELECT COUNT(*) FROM patients\")\n",
        "res = cursor.fetchall()\n",
        "res"
      ]
    },
    {
      "cell_type": "code",
      "execution_count": null,
      "id": "e7a85318-53ca-4b87-90e6-9c90d3215013",
      "metadata": {
        "tags": [],
        "id": "e7a85318-53ca-4b87-90e6-9c90d3215013",
        "outputId": "a360fef7-a85f-4ee2-b9ec-a6eb9c3921cb"
      },
      "outputs": [
        {
          "data": {
            "text/plain": [
              "[(4227724,)]"
            ]
          },
          "execution_count": 16,
          "metadata": {},
          "output_type": "execute_result"
        }
      ],
      "source": [
        "cursor.execute(\"SELECT COUNT(*) FROM medications\")\n",
        "res = cursor.fetchall()\n",
        "res"
      ]
    },
    {
      "cell_type": "code",
      "execution_count": null,
      "id": "02e1a938-4aad-4fd7-8d14-6fc7dfb20bf3",
      "metadata": {
        "tags": [],
        "id": "02e1a938-4aad-4fd7-8d14-6fc7dfb20bf3",
        "outputId": "e2590530-2574-4bb8-cff3-4f7b19607b60"
      },
      "outputs": [
        {
          "data": {
            "text/plain": [
              "[(16219970,)]"
            ]
          },
          "execution_count": 17,
          "metadata": {},
          "output_type": "execute_result"
        }
      ],
      "source": [
        "cursor.execute(\"SELECT COUNT(*) FROM observations\")\n",
        "res = cursor.fetchall()\n",
        "res"
      ]
    },
    {
      "cell_type": "markdown",
      "id": "41683062-a1d3-4814-adf2-dbbcdcdd3389",
      "metadata": {
        "id": "41683062-a1d3-4814-adf2-dbbcdcdd3389"
      },
      "source": [
        "## COUNT and DISTINCT\n",
        "### If you want to count distinct values of a specific column, for example, distinct cities, you can modify the query as follows:"
      ]
    },
    {
      "cell_type": "code",
      "execution_count": 13,
      "id": "e530845f-b02c-4d8f-9ce2-a53a35fef6e5",
      "metadata": {
        "tags": [],
        "colab": {
          "base_uri": "https://localhost:8080/"
        },
        "id": "e530845f-b02c-4d8f-9ce2-a53a35fef6e5",
        "outputId": "e6279e1c-d829-4005-f755-eb89afb17f2a"
      },
      "outputs": [
        {
          "output_type": "execute_result",
          "data": {
            "text/plain": [
              "[(352,)]"
            ]
          },
          "metadata": {},
          "execution_count": 13
        }
      ],
      "source": [
        "cursor.execute(\"SELECT COUNT(DISTINCT CITY) FROM patients\")\n",
        "res = cursor.fetchall()\n",
        "res"
      ]
    },
    {
      "cell_type": "markdown",
      "id": "6aefc2b4-d4b4-4b72-bf8f-5b6131692e0a",
      "metadata": {
        "id": "6aefc2b4-d4b4-4b72-bf8f-5b6131692e0a"
      },
      "source": [
        "## The following query returns unique combinations of cities and genders from the patients table. If there are male and female patients from the same city, each city-gender pair will appear only once."
      ]
    },
    {
      "cell_type": "code",
      "execution_count": null,
      "id": "a1d9f047-5902-437e-a36b-17c32a916e6a",
      "metadata": {
        "tags": [],
        "id": "a1d9f047-5902-437e-a36b-17c32a916e6a"
      },
      "outputs": [],
      "source": [
        "cursor.execute(\"SELECT DISTINCT CITY, GENDER FROM patients\")\n",
        "res = cursor.fetchall()"
      ]
    },
    {
      "cell_type": "code",
      "execution_count": null,
      "id": "9226f15c-3342-4deb-a3e6-95be69b637f7",
      "metadata": {
        "tags": [],
        "id": "9226f15c-3342-4deb-a3e6-95be69b637f7",
        "outputId": "c8a03d15-0d2c-496e-e115-80266fe4a5c8"
      },
      "outputs": [
        {
          "data": {
            "text/plain": [
              "[('Acton', 'F'),\n",
              " ('Amesbury', 'F'),\n",
              " ('Amherst', 'F'),\n",
              " ('Ashburnham', 'F'),\n",
              " ('Ashfield', 'F'),\n",
              " ('Athol', 'F'),\n",
              " ('Auburn', 'F'),\n",
              " ('Avon', 'F'),\n",
              " ('Becket', 'F'),\n",
              " ('Bedford', 'F')]"
            ]
          },
          "execution_count": 21,
          "metadata": {},
          "output_type": "execute_result"
        }
      ],
      "source": [
        "res[:10]"
      ]
    },
    {
      "cell_type": "markdown",
      "id": "15f76cf8-e824-4e4c-8925-678e825ee560",
      "metadata": {
        "id": "15f76cf8-e824-4e4c-8925-678e825ee560"
      },
      "source": [
        "## Filtering data based on a condition\n",
        "### The WHERE clause filters records that fulfill a specified condition.\n",
        "### e.g: Patients in City = 'Springfield';"
      ]
    },
    {
      "cell_type": "code",
      "execution_count": null,
      "id": "9a422289-6082-4da2-be9a-74055ca49bc1",
      "metadata": {
        "tags": [],
        "id": "9a422289-6082-4da2-be9a-74055ca49bc1"
      },
      "outputs": [],
      "source": [
        "cursor.execute(\"SELECT FIRST, LAST, GENDER, CITY, PASSPORT FROM patients WHERE city = 'Springfield'\")\n",
        "res = cursor.fetchall()"
      ]
    },
    {
      "cell_type": "code",
      "execution_count": null,
      "id": "1cafb616-48f1-4a95-8e7f-453a0869062b",
      "metadata": {
        "tags": [],
        "id": "1cafb616-48f1-4a95-8e7f-453a0869062b",
        "outputId": "41c87b54-0ce5-427a-9c36-41c78576f140"
      },
      "outputs": [
        {
          "data": {
            "text/plain": [
              "[('Jacinto644', 'Kris249', 'M', 'Springfield', ''),\n",
              " ('Jeffrey461', 'Greenfelder433', 'M', 'Springfield', ''),\n",
              " ('Sabina296', 'Flatley871', 'F', 'Springfield', 'X85058581X'),\n",
              " ('Theodora872', 'Johnson679', 'F', 'Springfield', 'X21164602X'),\n",
              " ('Lavera253', 'Anderson154', 'F', 'Springfield', 'X83686992X'),\n",
              " ('Golden321', 'Pollich983', 'F', 'Springfield', ''),\n",
              " ('Georgiann138', 'Greenfelder433', 'F', 'Springfield', 'X58134116X'),\n",
              " ('Fausto876', 'Bechtelar572', 'M', 'Springfield', ''),\n",
              " ('Talisha682', 'Brakus656', 'F', 'Springfield', 'X53645004X'),\n",
              " ('Golden321', 'Durgan499', 'F', 'Springfield', 'X49016634X')]"
            ]
          },
          "execution_count": 23,
          "metadata": {},
          "output_type": "execute_result"
        }
      ],
      "source": [
        "res[:10]"
      ]
    },
    {
      "cell_type": "markdown",
      "id": "1dfbed41-7cfc-4318-a7cb-32c04a6041c0",
      "metadata": {
        "tags": [],
        "id": "1dfbed41-7cfc-4318-a7cb-32c04a6041c0"
      },
      "source": [
        "### Multiple conditions in Selection\n",
        "### e.g 1: Female Patients in City = 'Springfield';"
      ]
    },
    {
      "cell_type": "code",
      "execution_count": null,
      "id": "7fedd1e4-f2f3-48b0-8478-7dd433db59d5",
      "metadata": {
        "tags": [],
        "id": "7fedd1e4-f2f3-48b0-8478-7dd433db59d5"
      },
      "outputs": [],
      "source": [
        "cursor.execute(\"SELECT FIRST, LAST, GENDER, CITY FROM patients WHERE city = 'Springfield' AND gender = 'F'\")\n",
        "res = cursor.fetchall()"
      ]
    },
    {
      "cell_type": "code",
      "execution_count": null,
      "id": "1eebbf72-c064-47a5-9f68-4c928c01b5e0",
      "metadata": {
        "tags": [],
        "id": "1eebbf72-c064-47a5-9f68-4c928c01b5e0",
        "outputId": "3ac101f2-78dd-4698-ec6f-4689bb01f375"
      },
      "outputs": [
        {
          "data": {
            "text/plain": [
              "[('Sabina296', 'Flatley871', 'F', 'Springfield'),\n",
              " ('Theodora872', 'Johnson679', 'F', 'Springfield'),\n",
              " ('Lavera253', 'Anderson154', 'F', 'Springfield'),\n",
              " ('Golden321', 'Pollich983', 'F', 'Springfield'),\n",
              " ('Georgiann138', 'Greenfelder433', 'F', 'Springfield'),\n",
              " ('Talisha682', 'Brakus656', 'F', 'Springfield'),\n",
              " ('Golden321', 'Durgan499', 'F', 'Springfield'),\n",
              " ('Jerrie417', 'Gislason620', 'F', 'Springfield'),\n",
              " ('Venus149', 'Hodkiewicz467', 'F', 'Springfield'),\n",
              " ('Refugia211', 'Wintheiser220', 'F', 'Springfield')]"
            ]
          },
          "execution_count": 26,
          "metadata": {},
          "output_type": "execute_result"
        }
      ],
      "source": [
        "res[:10]"
      ]
    },
    {
      "cell_type": "markdown",
      "id": "24173fb8-d081-461e-bc72-6b81ba1a7fb4",
      "metadata": {
        "id": "24173fb8-d081-461e-bc72-6b81ba1a7fb4"
      },
      "source": [
        "### e.g. Nested selection; Female patients from City Springfield or Boston"
      ]
    },
    {
      "cell_type": "code",
      "execution_count": null,
      "id": "93781fef-dcac-4485-ab87-907fa1a7e365",
      "metadata": {
        "tags": [],
        "id": "93781fef-dcac-4485-ab87-907fa1a7e365"
      },
      "outputs": [],
      "source": [
        "cursor.execute(\"SELECT FIRST, LAST, GENDER, CITY FROM patients WHERE gender = 'F' AND (city = 'Springfield' OR city = 'Boston')\")\n",
        "res = cursor.fetchall()"
      ]
    },
    {
      "cell_type": "code",
      "execution_count": null,
      "id": "743fa106-2ba1-485b-9c76-716364107046",
      "metadata": {
        "tags": [],
        "id": "743fa106-2ba1-485b-9c76-716364107046",
        "outputId": "cd542bf8-302f-4319-9a19-2afc2e8a5c5d"
      },
      "outputs": [
        {
          "data": {
            "text/plain": [
              "[('Christal240', 'Brown30', 'F', 'Boston'),\n",
              " ('María Soledad68', 'Aparicio848', 'F', 'Boston'),\n",
              " ('Leslee214', 'Schumm995', 'F', 'Boston'),\n",
              " ('Sabina296', 'Flatley871', 'F', 'Springfield'),\n",
              " ('Manuela585', 'Lozada73', 'F', 'Boston'),\n",
              " ('Adrian111', 'Davis923', 'F', 'Boston'),\n",
              " ('Theodora872', 'Johnson679', 'F', 'Springfield'),\n",
              " ('Lavera253', 'Anderson154', 'F', 'Springfield'),\n",
              " ('Viola977', 'McGlynn426', 'F', 'Boston'),\n",
              " ('Rene434', 'Schinner682', 'F', 'Boston')]"
            ]
          },
          "execution_count": 28,
          "metadata": {},
          "output_type": "execute_result"
        }
      ],
      "source": [
        "res[:10]"
      ]
    },
    {
      "cell_type": "markdown",
      "id": "03cc02ea-ff21-45e1-8af0-4dfc7b75980e",
      "metadata": {
        "tags": [],
        "id": "03cc02ea-ff21-45e1-8af0-4dfc7b75980e"
      },
      "source": [
        "### Filter on missing data\n",
        "### Filtering on missing data is crucial for maintaining data integrity and ensuring accurate analysis by identifying and handling incomplete records effectively.\n",
        "### Retrieve the first name, last name, gender, and city for all patients who are from Springfield and have a passport number recorded (i.e., the passport field is not empty)."
      ]
    },
    {
      "cell_type": "code",
      "execution_count": null,
      "id": "d4ffeca5-d317-4006-8649-ac1dc6e986c7",
      "metadata": {
        "tags": [],
        "id": "d4ffeca5-d317-4006-8649-ac1dc6e986c7"
      },
      "outputs": [],
      "source": [
        "cursor.execute(\"SELECT FIRST, LAST, GENDER, CITY, PASSPORT FROM patients WHERE city = 'Springfield' AND PASSPORT IS NOT NULL\")\n",
        "res = cursor.fetchall()"
      ]
    },
    {
      "cell_type": "code",
      "execution_count": null,
      "id": "e3e6ee5c-88f9-447d-a905-6fa47edd4a87",
      "metadata": {
        "tags": [],
        "id": "e3e6ee5c-88f9-447d-a905-6fa47edd4a87",
        "outputId": "b91328a1-4cc6-45a4-de3e-8c838cabd0e2"
      },
      "outputs": [
        {
          "data": {
            "text/plain": [
              "[('Jacinto644', 'Kris249', 'M', 'Springfield', ''),\n",
              " ('Jeffrey461', 'Greenfelder433', 'M', 'Springfield', ''),\n",
              " ('Sabina296', 'Flatley871', 'F', 'Springfield', 'X85058581X'),\n",
              " ('Theodora872', 'Johnson679', 'F', 'Springfield', 'X21164602X'),\n",
              " ('Lavera253', 'Anderson154', 'F', 'Springfield', 'X83686992X'),\n",
              " ('Golden321', 'Pollich983', 'F', 'Springfield', ''),\n",
              " ('Georgiann138', 'Greenfelder433', 'F', 'Springfield', 'X58134116X'),\n",
              " ('Fausto876', 'Bechtelar572', 'M', 'Springfield', ''),\n",
              " ('Talisha682', 'Brakus656', 'F', 'Springfield', 'X53645004X'),\n",
              " ('Golden321', 'Durgan499', 'F', 'Springfield', 'X49016634X')]"
            ]
          },
          "execution_count": 31,
          "metadata": {},
          "output_type": "execute_result"
        }
      ],
      "source": [
        "res[:10]"
      ]
    },
    {
      "cell_type": "code",
      "execution_count": null,
      "id": "e5420140-7d54-464f-a249-84cbf7f677fa",
      "metadata": {
        "tags": [],
        "id": "e5420140-7d54-464f-a249-84cbf7f677fa"
      },
      "outputs": [],
      "source": [
        "query = \"\"\"\n",
        "SELECT `FIRST`, `LAST`, `GENDER`, `CITY`, `PASSPORT`\n",
        "FROM patients\n",
        "WHERE `CITY` = 'Springfield' AND `PASSPORT` IS NOT NULL AND `PASSPORT` <> '' AND `PASSPORT` <> ' '\n",
        "\"\"\"\n",
        "cursor.execute(query)\n",
        "res = cursor.fetchall()\n"
      ]
    },
    {
      "cell_type": "code",
      "execution_count": null,
      "id": "8faf9f03-7d65-4b02-a095-40d869c73b58",
      "metadata": {
        "tags": [],
        "id": "8faf9f03-7d65-4b02-a095-40d869c73b58",
        "outputId": "345c5092-76a9-4c5f-c5e0-3d59b4091269"
      },
      "outputs": [
        {
          "data": {
            "text/plain": [
              "[('Sabina296', 'Flatley871', 'F', 'Springfield', 'X85058581X'),\n",
              " ('Theodora872', 'Johnson679', 'F', 'Springfield', 'X21164602X'),\n",
              " ('Lavera253', 'Anderson154', 'F', 'Springfield', 'X83686992X'),\n",
              " ('Georgiann138', 'Greenfelder433', 'F', 'Springfield', 'X58134116X'),\n",
              " ('Talisha682', 'Brakus656', 'F', 'Springfield', 'X53645004X'),\n",
              " ('Golden321', 'Durgan499', 'F', 'Springfield', 'X49016634X'),\n",
              " ('Ty725', 'Schmeler639', 'M', 'Springfield', 'X22960735X'),\n",
              " ('Pilar644', 'Pouros728', 'F', 'Springfield', 'X21434326X'),\n",
              " ('Georgette866', 'Stark857', 'F', 'Springfield', 'X84034866X'),\n",
              " ('Annika454', 'Gutmann970', 'F', 'Springfield', 'X3275916X')]"
            ]
          },
          "execution_count": 33,
          "metadata": {},
          "output_type": "execute_result"
        }
      ],
      "source": [
        "res[:10]"
      ]
    },
    {
      "cell_type": "markdown",
      "id": "dfcd3779-7720-472c-8dbb-03b0c142a25e",
      "metadata": {
        "id": "dfcd3779-7720-472c-8dbb-03b0c142a25e"
      },
      "source": [
        "### Filter and select in numeric range"
      ]
    },
    {
      "cell_type": "markdown",
      "id": "56978f07-d2ae-4d30-8e74-a2a81e938800",
      "metadata": {
        "id": "56978f07-d2ae-4d30-8e74-a2a81e938800"
      },
      "source": [
        "### Patients in City = 'Springfield' where the HEALTHCARE_EXPENSES between 1.5M and 2M"
      ]
    },
    {
      "cell_type": "code",
      "execution_count": null,
      "id": "c03b388f-8d83-4bda-ac42-fb28c728df22",
      "metadata": {
        "tags": [],
        "id": "c03b388f-8d83-4bda-ac42-fb28c728df22",
        "outputId": "b220b3ab-d960-46e9-c0cb-51d575d9b5a6"
      },
      "outputs": [
        {
          "data": {
            "text/plain": [
              "[('Talisha682', 'Brakus656', 'F', 'Springfield'),\n",
              " ('Jerold208', 'Harber290', 'M', 'Springfield'),\n",
              " ('Dean966', 'Tillman293', 'M', 'Springfield'),\n",
              " ('Orval846', 'Cartwright189', 'M', 'Springfield'),\n",
              " ('Jacinto644', 'Abernathy524', 'M', 'Springfield'),\n",
              " ('Bethel526', 'Satterfield305', 'F', 'Springfield'),\n",
              " ('Dorene845', 'Botsford977', 'F', 'Springfield'),\n",
              " ('Lula998', 'Langosh790', 'F', 'Springfield'),\n",
              " ('Deeanna316', 'Koss676', 'F', 'Springfield'),\n",
              " ('Loriann967', 'Torp761', 'F', 'Springfield')]"
            ]
          },
          "execution_count": 34,
          "metadata": {},
          "output_type": "execute_result"
        }
      ],
      "source": [
        "query = \"\"\"\n",
        "SELECT FIRST, LAST, GENDER, CITY FROM patients WHERE city = 'Springfield' AND HEALTHCARE_EXPENSES BETWEEN 1500000 AND 2000000\n",
        "\"\"\"\n",
        "cursor.execute(query)\n",
        "res = cursor.fetchall()\n",
        "res[:10]"
      ]
    },
    {
      "cell_type": "markdown",
      "id": "da7560d8-f4c8-4104-952c-43c08d514376",
      "metadata": {
        "id": "da7560d8-f4c8-4104-952c-43c08d514376"
      },
      "source": [
        "### LIMIT¶\n",
        "### LIMIT specifies the maximum number of records the query will return."
      ]
    },
    {
      "cell_type": "code",
      "execution_count": null,
      "id": "0fe50f3e-ff8e-4d1d-b59c-72303e3dac62",
      "metadata": {
        "tags": [],
        "id": "0fe50f3e-ff8e-4d1d-b59c-72303e3dac62",
        "outputId": "d9863ec9-35b6-4231-a1e2-62aa24803d8d"
      },
      "outputs": [
        {
          "data": {
            "text/plain": [
              "[('FIRST', 'LAST', 'GENDER', 'CITY'),\n",
              " ('Jacinto644', 'Kris249', 'M', 'Springfield'),\n",
              " ('Alva958', 'Krajcik437', 'F', 'Walpole'),\n",
              " ('Jimmie93', 'Harris789', 'F', 'Pembroke'),\n",
              " ('Gregorio366', 'Auer97', 'M', 'Boston'),\n",
              " ('Karyn217', 'Mueller846', 'F', 'Colrain'),\n",
              " ('Jayson808', 'Fadel536', 'M', 'Chicopee'),\n",
              " ('José Eduardo181', 'Gómez206', 'M', 'Chicopee'),\n",
              " ('Milo271', 'Feil794', 'M', 'Somerville'),\n",
              " ('Karyn217', 'Metz686', 'F', 'Medfield'),\n",
              " ('Jeffrey461', 'Greenfelder433', 'M', 'Springfield'),\n",
              " ('Mariana775', 'Gulgowski816', 'F', 'Lowell'),\n",
              " ('Leann224', 'Deckow585', 'F', 'Needham'),\n",
              " ('Isabel214', 'Hinojosa147', 'F', 'Fall River'),\n",
              " ('Christal240', 'Brown30', 'F', 'Boston'),\n",
              " ('Carmelia328', 'Konopelski743', 'F', 'Ashland'),\n",
              " ('Raye931', 'Wyman904', 'F', 'Quincy'),\n",
              " ('Lisbeth69', 'Rowe323', 'F', 'Malden'),\n",
              " ('Amada498', 'Spinka232', 'F', 'Foxborough'),\n",
              " ('Cythia210', 'Reichel38', 'F', 'Peabody')]"
            ]
          },
          "execution_count": 35,
          "metadata": {},
          "output_type": "execute_result"
        }
      ],
      "source": [
        "query = \"\"\"\n",
        "SELECT FIRST, LAST, GENDER, CITY FROM patients LIMIT 20\n",
        "\"\"\"\n",
        "cursor.execute(query)\n",
        "res = cursor.fetchall()\n",
        "res"
      ]
    },
    {
      "cell_type": "markdown",
      "id": "0365bcf3-62c0-4b9f-be5f-adb711cea693",
      "metadata": {
        "id": "0365bcf3-62c0-4b9f-be5f-adb711cea693"
      },
      "source": [
        "### ORDER BY and ASC¶\n",
        "### This query returns the first 20 patients from the patients table, ordered alphabetically by their last name."
      ]
    },
    {
      "cell_type": "code",
      "execution_count": null,
      "id": "70f6c048-7e5c-4985-ba77-40c77b67f6db",
      "metadata": {
        "tags": [],
        "id": "70f6c048-7e5c-4985-ba77-40c77b67f6db",
        "outputId": "e715c755-80a9-4907-d1b9-6f0cc2cdd0d7"
      },
      "outputs": [
        {
          "data": {
            "text/plain": [
              "[('Alvaro283', 'Abbott774', 'M', 'Plymouth'),\n",
              " ('Seth414', 'Abbott774', 'M', 'Lawrence'),\n",
              " ('Jesus702', 'Abbott774', 'M', 'Boston'),\n",
              " ('Laine739', 'Abbott774', 'F', 'Agawam'),\n",
              " ('Cyril535', 'Abbott774', 'M', 'Millis'),\n",
              " ('Clement78', 'Abbott774', 'M', 'Chicopee'),\n",
              " ('Jim478', 'Abbott774', 'M', 'Dover'),\n",
              " ('Jc393', 'Abbott774', 'M', 'Westfield'),\n",
              " ('Jimmy858', 'Abbott774', 'M', 'Lowell'),\n",
              " ('Freddie621', 'Abbott774', 'M', 'Boston'),\n",
              " ('Jackqueline794', 'Abbott774', 'F', 'Randolph'),\n",
              " ('Grant908', 'Abbott774', 'M', 'Arlington'),\n",
              " ('Lauri399', 'Abbott774', 'F', 'Springfield'),\n",
              " ('Lelia627', 'Abbott774', 'F', 'Gloucester'),\n",
              " ('Bernetta267', 'Abbott774', 'F', 'Ware'),\n",
              " ('Rhona164', 'Abbott774', 'F', 'Stoneham'),\n",
              " ('Darrin898', 'Abbott774', 'M', 'Newton'),\n",
              " ('Carry843', 'Abbott774', 'F', 'Attleboro'),\n",
              " ('Miesha237', 'Abbott774', 'F', 'Stoneham'),\n",
              " ('Charles364', 'Abbott774', 'M', 'Brockton')]"
            ]
          },
          "execution_count": 36,
          "metadata": {},
          "output_type": "execute_result"
        }
      ],
      "source": [
        "query = \"\"\"\n",
        "SELECT FIRST, LAST, GENDER, CITY FROM patients ORDER BY LAST ASC LIMIT 20\n",
        "\"\"\"\n",
        "cursor.execute(query)\n",
        "res = cursor.fetchall()\n",
        "res"
      ]
    },
    {
      "cell_type": "markdown",
      "id": "03afc4a7-b44d-401a-8a9b-c547618db434",
      "metadata": {
        "id": "03afc4a7-b44d-401a-8a9b-c547618db434"
      },
      "source": [
        "### ORDER BY and DESC\n",
        "### This query returns the first 20 patients from the patients table, ordered reverse alphabetically by their first name."
      ]
    },
    {
      "cell_type": "code",
      "execution_count": null,
      "id": "79523c22-cd61-434f-9661-b59494fbca1f",
      "metadata": {
        "tags": [],
        "id": "79523c22-cd61-434f-9661-b59494fbca1f",
        "outputId": "dfc26e8d-30eb-4c49-a4ca-d9d769ce8a91"
      },
      "outputs": [
        {
          "data": {
            "text/plain": [
              "[('Óscar156', 'Valenzuela371', 'M', 'Boston'),\n",
              " ('Óscar156', 'Ojeda263', 'M', 'Boston'),\n",
              " ('Óscar156', 'Sandoval902', 'M', 'Wilmington'),\n",
              " ('Óscar156', 'Castillo397', 'M', 'Holyoke'),\n",
              " ('Óscar156', 'Cabrera242', 'M', 'Newburyport'),\n",
              " ('Óscar156', 'Carrillo204', 'M', 'Methuen'),\n",
              " ('Óscar156', 'Bañuelos542', 'M', 'Brookline'),\n",
              " ('Óscar156', 'Ureña88', 'M', 'Bedford'),\n",
              " ('Óscar156', 'Vélez150', 'M', 'Boston'),\n",
              " ('Óscar156', 'Rendón540', 'M', 'Wilbraham'),\n",
              " ('Óscar156', 'Arias66', 'M', 'Cambridge'),\n",
              " ('Óscar156', 'Quiroz936', 'M', 'Springfield'),\n",
              " ('Óscar156', 'Candelaria844', 'M', 'Middleton'),\n",
              " ('Óscar156', 'Miranda712', 'M', 'Nahant'),\n",
              " ('Óscar156', 'Toro760', 'M', 'North Attleborough'),\n",
              " ('Óscar156', 'Dávila115', 'M', 'Melrose'),\n",
              " ('Óscar156', 'Santacruz647', 'M', 'Boston'),\n",
              " ('Óscar156', 'Carrillo204', 'M', 'Springfield'),\n",
              " ('Óscar156', 'Rodrígez614', 'M', 'Leominster'),\n",
              " ('Óscar156', 'Villareal516', 'M', 'Beverly')]"
            ]
          },
          "execution_count": 37,
          "metadata": {},
          "output_type": "execute_result"
        }
      ],
      "source": [
        "query = \"\"\"\n",
        "SELECT FIRST, LAST, GENDER, CITY FROM patients ORDER BY FIRST DESC LIMIT 20\n",
        "\"\"\"\n",
        "cursor.execute(query)\n",
        "res = cursor.fetchall()\n",
        "res"
      ]
    },
    {
      "cell_type": "markdown",
      "id": "c526c0d2-e2a9-4360-920e-dc30e9cffa85",
      "metadata": {
        "id": "c526c0d2-e2a9-4360-920e-dc30e9cffa85"
      },
      "source": [
        "### Aggregating Data using GROUP BY\n",
        "### Counting Patients by City"
      ]
    },
    {
      "cell_type": "code",
      "execution_count": null,
      "id": "a146a962-a116-4ab6-b3a5-0cb619ffdf87",
      "metadata": {
        "tags": [],
        "id": "a146a962-a116-4ab6-b3a5-0cb619ffdf87"
      },
      "outputs": [],
      "source": [
        "query = \"\"\"\n",
        "SELECT CITY, COUNT(*) AS patient_count FROM patients GROUP BY CITY\n",
        "\"\"\"\n",
        "cursor.execute(query)\n",
        "res = cursor.fetchall()"
      ]
    },
    {
      "cell_type": "code",
      "execution_count": null,
      "id": "f0d09169-688c-4932-9c2f-b27ffc65d2c9",
      "metadata": {
        "tags": [],
        "id": "f0d09169-688c-4932-9c2f-b27ffc65d2c9",
        "outputId": "85363544-49cd-4350-c106-84f10a9d866c"
      },
      "outputs": [
        {
          "data": {
            "text/plain": [
              "[('Acushnet', 233),\n",
              " ('Adams', 167),\n",
              " ('Agawam', 541),\n",
              " ('Andover', 651),\n",
              " ('Aquinnah', 4),\n",
              " ('Arlington', 829),\n",
              " ('Ashburnham', 120),\n",
              " ('Ashby', 48),\n",
              " ('Ashland', 296),\n",
              " ('Athol', 193),\n",
              " ('Attleboro', 843),\n",
              " ('Ayer', 108),\n",
              " ('Barnstable', 869),\n",
              " ('Bellingham', 317),\n",
              " ('Belmont', 440),\n",
              " ('Berkley', 143),\n",
              " ('Bernardston', 32),\n",
              " ('Beverly', 778),\n",
              " ('Blackstone', 174),\n",
              " ('Bolton', 79)]"
            ]
          },
          "execution_count": 40,
          "metadata": {},
          "output_type": "execute_result"
        }
      ],
      "source": [
        "res[:20]"
      ]
    },
    {
      "cell_type": "markdown",
      "id": "53ed0686-b9c2-4481-bbcf-641bc27615a1",
      "metadata": {
        "id": "53ed0686-b9c2-4481-bbcf-641bc27615a1"
      },
      "source": [
        "## Counting Patients by City and sorting them highest to lowest¶"
      ]
    },
    {
      "cell_type": "code",
      "execution_count": null,
      "id": "b82b431f-03b6-4f57-84b8-9df2c7530bdc",
      "metadata": {
        "tags": [],
        "id": "b82b431f-03b6-4f57-84b8-9df2c7530bdc",
        "outputId": "1291ad13-6e6b-450d-a5e5-fae3e0680d02"
      },
      "outputs": [
        {
          "data": {
            "text/plain": [
              "[('Boston', 11496),\n",
              " ('Worcester', 3263),\n",
              " ('Springfield', 2814),\n",
              " ('Cambridge', 2044),\n",
              " ('Lowell', 2027),\n",
              " ('Brockton', 1833),\n",
              " ('Lynn', 1714),\n",
              " ('New Bedford', 1706),\n",
              " ('Quincy', 1698),\n",
              " ('Newton', 1695),\n",
              " ('Fall River', 1608),\n",
              " ('Lawrence', 1505),\n",
              " ('Somerville', 1397),\n",
              " ('Framingham', 1270),\n",
              " ('Haverhill', 1189),\n",
              " ('Chicopee', 1151),\n",
              " ('Malden', 1137),\n",
              " ('Brookline', 1120),\n",
              " ('Waltham', 1115),\n",
              " ('Weymouth', 1079),\n",
              " ('Medford', 1042),\n",
              " ('Peabody', 975),\n",
              " ('Plymouth', 972),\n",
              " ('Revere', 964),\n",
              " ('Taunton', 961),\n",
              " ('Methuen', 898),\n",
              " ('Barnstable', 869),\n",
              " ('Everett', 867),\n",
              " ('Pittsfield', 851),\n",
              " ('Attleboro', 843)]"
            ]
          },
          "execution_count": 41,
          "metadata": {},
          "output_type": "execute_result"
        }
      ],
      "source": [
        "query = \"\"\"\n",
        "SELECT CITY, COUNT(*) AS patient_count FROM patients GROUP BY CITY ORDER BY patient_count DESC\n",
        "\"\"\"\n",
        "cursor.execute(query)\n",
        "res = cursor.fetchall()\n",
        "res[:30]"
      ]
    },
    {
      "cell_type": "markdown",
      "id": "46c89aea-0f2f-4465-aeb3-acedd4cda16d",
      "metadata": {
        "id": "46c89aea-0f2f-4465-aeb3-acedd4cda16d"
      },
      "source": [
        "### Total Number of Patients by Gender in Each City"
      ]
    },
    {
      "cell_type": "code",
      "execution_count": null,
      "id": "8c664dec-c3b2-4026-a88b-7ba46a92cbbb",
      "metadata": {
        "tags": [],
        "id": "8c664dec-c3b2-4026-a88b-7ba46a92cbbb",
        "outputId": "24682461-c8c7-495e-f234-ad9463ef8f47"
      },
      "outputs": [
        {
          "data": {
            "text/plain": [
              "[('Boston', 'F', 5840),\n",
              " ('Boston', 'M', 5656),\n",
              " ('Worcester', 'M', 1694),\n",
              " ('Worcester', 'F', 1569),\n",
              " ('Springfield', 'M', 1463),\n",
              " ('Springfield', 'F', 1351),\n",
              " ('Cambridge', 'M', 1023),\n",
              " ('Cambridge', 'F', 1021),\n",
              " ('Lowell', 'F', 1015),\n",
              " ('Lowell', 'M', 1012)]"
            ]
          },
          "execution_count": 42,
          "metadata": {},
          "output_type": "execute_result"
        }
      ],
      "source": [
        "query = \"\"\"\n",
        "SELECT CITY, GENDER, COUNT(*) AS total_patients FROM patients GROUP BY CITY, GENDER ORDER BY total_patients DESC LIMIT 10\"\"\"\n",
        "cursor.execute(query)\n",
        "res = cursor.fetchall()\n",
        "res"
      ]
    },
    {
      "cell_type": "markdown",
      "id": "a58cc227-a5c9-4a93-aeeb-2b78e53057f3",
      "metadata": {
        "id": "a58cc227-a5c9-4a93-aeeb-2b78e53057f3"
      },
      "source": [
        "## Lets look at another Table"
      ]
    },
    {
      "cell_type": "code",
      "execution_count": null,
      "id": "eafaf696-b682-40fb-b18e-a8591d117de9",
      "metadata": {
        "tags": [],
        "id": "eafaf696-b682-40fb-b18e-a8591d117de9",
        "outputId": "e6b52237-2300-4b57-e92d-49040de0bcb3"
      },
      "outputs": [
        {
          "data": {
            "text/plain": [
              "[('date', 'string', ''),\n",
              " ('patient', 'string', ''),\n",
              " ('encounter', 'string', ''),\n",
              " ('code', 'string', ''),\n",
              " ('description', 'string', ''),\n",
              " ('value', 'string', ''),\n",
              " ('units', 'string', ''),\n",
              " ('type', 'string', '')]"
            ]
          },
          "execution_count": 43,
          "metadata": {},
          "output_type": "execute_result"
        }
      ],
      "source": [
        "query = \"\"\"\n",
        "DESCRIBE observations\"\"\"\n",
        "cursor.execute(query)\n",
        "res = cursor.fetchall()\n",
        "res"
      ]
    },
    {
      "cell_type": "markdown",
      "id": "eea4157f-475f-434d-9cf6-c411a9fdbb0a",
      "metadata": {
        "id": "eea4157f-475f-434d-9cf6-c411a9fdbb0a"
      },
      "source": [
        "## Average Heart Rate by Patient"
      ]
    },
    {
      "cell_type": "code",
      "execution_count": null,
      "id": "8dc3fb4c-f3ce-4116-9e8b-c3f96f95607a",
      "metadata": {
        "tags": [],
        "id": "8dc3fb4c-f3ce-4116-9e8b-c3f96f95607a",
        "outputId": "07bc196c-2ca2-488f-d37d-f466ada4ada2"
      },
      "outputs": [
        {
          "data": {
            "text/plain": [
              "[('8cea2d7e-6227-4924-a340-18eafb8564ac', Decimal('200.00')),\n",
              " ('6ec823e7-839e-4491-8b6f-6b275951b456', Decimal('200.00')),\n",
              " ('c10db4e1-de51-495f-98ab-8322c6d9550a', Decimal('200.00')),\n",
              " ('0191f8aa-96dc-41e6-b718-312686a7a867', Decimal('200.00')),\n",
              " ('ff2209f2-a4c9-4737-9aa7-adc8d71b6961', Decimal('200.00')),\n",
              " ('b0112890-a24a-4564-b2b3-9b77879e5e79', Decimal('199.90')),\n",
              " ('04dd3439-2116-4f9a-b40e-a84395cf6f21', Decimal('199.90')),\n",
              " ('18f53179-2449-47af-b4da-a9e51095076f', Decimal('199.90')),\n",
              " ('9cc52681-4446-4e4a-80be-63418dd06e66', Decimal('199.90')),\n",
              " ('46ea7226-63f6-404f-bbed-904ea39f706d', Decimal('199.90')),\n",
              " ('a05e3bd1-1c51-453a-9969-646cb0168d23', Decimal('199.90')),\n",
              " ('c3d165d2-597e-45a8-8331-f3338ce19fdf', Decimal('199.90')),\n",
              " ('ec1ce32c-57a3-44c4-8f64-e050f2f94e03', Decimal('199.90')),\n",
              " ('bd6784c0-3529-4a12-87bd-746affb17739', Decimal('199.80')),\n",
              " ('2d4f57ee-4001-44f8-9a94-c1885f26b408', Decimal('199.80')),\n",
              " ('3e5c63bf-65fe-48bb-8361-6b21a909888a', Decimal('199.80')),\n",
              " ('371e14a1-31bd-4407-bdbb-4078781fde05', Decimal('199.80')),\n",
              " ('423f79cf-f7b8-41cd-bb3c-8459084f88eb', Decimal('199.80')),\n",
              " ('464fe06b-e0a4-427c-89dd-f8647537c859', Decimal('199.70')),\n",
              " ('7ce77bba-98c3-4eb7-8fd7-4a9a7a9074d8', Decimal('199.70'))]"
            ]
          },
          "execution_count": 44,
          "metadata": {},
          "output_type": "execute_result"
        }
      ],
      "source": [
        "query = \"\"\"\n",
        "SELECT PATIENT, ROUND(AVG(CAST(VALUE AS DECIMAL(10,6))), 2) AS average_heart_rate FROM observations WHERE DESCRIPTION LIKE '%Heart rate%' GROUP BY PATIENT ORDER BY average_heart_rate DESC LIMIT 20\"\"\"\n",
        "cursor.execute(query)\n",
        "res = cursor.fetchall()\n",
        "res"
      ]
    },
    {
      "cell_type": "markdown",
      "id": "01ce63c2-e428-4235-8965-9639f96b85aa",
      "metadata": {
        "id": "01ce63c2-e428-4235-8965-9639f96b85aa"
      },
      "source": [
        "## Lets look at another table"
      ]
    },
    {
      "cell_type": "code",
      "execution_count": null,
      "id": "b3a9cdab-7d2d-4cd3-870f-5e34c329bda7",
      "metadata": {
        "tags": [],
        "id": "b3a9cdab-7d2d-4cd3-870f-5e34c329bda7",
        "outputId": "d446ba03-effb-4544-a0e0-3a759d158542"
      },
      "outputs": [
        {
          "data": {
            "text/plain": [
              "[('start', 'string', ''),\n",
              " ('stop', 'string', ''),\n",
              " ('patient', 'string', ''),\n",
              " ('payer', 'string', ''),\n",
              " ('encounter', 'string', ''),\n",
              " ('code', 'string', ''),\n",
              " ('description', 'string', ''),\n",
              " ('base_cost', 'double', ''),\n",
              " ('payer_coverage', 'double', ''),\n",
              " ('dispenses', 'int', ''),\n",
              " ('totalcost', 'double', ''),\n",
              " ('reasoncode', 'string', ''),\n",
              " ('reasondescription', 'string', '')]"
            ]
          },
          "execution_count": 48,
          "metadata": {},
          "output_type": "execute_result"
        }
      ],
      "source": [
        "query = \"\"\"\n",
        "DESCRIBE medications\"\"\"\n",
        "cursor.execute(query)\n",
        "res = cursor.fetchall()\n",
        "res"
      ]
    },
    {
      "cell_type": "markdown",
      "id": "b7ede45f-bda7-42cc-b7b5-76bccace081a",
      "metadata": {
        "id": "b7ede45f-bda7-42cc-b7b5-76bccace081a"
      },
      "source": [
        "## Top 10 Most Common Vaccine Administered"
      ]
    },
    {
      "cell_type": "code",
      "execution_count": null,
      "id": "5207dcf2-8690-42cc-9cf9-31c437649937",
      "metadata": {
        "tags": [],
        "id": "5207dcf2-8690-42cc-9cf9-31c437649937",
        "outputId": "ac8bada3-f971-4de7-bb74-b9958532579d"
      },
      "outputs": [
        {
          "data": {
            "text/plain": [
              "[('Hydrochlorothiazide 25 MG Oral Tablet', 524631),\n",
              " ('insulin human  isophane 70 UNT/ML / Regular Insulin  Human 30 UNT/ML Injectable Suspension [Humulin]',\n",
              "  499654),\n",
              " ('amLODIPine 5 MG / Hydrochlorothiazide 12.5 MG / Olmesartan medoxomil 20 MG Oral Tablet',\n",
              "  373385),\n",
              " ('Atenolol 50 MG / Chlorthalidone 25 MG Oral Tablet', 362902),\n",
              " ('24 HR Metformin hydrochloride 500 MG Extended Release Oral Tablet', 348524),\n",
              " ('Simvastatin 10 MG Oral Tablet', 260438),\n",
              " ('NDA020503 200 ACTUAT Albuterol 0.09 MG/ACTUAT Metered Dose Inhaler',\n",
              "  247887),\n",
              " ('120 ACTUAT Fluticasone propionate 0.044 MG/ACTUAT Metered Dose Inhaler',\n",
              "  236707),\n",
              " ('Hydrochlorothiazide 12.5 MG', 196494),\n",
              " ('Nitroglycerin 0.4 MG/ACTUAT Mucosal Spray', 131735)]"
            ]
          },
          "execution_count": 51,
          "metadata": {},
          "output_type": "execute_result"
        }
      ],
      "source": [
        "query = \"\"\"\n",
        "SELECT DESCRIPTION, COUNT(*) AS count FROM medications GROUP BY DESCRIPTION ORDER BY count DESC LIMIT 10\n",
        "\"\"\"\n",
        "cursor.execute(query)\n",
        "res = cursor.fetchall()\n",
        "res"
      ]
    },
    {
      "cell_type": "markdown",
      "id": "93a8deea-91a2-4376-99d6-bd686bf71cf4",
      "metadata": {
        "id": "93a8deea-91a2-4376-99d6-bd686bf71cf4"
      },
      "source": [
        "## JOINS"
      ]
    },
    {
      "cell_type": "markdown",
      "id": "e7043a9b-4cd4-404c-95ee-307ce0a40117",
      "metadata": {
        "id": "e7043a9b-4cd4-404c-95ee-307ce0a40117"
      },
      "source": [
        "## INNER JOIN - Find Matching Records\n",
        "### Question: Which medical treatments have been administered to patients, including the patient's name and the cost of each treatment?"
      ]
    },
    {
      "cell_type": "code",
      "execution_count": null,
      "id": "555bfd4c-3263-4610-acb9-797ce01145a2",
      "metadata": {
        "tags": [],
        "id": "555bfd4c-3263-4610-acb9-797ce01145a2",
        "outputId": "0011cb72-bc41-4f9c-97cb-c440e2ab1955"
      },
      "outputs": [
        {
          "data": {
            "text/plain": [
              "[('Aaron697', 'Swaniawski813', 'Hydrochlorothiazide 12.5 MG', 263.49),\n",
              " ('Aaron697', 'Swaniawski813', 'Hydrochlorothiazide 12.5 MG', 263.49),\n",
              " ('Aaron697', 'Swaniawski813', 'Hydrochlorothiazide 12.5 MG', 263.49),\n",
              " ('Aaron697', 'Swaniawski813', 'Hydrochlorothiazide 12.5 MG', 263.49),\n",
              " ('Aaron697', 'Swaniawski813', 'Hydrochlorothiazide 12.5 MG', 263.49),\n",
              " ('Aaron697', 'Swaniawski813', 'Hydrochlorothiazide 12.5 MG', 263.49),\n",
              " ('Aaron697', 'Swaniawski813', 'Hydrochlorothiazide 12.5 MG', 263.49),\n",
              " ('Aaron697', 'Swaniawski813', 'Hydrochlorothiazide 12.5 MG', 263.49),\n",
              " ('Aaron697', 'Swaniawski813', 'Hydrochlorothiazide 12.5 MG', 263.49),\n",
              " ('Aaron697', 'Swaniawski813', 'Hydrochlorothiazide 12.5 MG', 263.49)]"
            ]
          },
          "execution_count": 52,
          "metadata": {},
          "output_type": "execute_result"
        }
      ],
      "source": [
        "query = \"\"\"\n",
        "SELECT patients.FIRST, patients.LAST, medications.DESCRIPTION, medications.BASE_COST FROM medications INNER JOIN patients ON medications.PATIENT = patients.Id ORDER BY patients.FIRST ASC\"\"\"\n",
        "cursor.execute(query)\n",
        "res = cursor.fetchall()\n",
        "res[:10]"
      ]
    },
    {
      "cell_type": "markdown",
      "id": "a4f5c5b0-942b-4a50-87bf-56a04c772265",
      "metadata": {
        "id": "a4f5c5b0-942b-4a50-87bf-56a04c772265"
      },
      "source": [
        "## String Functions"
      ]
    },
    {
      "cell_type": "markdown",
      "id": "1e283edb-7ae8-492d-947b-008b24488d04",
      "metadata": {
        "id": "1e283edb-7ae8-492d-947b-008b24488d04"
      },
      "source": [
        "## CONCAT: Concatenates two or more strings."
      ]
    },
    {
      "cell_type": "code",
      "execution_count": null,
      "id": "d47c0150-364a-43d2-b854-d24316c1b26a",
      "metadata": {
        "tags": [],
        "id": "d47c0150-364a-43d2-b854-d24316c1b26a",
        "outputId": "87ef59e0-2412-436f-8e65-d63ed0a46268"
      },
      "outputs": [
        {
          "data": {
            "text/plain": [
              "[('FIRST LAST',),\n",
              " ('Jacinto644 Kris249',),\n",
              " ('Alva958 Krajcik437',),\n",
              " ('Jimmie93 Harris789',),\n",
              " ('Gregorio366 Auer97',),\n",
              " ('Karyn217 Mueller846',),\n",
              " ('Jayson808 Fadel536',),\n",
              " ('José Eduardo181 Gómez206',),\n",
              " ('Milo271 Feil794',),\n",
              " ('Karyn217 Metz686',)]"
            ]
          },
          "execution_count": 53,
          "metadata": {},
          "output_type": "execute_result"
        }
      ],
      "source": [
        "query = \"\"\"\n",
        "SELECT CONCAT(FIRST, ' ', LAST) AS FullName FROM patients LIMIT 10\n",
        "\"\"\"\n",
        "cursor.execute(query)\n",
        "res = cursor.fetchall()\n",
        "res[]"
      ]
    },
    {
      "cell_type": "markdown",
      "id": "702fd7a1-d62b-4e68-8540-c0f9a14a87c7",
      "metadata": {
        "id": "702fd7a1-d62b-4e68-8540-c0f9a14a87c7"
      },
      "source": [
        "## DATALENGTH: Returns the number of bytes used to represent any expression."
      ]
    },
    {
      "cell_type": "code",
      "execution_count": null,
      "id": "37b3597f-74d0-4f7b-ab25-37e1da119cd2",
      "metadata": {
        "tags": [],
        "id": "37b3597f-74d0-4f7b-ab25-37e1da119cd2",
        "outputId": "2a2d856d-00da-4832-d27f-dad124652d55"
      },
      "outputs": [
        {
          "data": {
            "text/plain": [
              "[('Jacinto644', 10),\n",
              " ('Alva958', 7),\n",
              " ('Jimmie93', 8),\n",
              " ('Gregorio366', 11),\n",
              " ('Karyn217', 8),\n",
              " ('Jayson808', 9),\n",
              " ('José Eduardo181', 15),\n",
              " ('Milo271', 7),\n",
              " ('Karyn217', 8)]"
            ]
          },
          "execution_count": 55,
          "metadata": {},
          "output_type": "execute_result"
        }
      ],
      "source": [
        "query = \"\"\"\n",
        "SELECT FIRST, LENGTH(FIRST) AS LengthInBytes FROM patients LIMIT 10\n",
        "\"\"\"\n",
        "cursor.execute(query)\n",
        "res = cursor.fetchall()\n",
        "res[1:]"
      ]
    },
    {
      "cell_type": "markdown",
      "source": [
        "# Hadoop Filesystem - demo only"
      ],
      "metadata": {
        "id": "dcIYsgpxEsLg"
      },
      "id": "dcIYsgpxEsLg"
    },
    {
      "cell_type": "code",
      "source": [
        "## HDFS File System Check (fsck)\n",
        "\n",
        "hdfs fsck /\n",
        "hdfs fsck /user/hive/warehouse -files -blocks -locations\n",
        "\n",
        "## The first command checks the entire file system, while the second one checks a specific directory and lists all files, blocks, and their locations."
      ],
      "metadata": {
        "id": "lgvFGKuiErQB"
      },
      "id": "lgvFGKuiErQB",
      "execution_count": null,
      "outputs": []
    },
    {
      "cell_type": "code",
      "source": [
        "## HDFS Status (dfsadmin)\n",
        "## The hdfs dfsadmin command provides various administrative options. For checking the status of the HDFS, you can use:\n",
        "\n",
        "hdfs dfsadmin -report\n"
      ],
      "metadata": {
        "id": "yf6wJycyFKUE"
      },
      "id": "yf6wJycyFKUE",
      "execution_count": null,
      "outputs": []
    },
    {
      "cell_type": "markdown",
      "id": "3bc014d3-dcae-4d94-b6dd-7f04469ab484",
      "metadata": {
        "id": "3bc014d3-dcae-4d94-b6dd-7f04469ab484"
      },
      "source": [
        "#  Thank you! :)"
      ]
    }
  ],
  "metadata": {
    "kernelspec": {
      "display_name": "Python 3 (ipykernel)",
      "language": "python",
      "name": "python3"
    },
    "language_info": {
      "codemirror_mode": {
        "name": "ipython",
        "version": 3
      },
      "file_extension": ".py",
      "mimetype": "text/x-python",
      "name": "python",
      "nbconvert_exporter": "python",
      "pygments_lexer": "ipython3",
      "version": "3.11.5"
    },
    "colab": {
      "provenance": [],
      "include_colab_link": true
    }
  },
  "nbformat": 4,
  "nbformat_minor": 5
}
